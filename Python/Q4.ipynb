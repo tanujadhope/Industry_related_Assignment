{
 "cells": [
  {
   "cell_type": "code",
   "execution_count": 18,
   "id": "0334c112",
   "metadata": {},
   "outputs": [],
   "source": [
    "##question 4\n",
    "import requests\n",
    "import json\n",
    "import csv\n",
    "import pandas as pd\n"
   ]
  },
  {
   "cell_type": "code",
   "execution_count": 19,
   "id": "944804a1",
   "metadata": {},
   "outputs": [],
   "source": [
    "\n",
    "# Function to download data from the given URL\n",
    "def download_data(url):\n",
    "    response = requests.get(url)\n",
    "    data = response.json()\n",
    "    return data"
   ]
  },
  {
   "cell_type": "code",
   "execution_count": 24,
   "id": "5579fa35",
   "metadata": {},
   "outputs": [],
   "source": [
    "def convert_to_structured_data(data):\n",
    "   \n",
    "    structured_data = []\n",
    "    \n",
    "    for i in data:\n",
    "        # Extracting relevant attributes from the JSON data with error handling\n",
    "        name = i.get('name', '')\n",
    "        id = int(i.get('id', 0))\n",
    "        nametype = i.get('nametype', '')\n",
    "        recclass = i.get('recclass', '')\n",
    "        mass = float(i.get('mass', 0))\n",
    "        year = i.get('year', '')\n",
    "        reclat = float(i.get('reclat', 0))\n",
    "        reclong = float(i.get('reclong', 0))\n",
    "        coordinates = i.get('geolocation', {}).get('coordinates', [])\n",
    "        \n",
    "        # Creating a structured dictionary for each item\n",
    "        structured_item = {\n",
    "            'Name of Earth Meteorite': name,\n",
    "            'id': id,\n",
    "            'nametype': nametype,\n",
    "            'recclass': recclass,\n",
    "            'mass': mass,\n",
    "            'year': year,\n",
    "            'reclat': reclat,\n",
    "            'reclong': reclong,\n",
    "            'point coordinates': coordinates\n",
    "        }\n",
    "        \n",
    "        structured_data.append(structured_item)\n",
    "    return structured_data       "
   ]
  },
  {
   "cell_type": "code",
   "execution_count": 25,
   "id": "95e5a448",
   "metadata": {},
   "outputs": [],
   "source": [
    "# Function to export the data to an Excel file\n",
    "def export_to_csv(data, file_name):\n",
    "    df = pd.DataFrame(data)\n",
    "    df.to_csv(file_name, index=False)"
   ]
  },
  {
   "cell_type": "code",
   "execution_count": 26,
   "id": "e555ce30",
   "metadata": {},
   "outputs": [
    {
     "name": "stdout",
     "output_type": "stream",
     "text": [
      "Data exported to meteorite_data.csv\n"
     ]
    }
   ],
   "source": [
    "url = \"https://data.nasa.gov/resource/y77d-th95.json\"\n",
    "file_name = \"meteorite_data.csv\"\n",
    "    \n",
    "# Download data\n",
    "data = download_data(url)\n",
    "    \n",
    "# Convert data to a structured format\n",
    "structured_data = convert_to_structured_data(data)\n",
    "    \n",
    "# Export data to CSV\n",
    "export_to_csv(structured_data, file_name)\n",
    "print(\"Data exported to\", file_name)"
   ]
  },
  {
   "cell_type": "code",
   "execution_count": null,
   "id": "a8c6de2d",
   "metadata": {},
   "outputs": [],
   "source": []
  },
  {
   "cell_type": "code",
   "execution_count": null,
   "id": "12bb275d",
   "metadata": {},
   "outputs": [],
   "source": []
  }
 ],
 "metadata": {
  "kernelspec": {
   "display_name": "Python 3 (ipykernel)",
   "language": "python",
   "name": "python3"
  },
  "language_info": {
   "codemirror_mode": {
    "name": "ipython",
    "version": 3
   },
   "file_extension": ".py",
   "mimetype": "text/x-python",
   "name": "python",
   "nbconvert_exporter": "python",
   "pygments_lexer": "ipython3",
   "version": "3.9.10"
  }
 },
 "nbformat": 4,
 "nbformat_minor": 5
}
