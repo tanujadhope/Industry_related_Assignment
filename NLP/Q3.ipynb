{
 "cells": [
  {
   "cell_type": "markdown",
   "id": "4bbb5cae",
   "metadata": {},
   "source": [
    "Q-3. from question 2, As you got the CSV and now you need perform key word\n",
    "extraction from that csv file and do the Topic modeling\n"
   ]
  },
  {
   "cell_type": "code",
   "execution_count": 2,
   "id": "c9ff8c3f",
   "metadata": {},
   "outputs": [],
   "source": [
    "import pandas as pd\n",
    "from sklearn.feature_extraction.text import TfidfVectorizer\n",
    "from nltk.tokenize import word_tokenize\n",
    "from nltk.corpus import stopwords\n",
    "from nltk.stem import WordNetLemmatizer"
   ]
  },
  {
   "cell_type": "code",
   "execution_count": 5,
   "id": "3c60688e",
   "metadata": {},
   "outputs": [
    {
     "name": "stdout",
     "output_type": "stream",
     "text": [
      "                                                Text  \\\n",
      "0  Example 3.1 If a total of 33 MHz of bandwidth ...   \n",
      "\n",
      "                                      Processed_Text  \\\n",
      "0  example total mhz bandwidth allocated particul...   \n",
      "\n",
      "                             Top_Keywords  \n",
      "0  [channel, cell, voice, control, would]  \n"
     ]
    }
   ],
   "source": [
    "\n",
    "\n",
    "# Read the data into a pandas DataFrame\n",
    "df = pd.read_csv('file.csv')\n",
    "\n",
    "# Initialize the lemmatizer and stopwords\n",
    "lemmatizer = WordNetLemmatizer()\n",
    "stop_words = set(stopwords.words('english'))\n",
    "\n",
    "# Preprocess the text column\n",
    "def preprocess_text(text):\n",
    "    tokens = word_tokenize(text.lower())\n",
    "    tokens = [lemmatizer.lemmatize(token) for token in tokens if token.isalpha()]\n",
    "    tokens = [token for token in tokens if token not in stop_words]\n",
    "    return ' '.join(tokens)\n",
    "\n",
    "# Apply preprocessing to the text column\n",
    "df['Processed_Text'] = df['Text'].apply(preprocess_text)\n",
    "\n",
    "# Create the TF-IDF vectorizer\n",
    "tfidf_vectorizer = TfidfVectorizer()\n",
    "tfidf_matrix = tfidf_vectorizer.fit_transform(df['Processed_Text'])\n",
    "\n",
    "# Get the feature names from the TF-IDF vectorizer\n",
    "feature_names = tfidf_vectorizer.get_feature_names_out()\n",
    "\n",
    "# Function to get the top keywords based on TF-IDF scores\n",
    "def get_top_keywords(row, n=5):\n",
    "    top_indices = row.argsort()[-n:][::-1]\n",
    "    top_keywords = [feature_names[i] for i in top_indices]\n",
    "    return top_keywords\n",
    "\n",
    "# Apply the get_top_keywords function to each row of the TF-IDF matrix\n",
    "df['Top_Keywords'] = [get_top_keywords(row) for row in tfidf_matrix.toarray()]\n",
    "\n",
    "# Print the DataFrame with the top keywords\n",
    "print(df)\n"
   ]
  },
  {
   "cell_type": "code",
   "execution_count": null,
   "id": "8d0c07c5",
   "metadata": {},
   "outputs": [],
   "source": []
  }
 ],
 "metadata": {
  "kernelspec": {
   "display_name": "Python 3 (ipykernel)",
   "language": "python",
   "name": "python3"
  },
  "language_info": {
   "codemirror_mode": {
    "name": "ipython",
    "version": 3
   },
   "file_extension": ".py",
   "mimetype": "text/x-python",
   "name": "python",
   "nbconvert_exporter": "python",
   "pygments_lexer": "ipython3",
   "version": "3.9.10"
  }
 },
 "nbformat": 4,
 "nbformat_minor": 5
}
