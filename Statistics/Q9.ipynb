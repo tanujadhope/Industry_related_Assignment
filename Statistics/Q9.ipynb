{
 "cells": [
  {
   "cell_type": "code",
   "execution_count": 7,
   "id": "e22fb8b6",
   "metadata": {},
   "outputs": [
    {
     "name": "stdout",
     "output_type": "stream",
     "text": [
      "fvalue : 0.324\n",
      "pvalue : 0.730\n",
      "\n",
      "pvalue : 0.7295954253321558 >= significance_level : 0.05\n",
      "Yes,The mean scores of the students are the same (Fail to reject the null hypothesis).\n"
     ]
    }
   ],
   "source": [
    "#question 9\n",
    "#To test the hypothesis that the mean scores r same\n",
    "#one-way analysis of variance (ANOVA) is used\n",
    "import pandas as pd\n",
    "import scipy.stats as stats\n",
    "\n",
    "# Read the Excel file\n",
    "data = pd.read_excel(r'D:\\ineuron\\Placement related assignment\\Stat_Problem_Solutions\\data3.xlsx')\n",
    "\n",
    "# Perform one-way ANOVA\n",
    "fvalue, pvalue = stats.f_oneway(data['exam1'], data['exam2'], data['final exam'])\n",
    "\n",
    "print(\"fvalue : {:.3f}\".format(fvalue))\n",
    "\n",
    "print(\"pvalue : {:.3f}\".format(pvalue))\n",
    "print()\n",
    "# Interpret the results\n",
    "significance_level=0.05\n",
    "if pvalue < 0.05:\n",
    "    \n",
    "    print(f\"As pvalue : {pvalue} < significance_level : {significance_level}\")\n",
    "    print(\"No,The mean scores of the students are not the same (Reject the null hypothesis) .\")\n",
    "    highest_score_student = data.iloc[data[['exam1', 'exam2', 'final_exam']].mean(axis=1).idxmax()]['name']\n",
    "    print(\"Student with the highest score:\", highest_score_student)\n",
    "elif pvalue >= 0.05:\n",
    "    print(f\"pvalue : {pvalue} >= significance_level : {significance_level}\")\n",
    "    print(\"Yes,The mean scores of the students are the same (Fail to reject the null hypothesis).\")"
   ]
  },
  {
   "cell_type": "code",
   "execution_count": null,
   "id": "1dcaf760",
   "metadata": {},
   "outputs": [],
   "source": []
  }
 ],
 "metadata": {
  "kernelspec": {
   "display_name": "Python 3 (ipykernel)",
   "language": "python",
   "name": "python3"
  },
  "language_info": {
   "codemirror_mode": {
    "name": "ipython",
    "version": 3
   },
   "file_extension": ".py",
   "mimetype": "text/x-python",
   "name": "python",
   "nbconvert_exporter": "python",
   "pygments_lexer": "ipython3",
   "version": "3.9.10"
  }
 },
 "nbformat": 4,
 "nbformat_minor": 5
}
