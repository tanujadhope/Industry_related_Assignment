{
 "cells": [
  {
   "cell_type": "code",
   "execution_count": 1,
   "id": "0f0c23b7",
   "metadata": {},
   "outputs": [],
   "source": [
    "#question 7\n",
    "import math\n",
    "\n",
    "# Define the equations\n",
    "equation1 = \"2Y = 5 - X\"\n",
    "equation2 = \"2X = 8 - 3Y\""
   ]
  },
  {
   "cell_type": "code",
   "execution_count": 3,
   "id": "8fa080dc",
   "metadata": {},
   "outputs": [],
   "source": [
    "\n",
    "# Extract the coefficients from equation1 2Y = 5 - X\n",
    "\n",
    "c1 = 5\n",
    "x1 = -1\n",
    "y1 = 2\n",
    "\n",
    "# Extract the coefficients from equation2\n",
    "c2 = 8\n",
    "x2 = 2\n",
    "y2 = -3\n",
    "\n",
    "# Rearrange equation1 to isolate Y\n",
    "equ1= f\"Y = {x1/y1}X + {c1/y1}\"\n",
    "\n",
    "# Calculate b_yx (byx)\n",
    "byx = x1 / y1\n",
    "\n",
    "# Rearrange equation2 to isolate X\n",
    "equ2 = f\"X = {c2/x2} + {y2/x2}Y\"\n",
    "\n",
    "# Calculate b_xy (bxy)\n",
    "bxy = y2/ x2\n",
    "\n",
    "# Calculate the correlation coefficient (r)\n",
    "r = math.sqrt(bxy * byx)"
   ]
  },
  {
   "cell_type": "code",
   "execution_count": 4,
   "id": "d5898164",
   "metadata": {},
   "outputs": [
    {
     "name": "stdout",
     "output_type": "stream",
     "text": [
      "Rearranged Equation 1:\n",
      "Y = -0.5X + 2.5\n",
      "\n",
      "Regression coefficient (b_yx): -0.5\n",
      "\n",
      "Rearranged Equation 2:\n",
      "X = 4.0 + -1.5Y\n",
      "\n",
      "Regression coefficient (b_xy): -1.5\n",
      "\n",
      "Correlation coefficient (r): 0.8660254037844386\n"
     ]
    }
   ],
   "source": [
    "# Print the rearranged equations and regression coefficients\n",
    "print(\"Rearranged Equation 1:\")\n",
    "print(equ1)\n",
    "print()\n",
    "print(\"Regression coefficient (b_yx):\", byx)\n",
    "print()\n",
    "print(\"Rearranged Equation 2:\")\n",
    "print(equ2)\n",
    "print()\n",
    "print(\"Regression coefficient (b_xy):\", bxy)\n",
    "print()\n",
    "print(\"Correlation coefficient (r):\", r)"
   ]
  },
  {
   "cell_type": "code",
   "execution_count": 5,
   "id": "6b3d1880",
   "metadata": {},
   "outputs": [
    {
     "name": "stdout",
     "output_type": "stream",
     "text": [
      "a: To find Variance of Y\n",
      "---------------------------\n",
      "Variance of Y: 1.0\n"
     ]
    }
   ],
   "source": [
    "#a\n",
    "print(\"a: To find Variance of Y\")\n",
    "print(\"---------------------------\")\n",
    "# Given values\n",
    "var_x = 4\n",
    "corr_coef = 0.8660254037844386\n",
    "\n",
    "# Calculate the variance of Y\n",
    "var_y = (1 -corr_coef **2) * var_x\n",
    "\n",
    "# Print the variance of Y\n",
    "print(\"Variance of Y:\", round(var_y,3))\n"
   ]
  },
  {
   "cell_type": "code",
   "execution_count": 6,
   "id": "23bbe920",
   "metadata": {},
   "outputs": [
    {
     "name": "stdout",
     "output_type": "stream",
     "text": [
      "b: To find Coefficient of determination of C and Y\n",
      "----------------------------------------------------\n",
      "Coefficient of Determination (R^2): 0.7499999999999999\n",
      "Since there is no information or equation related to Independent variable C\n",
      "It is not possible to calculate the coefficient of determination between C and Y.\n"
     ]
    }
   ],
   "source": [
    "#b\n",
    "print(\"b: To find Coefficient of determination of C and Y\")\n",
    "print(\"----------------------------------------------------\")\n",
    "\n",
    "# Given correlation coefficient\n",
    "correlation_coefficient = 0.8660254037844386\n",
    "\n",
    "# Calculate the coefficient of determination (R^2)\n",
    "r_squared = correlation_coefficient ** 2\n",
    "\n",
    "# Print the coefficient of determination (R^2)\n",
    "print(\"Coefficient of Determination (R^2):\", r_squared)\n",
    "print(\"Since there is no information or equation related to Independent variable C\")\n",
    "print(\"It is not possible to calculate the coefficient of determination between C and Y.\")\n",
    "\n"
   ]
  },
  {
   "cell_type": "code",
   "execution_count": 7,
   "id": "4426187a",
   "metadata": {},
   "outputs": [
    {
     "name": "stdout",
     "output_type": "stream",
     "text": [
      "Standard error of estimate of X on Y and of Y on X\n",
      "-----------------------------------------------------\n",
      "However, the equations alone are not sufficient to calculate the standard error of estimate. \n",
      "We  need the actual data points to obtain the predicted values \n",
      "and then calculate the residuals to determine the standard error of estimate\n",
      "\n"
     ]
    }
   ],
   "source": [
    "#c\n",
    "print(\"Standard error of estimate of X on Y and of Y on X\")\n",
    "print(\"-----------------------------------------------------\")\n",
    "print(\"\"\"However, the equations alone are not sufficient to calculate the standard error of estimate. \n",
    "We  need the actual data points to obtain the predicted values \n",
    "and then calculate the residuals to determine the standard error of estimate\n",
    "\"\"\")\n"
   ]
  },
  {
   "cell_type": "code",
   "execution_count": null,
   "id": "1c180653",
   "metadata": {},
   "outputs": [],
   "source": []
  }
 ],
 "metadata": {
  "kernelspec": {
   "display_name": "Python 3 (ipykernel)",
   "language": "python",
   "name": "python3"
  },
  "language_info": {
   "codemirror_mode": {
    "name": "ipython",
    "version": 3
   },
   "file_extension": ".py",
   "mimetype": "text/x-python",
   "name": "python",
   "nbconvert_exporter": "python",
   "pygments_lexer": "ipython3",
   "version": "3.9.10"
  }
 },
 "nbformat": 4,
 "nbformat_minor": 5
}
