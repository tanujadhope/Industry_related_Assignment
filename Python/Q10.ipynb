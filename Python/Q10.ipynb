{
 "cells": [
  {
   "cell_type": "code",
   "execution_count": 14,
   "id": "ecef392c",
   "metadata": {},
   "outputs": [
    {
     "name": "stdout",
     "output_type": "stream",
     "text": [
      "Requirement already satisfied: nltk in c:\\users\\pc\\appdata\\local\\programs\\python\\python39\\lib\\site-packages (3.8.1)\n",
      "Requirement already satisfied: click in c:\\users\\pc\\appdata\\local\\programs\\python\\python39\\lib\\site-packages (from nltk) (8.1.3)\n",
      "Requirement already satisfied: joblib in c:\\users\\pc\\appdata\\local\\programs\\python\\python39\\lib\\site-packages (from nltk) (1.2.0)\n",
      "Requirement already satisfied: regex>=2021.8.3 in c:\\users\\pc\\appdata\\local\\programs\\python\\python39\\lib\\site-packages (from nltk) (2023.5.5)\n",
      "Requirement already satisfied: tqdm in c:\\users\\pc\\appdata\\local\\programs\\python\\python39\\lib\\site-packages (from nltk) (4.65.0)\n",
      "Requirement already satisfied: colorama in c:\\users\\pc\\appdata\\local\\programs\\python\\python39\\lib\\site-packages (from click->nltk) (0.4.6)\n",
      "Note: you may need to restart the kernel to use updated packages.\n"
     ]
    },
    {
     "name": "stderr",
     "output_type": "stream",
     "text": [
      "WARNING: Ignoring invalid distribution -illow (c:\\users\\pc\\appdata\\local\\programs\\python\\python39\\lib\\site-packages)\n",
      "WARNING: Ignoring invalid distribution -illow (c:\\users\\pc\\appdata\\local\\programs\\python\\python39\\lib\\site-packages)\n"
     ]
    }
   ],
   "source": [
    "pip install nltk"
   ]
  },
  {
   "cell_type": "code",
   "execution_count": null,
   "id": "ee8d93a3",
   "metadata": {},
   "outputs": [],
   "source": [
    "## importing The Natural Language Toolkit (NLTK) "
   ]
  },
  {
   "cell_type": "code",
   "execution_count": 26,
   "id": "2bfff830",
   "metadata": {},
   "outputs": [],
   "source": [
    "import nltk\n",
    "from collections import Counter"
   ]
  },
  {
   "cell_type": "code",
   "execution_count": 27,
   "id": "732cf15a",
   "metadata": {},
   "outputs": [],
   "source": [
    "# Call the function for each test case\n",
    "### \n",
    "\n",
    "\n",
    "def counting_tags(text):\n",
    "    \n",
    "    tokens = nltk.word_tokenize(text1.lower())  ###to extract the tokens from string of characters \n",
    "    text = nltk.Text(tokens)                 ##Text class nltk.text.Text [source] Bases: object A wrapper around a sequence of simple (string) tokens, which is intended to support initial exploration of texts\n",
    "    tags = nltk.pos_tag(text)              ### to extract Parts of Sppech using pos_tag\n",
    "    counts = Counter(tag for word,tag in tags)  ### the counter returns the POS with their occurance in dictionary form \n",
    "    return counts\n"
   ]
  },
  {
   "cell_type": "code",
   "execution_count": 32,
   "id": "ec7fd961",
   "metadata": {},
   "outputs": [
    {
     "name": "stdout",
     "output_type": "stream",
     "text": [
      "--------Output in Dictionary Form--------------\n",
      "Test case 1: Counter({'NN': 3, 'VBD': 1, 'WRB': 1, 'VBZ': 1, 'VBG': 1, 'DT': 1, 'JJ': 1})\n",
      "Test case 2: Counter({'NN': 3, 'VBD': 1, 'WRB': 1, 'VBZ': 1, 'VBG': 1, 'DT': 1, 'JJ': 1})\n",
      "Test case 3: Counter({'NN': 3, 'VBD': 1, 'WRB': 1, 'VBZ': 1, 'VBG': 1, 'DT': 1, 'JJ': 1})\n"
     ]
    }
   ],
   "source": [
    "# Test case 1\n",
    "text1= \"I wondered why aryan is playing the near pool\"\n",
    "# Explanation: This sentence contains 2 nouns, 1 pronoun, and 1 verb.\n",
    "# Test case 2\n",
    "text2 = \"The smart black cat jumps over the lazy dog\"\n",
    "# Explanation: This sentence contains 1 noun, 1 verb, and 3 adjectives.\n",
    "test3 =\"Manav is an inellegient boy also Aryan like cooking \"\n",
    "#Explanation: This sentence contains 2 noun, 2 verb, and 1 adjectives.\n",
    "    \n",
    "# Call the function for each test case\n",
    "result1 = counting_tags(text1)\n",
    "result2 = counting_tags(text2)\n",
    "result3 = counting_tags(text3)\n",
    "\n",
    "# Print the results\n",
    "print(\"--------Output in Dictionary Form--------------\")\n",
    "print(\"Test case 1:\", result1)\n",
    "print(\"Test case 2:\", result2)\n",
    "print(\"Test case 3:\", result3)"
   ]
  },
  {
   "cell_type": "code",
   "execution_count": null,
   "id": "9db83afe",
   "metadata": {},
   "outputs": [],
   "source": []
  }
 ],
 "metadata": {
  "kernelspec": {
   "display_name": "Python 3 (ipykernel)",
   "language": "python",
   "name": "python3"
  },
  "language_info": {
   "codemirror_mode": {
    "name": "ipython",
    "version": 3
   },
   "file_extension": ".py",
   "mimetype": "text/x-python",
   "name": "python",
   "nbconvert_exporter": "python",
   "pygments_lexer": "ipython3",
   "version": "3.9.10"
  }
 },
 "nbformat": 4,
 "nbformat_minor": 5
}
