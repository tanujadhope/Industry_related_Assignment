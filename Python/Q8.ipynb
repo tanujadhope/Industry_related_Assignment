{
 "cells": [
  {
   "cell_type": "code",
   "execution_count": 13,
   "id": "fbb74cc1",
   "metadata": {},
   "outputs": [],
   "source": [
    "import pandas as pd\n",
    "import json\n",
    "import requests\n",
    "import matplotlib.pyplot as plt"
   ]
  },
  {
   "cell_type": "code",
   "execution_count": 2,
   "id": "fb06325b",
   "metadata": {},
   "outputs": [],
   "source": [
    "\n",
    "def download_data(url):\n",
    "    response = requests.get(url)\n",
    "    data = json.loads(response.text)\n",
    "    return data"
   ]
  },
  {
   "cell_type": "code",
   "execution_count": 3,
   "id": "ba957fbd",
   "metadata": {},
   "outputs": [],
   "source": [
    "def extract_data(data):\n",
    "    id1 = data['id']\n",
    "    url1 = data['url']\n",
    "    name1 = data['name']\n",
    "    season1 = data.get('season')\n",
    "    number1 = data.get('number')\n",
    "    type1 = data.get('type')\n",
    "    airdate1 = data.get('airdate')\n",
    "    airtime1 = data.get('airtime')\n",
    "    runtime1 = data.get('runtime')\n",
    "    average_rating1 = data['rating']['average']\n",
    "    summary1 = data.get('summary', '').replace('<p>', '').replace('</p>', '').replace('<b>', '').replace('</b>', '')\n",
    "    image_medium1 = data['image']['medium']\n",
    "    image_original2 = data['image']['original']\n",
    "\n",
    "    formatted_data = {\n",
    "        'id': id1,\n",
    "        'url':url1,\n",
    "        'name': name1,\n",
    "        'season':season1,\n",
    "        'number': number1,\n",
    "        'type': type1,\n",
    "        'airdate': airdate1,\n",
    "        'airtime': airtime1,\n",
    "        'runtime': runtime1,\n",
    "        'rating': average_rating1,\n",
    "        'summary': summary1,\n",
    "        'image_medium': image_medium1,\n",
    "        'image_original': image_original2\n",
    "    }\n",
    "\n",
    "    return formatted_data"
   ]
  },
  {
   "cell_type": "code",
   "execution_count": 5,
   "id": "d20a190c",
   "metadata": {},
   "outputs": [
    {
     "name": "stdout",
     "output_type": "stream",
     "text": [
      "id: 1371\n",
      "url: https://www.tvmaze.com/shows/1371/westworld\n",
      "name: Westworld\n",
      "season: None\n",
      "number: None\n",
      "type: Scripted\n",
      "airdate: None\n",
      "airtime: None\n",
      "runtime: 60\n",
      "rating: 8.2\n",
      "summary: Westworld is a dark odyssey about the dawn of artificial consciousness and the evolution of sin. Set at the intersection of the near future and the reimagined past, it explores a world in which every human appetite, no matter how noble or depraved, can be indulged.\n",
      "image_medium: https://static.tvmaze.com/uploads/images/medium_portrait/445/1113927.jpg\n",
      "image_original: https://static.tvmaze.com/uploads/images/original_untouched/445/1113927.jpg\n"
     ]
    }
   ],
   "source": [
    "# API URL\n",
    "url = \"http://api.tvmaze.com/singlesearch/shows?q=westworld&embed=episodes\"\n",
    "    \n",
    "# Download data from the API\n",
    "data = download_data(url)\n",
    "    \n",
    "# Extract and format the data\n",
    "formatted_data = extract_data(data)\n",
    "    \n",
    "# Display the extracted and formatted data\n",
    "for key, value in formatted_data.items():\n",
    "    print(f\"{key}: {value}\")"
   ]
  },
  {
   "cell_type": "code",
   "execution_count": 8,
   "id": "bbcd1a63",
   "metadata": {},
   "outputs": [],
   "source": [
    "#a Get all the overall ratings for each season and using plots compare the ratings for all theseasons, like season 1 ratings, season 2, and so on"
   ]
  },
  {
   "cell_type": "code",
   "execution_count": 9,
   "id": "c99a4864",
   "metadata": {},
   "outputs": [
    {
     "name": "stdout",
     "output_type": "stream",
     "text": [
      "Number of seasons: 1\n",
      "Number of seasons: 1\n",
      "Number of seasons: 1\n",
      "Number of seasons: 1\n",
      "Number of seasons: 1\n",
      "Number of seasons: 1\n",
      "Number of seasons: 1\n",
      "Number of seasons: 1\n",
      "Number of seasons: 1\n",
      "Number of seasons: 1\n",
      "Number of seasons: 2\n",
      "Number of seasons: 2\n",
      "Number of seasons: 2\n",
      "Number of seasons: 2\n",
      "Number of seasons: 2\n",
      "Number of seasons: 2\n",
      "Number of seasons: 2\n",
      "Number of seasons: 2\n",
      "Number of seasons: 2\n",
      "Number of seasons: 2\n",
      "Number of seasons: 3\n",
      "Number of seasons: 3\n",
      "Number of seasons: 3\n",
      "Number of seasons: 3\n",
      "Number of seasons: 3\n",
      "Number of seasons: 3\n",
      "Number of seasons: 3\n",
      "Number of seasons: 3\n",
      "Number of seasons: 4\n",
      "Number of seasons: 4\n",
      "Number of seasons: 4\n",
      "Number of seasons: 4\n",
      "Number of seasons: 4\n",
      "Number of seasons: 4\n",
      "Number of seasons: 4\n",
      "Number of seasons: 4\n"
     ]
    }
   ],
   "source": [
    "# Count the number of seasons\n",
    "seasons = set()\n",
    "episodes_data = data.get('_embedded', {}).get('episodes', [])\n",
    "for episode in episodes_data:\n",
    "    season = episode.get('season')\n",
    "    if season:\n",
    "        seasons.add(season)\n",
    "\n",
    "    num_seasons = len(seasons)\n",
    "\n",
    "    print(f\"Number of seasons: {num_seasons}\")\n",
    "   \n"
   ]
  },
  {
   "cell_type": "code",
   "execution_count": null,
   "id": "3d227ef7",
   "metadata": {},
   "outputs": [],
   "source": []
  },
  {
   "cell_type": "code",
   "execution_count": 11,
   "id": "e0b810c4",
   "metadata": {},
   "outputs": [],
   "source": [
    "def extract_ratings(data):\n",
    "    ratings = {}\n",
    "    episodes = data.get('_embedded', {}).get('episodes', [])\n",
    "    for episode in episodes:\n",
    "        season = episode.get('season')\n",
    "        rating = episode.get('rating', {}).get('average')\n",
    "        if season and rating:\n",
    "            if season in ratings:\n",
    "                ratings[season].append(rating)\n",
    "            else:\n",
    "                ratings[season] = [rating]\n",
    "    return ratings\n",
    "\n",
    "def plot_season_ratings(ratings):\n",
    "    seasons = sorted(ratings.keys())\n",
    "    avg_ratings = [sum(ratings[season]) / len(ratings[season]) for season in seasons]\n",
    "\n",
    "    #plt.bar(seasons, avg_ratings)\n",
    "    plt.plot(seasons, avg_ratings,marker='o')\n",
    "\n",
    "    plt.xlabel('Season')\n",
    "    plt.ylabel('Average Rating')\n",
    "    plt.title('Overall Ratings for Each Season')\n",
    "    plt.show()"
   ]
  },
  {
   "cell_type": "code",
   "execution_count": 14,
   "id": "ce12b16b",
   "metadata": {},
   "outputs": [
    {
     "name": "stdout",
     "output_type": "stream",
     "text": [
      " #a Get all the overall ratings for each season and using plots compare the ratings for all theseasons\n"
     ]
    },
    {
     "data": {
      "image/png": "[encoded data removed]",
      "text/plain": [
       "<Figure size 640x480 with 1 Axes>"
      ]
     },
     "metadata": {},
     "output_type": "display_data"
    },
    {
     "name": "stdout",
     "output_type": "stream",
     "text": [
      "\n",
      "\n"
     ]
    }
   ],
   "source": [
    "print(\" #a Get all the overall ratings for each season and using plots compare the ratings for all theseasons\")\n",
    "ratings = extract_ratings(data)\n",
    "plot_season_ratings(ratings)\n",
    "print()\n",
    "print()"
   ]
  },
  {
   "cell_type": "code",
   "execution_count": 16,
   "id": "b26e78cd",
   "metadata": {},
   "outputs": [],
   "source": [
    "#b Get all the episode names, whose average rating is more than 8 for every season\n",
    "def extract_highly_rated_episodes(data):\n",
    "    episodes = data.get('_embedded', {}).get('episodes', [])\n",
    "    highly_rated_episodes = {}\n",
    "    for episode in episodes:\n",
    "        season = episode.get('season')\n",
    "        rating = episode.get('rating', {}).get('average')\n",
    "        name = episode.get('name')\n",
    "        if season and rating and rating > 8:\n",
    "            if season in highly_rated_episodes:\n",
    "                highly_rated_episodes[season].append(name)\n",
    "            else:\n",
    "                highly_rated_episodes[season] = [name]\n",
    "    return highly_rated_episodes\n",
    "   "
   ]
  },
  {
   "cell_type": "code",
   "execution_count": 17,
   "id": "eba0d62e",
   "metadata": {},
   "outputs": [
    {
     "name": "stdout",
     "output_type": "stream",
     "text": [
      "b: To Get all the episode names, whose average rating is more than 8 for every season\n",
      "Season 1 highly rated episodes:\n",
      "- Trompe L'Oeil\n",
      "- The Well-Tempered Clavier\n",
      "- The Bicameral Mind\n",
      "Season 2 highly rated episodes:\n",
      "- Kiksuya\n",
      "- Vanishing Point\n",
      "- The Passenger\n"
     ]
    }
   ],
   "source": [
    "print(\"b: To Get all the episode names, whose average rating is more than 8 for every season\")\n",
    "  \n",
    "highly_rated_episodes = extract_highly_rated_episodes(data)\n",
    "\n",
    "for season, episodes in highly_rated_episodes.items():\n",
    "    print(f\"Season {season} highly rated episodes:\")\n",
    "    for episode in episodes:\n",
    "        print(f\"- {episode}\")"
   ]
  },
  {
   "cell_type": "code",
   "execution_count": 18,
   "id": "e8dbac4e",
   "metadata": {},
   "outputs": [],
   "source": [
    "#cGet all the episode names that aired before May 2019\n",
    "\n",
    "def extract_episodes_before_date(data, target_date):\n",
    "    episodes = data.get('_embedded', {}).get('episodes', [])\n",
    "    episodes_before_date = []\n",
    "    for episode in episodes:\n",
    "        airdate = episode.get('airdate')\n",
    "        name = episode.get('name')\n",
    "        if airdate and airdate < target_date:\n",
    "            episodes_before_date.append(name)\n",
    "    return episodes_before_date"
   ]
  },
  {
   "cell_type": "code",
   "execution_count": 20,
   "id": "a3f4adc6",
   "metadata": {},
   "outputs": [
    {
     "name": "stdout",
     "output_type": "stream",
     "text": [
      "Episodes aired before May 2019:\n",
      "- The Original\n",
      "- Chestnut\n",
      "- The Stray\n",
      "- Dissonance Theory\n",
      "- Contrapasso\n",
      "- The Adversary\n",
      "- Trompe L'Oeil\n",
      "- Trace Decay\n",
      "- The Well-Tempered Clavier\n",
      "- The Bicameral Mind\n",
      "- Journey Into Night\n",
      "- Reunion\n",
      "- Virtù e Fortuna\n",
      "- The Riddle of the Sphinx\n",
      "- Akane No Mai\n",
      "- Phase Space\n",
      "- Les Écorchés\n",
      "- Kiksuya\n",
      "- Vanishing Point\n",
      "- The Passenger\n"
     ]
    }
   ],
   "source": [
    "target_date = \"2019-05-01\"\n",
    "episodes_before_date = extract_episodes_before_date(data, target_date)\n",
    "print(\"Episodes aired before May 2019:\")\n",
    "for episode in episodes_before_date:\n",
    "    print(\"- \" + episode)\n"
   ]
  },
  {
   "cell_type": "code",
   "execution_count": 22,
   "id": "4681b31a",
   "metadata": {},
   "outputs": [],
   "source": [
    "#d Get the episode name from each season with the highest and lowest rating\n",
    "def extract_episodes_by_season(data):\n",
    "    episodes = data.get('_embedded', {}).get('episodes', [])\n",
    "    episodes_by_season = {}\n",
    "    for episode in episodes:\n",
    "        season = episode.get('season')\n",
    "        name = episode.get('name')\n",
    "        rating = episode.get('rating', {}).get('average')\n",
    "        if season:\n",
    "            if season not in episodes_by_season:\n",
    "                episodes_by_season[season] = {'highest': (name, rating), 'lowest': (name, rating)}\n",
    "            else:\n",
    "                current_highest = episodes_by_season[season]['highest']\n",
    "                current_lowest = episodes_by_season[season]['lowest']\n",
    "                if rating and rating > current_highest[1]:\n",
    "                    episodes_by_season[season]['highest'] = (name, rating)\n",
    "                if rating and rating < current_lowest[1]:\n",
    "                    episodes_by_season[season]['lowest'] = (name, rating)\n",
    "    return episodes_by_season"
   ]
  },
  {
   "cell_type": "code",
   "execution_count": 23,
   "id": "68da33c9",
   "metadata": {},
   "outputs": [
    {
     "name": "stdout",
     "output_type": "stream",
     "text": [
      "d: Episode names from each season with the highest and lowest ratings:\n",
      "-------------------------------------------------------------------------\n",
      "Season 1:\n",
      "Highest Rating: Episode The Bicameral Mind (Rating: 8.7)\n",
      "Lowest Rating: Episode The Stray (Rating: 7.6)\n",
      "Season 2:\n",
      "Highest Rating: Episode Kiksuya (Rating: 8.7)\n",
      "Lowest Rating: Episode Akane No Mai (Rating: 7.6)\n",
      "Season 3:\n",
      "Highest Rating: Episode Parce Domine (Rating: 8)\n",
      "Lowest Rating: Episode Decoherence (Rating: 7.5)\n",
      "Season 4:\n",
      "Highest Rating: Episode Zhuangzi (Rating: 7.8)\n",
      "Lowest Rating: Episode The Auguries (Rating: 7.1)\n"
     ]
    }
   ],
   "source": [
    "episodes_by_season = extract_episodes_by_season(data)\n",
    "\n",
    "print(\"d: Episode names from each season with the highest and lowest ratings:\")\n",
    "print(\"-------------------------------------------------------------------------\")\n",
    "for season, episodes in episodes_by_season.items():\n",
    "    \n",
    "    print(f\"Season {season}:\")\n",
    "    print(f\"Highest Rating: Episode {episodes['highest'][0]} (Rating: {episodes['highest'][1]})\")\n",
    "    print(f\"Lowest Rating: Episode {episodes['lowest'][0]} (Rating: {episodes['lowest'][1]})\")\n",
    "  \n",
    "\n"
   ]
  },
  {
   "cell_type": "code",
   "execution_count": 24,
   "id": "bc1c9ab1",
   "metadata": {},
   "outputs": [],
   "source": [
    "#eGet the summary for the most popular ( ratings ) episode in every season\n",
    "#e\n",
    "def get_summary_most_popular_episode(data):\n",
    "    episodes = data.get('_embedded', {}).get('episodes', [])\n",
    "    most_popular_episodes_summary = {}\n",
    "    for episode in episodes:\n",
    "        season = episode.get('season')\n",
    "        rating = episode.get('rating', {}).get('average')\n",
    "        if season:\n",
    "            if season not in most_popular_episodes_summary:\n",
    "                most_popular_episodes_summary[season] = {\n",
    "                    'name': episode.get('name'),\n",
    "                    'rating': rating,\n",
    "                    'summary': episode.get('summary')\n",
    "                }\n",
    "            else:\n",
    "                if rating and rating > most_popular_episodes_summary[season]['rating']:\n",
    "                    most_popular_episodes_summary[season] = {\n",
    "                        'name': episode.get('name'),\n",
    "                        'rating': rating,\n",
    "                        'summary': episode.get('summary')\n",
    "                    }\n",
    "    return most_popular_episodes_summary\n"
   ]
  },
  {
   "cell_type": "code",
   "execution_count": 26,
   "id": "d5789a20",
   "metadata": {},
   "outputs": [
    {
     "name": "stdout",
     "output_type": "stream",
     "text": [
      "e: Summary for the most popular episode in every season:\n",
      "Season 1:\n",
      "Episode: The Bicameral Mind\n",
      "Rating: 8.7\n",
      "Summary: <p>Delores finds out the truth about William's fate. Meanwhile, Maeve organizes an escape plan, only to discover that someone else is pulling the strings. And Robert plays the final piece in his grand narrative.</p>\n",
      "\n",
      "Season 2:\n",
      "Episode: Kiksuya\n",
      "Rating: 8.7\n",
      "Summary: <p>Another of Westworld's Host revolutionaries is revealed. Meanwhile, Emily finds the Man and convinces the Ghost Nation to hand him over to her to ensure his suffering.</p>\n",
      "\n",
      "Season 3:\n",
      "Episode: Parce Domine\n",
      "Rating: 8\n",
      "Summary: <p>If you're stuck in a loop, try walking in a straight line.</p>\n",
      "\n",
      "Season 4:\n",
      "Episode: Zhuangzi\n",
      "Rating: 7.8\n",
      "Summary: <p>God is bored.</p>\n",
      "\n"
     ]
    }
   ],
   "source": [
    "most_popular_episodes_summary = get_summary_most_popular_episode(data)\n",
    "\n",
    "print(\"e: Summary for the most popular episode in every season:\")\n",
    "for season, episode in most_popular_episodes_summary.items():\n",
    "    print(f\"Season {season}:\")\n",
    "    print(f\"Episode: {episode['name']}\")\n",
    "    print(f\"Rating: {episode['rating']}\")\n",
    "    print(f\"Summary: {episode['summary']}\")\n",
    "    print()"
   ]
  },
  {
   "cell_type": "code",
   "execution_count": null,
   "id": "83b4d92a",
   "metadata": {},
   "outputs": [],
   "source": []
  }
 ],
 "metadata": {
  "kernelspec": {
   "display_name": "Python 3 (ipykernel)",
   "language": "python",
   "name": "python3"
  },
  "language_info": {
   "codemirror_mode": {
    "name": "ipython",
    "version": 3
   },
   "file_extension": ".py",
   "mimetype": "text/x-python",
   "name": "python",
   "nbconvert_exporter": "python",
   "pygments_lexer": "ipython3",
   "version": "3.9.10"
  }
 },
 "nbformat": 4,
 "nbformat_minor": 5
}
