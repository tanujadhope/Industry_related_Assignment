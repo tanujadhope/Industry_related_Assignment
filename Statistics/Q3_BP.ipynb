{
 "cells": [
  {
   "cell_type": "code",
   "execution_count": 1,
   "id": "5c743fb4",
   "metadata": {},
   "outputs": [],
   "source": [
    "import pandas as pd\n",
    "import numpy as np"
   ]
  },
  {
   "cell_type": "code",
   "execution_count": 4,
   "id": "d261ba90",
   "metadata": {},
   "outputs": [],
   "source": [
    "# Read data from CSV file\n",
    "df = pd.read_csv(r'D:\\ineuron\\Placement related assignment\\Stat_Problem_Solutions\\data.csv')\n"
   ]
  },
  {
   "cell_type": "code",
   "execution_count": 5,
   "id": "8e6cce0a",
   "metadata": {},
   "outputs": [
    {
     "name": "stdout",
     "output_type": "stream",
     "text": [
      "<class 'pandas.core.frame.DataFrame'>\n",
      "RangeIndex: 100 entries, 0 to 99\n",
      "Data columns (total 3 columns):\n",
      " #   Column                   Non-Null Count  Dtype\n",
      "---  ------                   --------------  -----\n",
      " 0   Patient ID               100 non-null    int64\n",
      " 1    Blood Pressure Before   100 non-null    int64\n",
      " 2    Blood Pressure After    100 non-null    int64\n",
      "dtypes: int64(3)\n",
      "memory usage: 2.5 KB\n"
     ]
    }
   ],
   "source": [
    "df.info()"
   ]
  },
  {
   "cell_type": "code",
   "execution_count": 6,
   "id": "df914a60",
   "metadata": {},
   "outputs": [
    {
     "data": {
      "text/html": [
       "<div>\n",
       "<style scoped>\n",
       "    .dataframe tbody tr th:only-of-type {\n",
       "        vertical-align: middle;\n",
       "    }\n",
       "\n",
       "    .dataframe tbody tr th {\n",
       "        vertical-align: top;\n",
       "    }\n",
       "\n",
       "    .dataframe thead th {\n",
       "        text-align: right;\n",
       "    }\n",
       "</style>\n",
       "<table border=\"1\" class=\"dataframe\">\n",
       "  <thead>\n",
       "    <tr style=\"text-align: right;\">\n",
       "      <th></th>\n",
       "      <th>Patient ID</th>\n",
       "      <th>Blood Pressure Before</th>\n",
       "      <th>Blood Pressure After</th>\n",
       "    </tr>\n",
       "  </thead>\n",
       "  <tbody>\n",
       "    <tr>\n",
       "      <th>0</th>\n",
       "      <td>1</td>\n",
       "      <td>130</td>\n",
       "      <td>120</td>\n",
       "    </tr>\n",
       "    <tr>\n",
       "      <th>1</th>\n",
       "      <td>2</td>\n",
       "      <td>142</td>\n",
       "      <td>135</td>\n",
       "    </tr>\n",
       "  </tbody>\n",
       "</table>\n",
       "</div>"
      ],
      "text/plain": [
       "   Patient ID   Blood Pressure Before    Blood Pressure After \n",
       "0           1                      130                     120\n",
       "1           2                      142                     135"
      ]
     },
     "execution_count": 6,
     "metadata": {},
     "output_type": "execute_result"
    }
   ],
   "source": [
    "df.head(2)"
   ]
  },
  {
   "cell_type": "code",
   "execution_count": 7,
   "id": "ad1808fe",
   "metadata": {},
   "outputs": [
    {
     "data": {
      "text/html": [
       "<div>\n",
       "<style scoped>\n",
       "    .dataframe tbody tr th:only-of-type {\n",
       "        vertical-align: middle;\n",
       "    }\n",
       "\n",
       "    .dataframe tbody tr th {\n",
       "        vertical-align: top;\n",
       "    }\n",
       "\n",
       "    .dataframe thead th {\n",
       "        text-align: right;\n",
       "    }\n",
       "</style>\n",
       "<table border=\"1\" class=\"dataframe\">\n",
       "  <thead>\n",
       "    <tr style=\"text-align: right;\">\n",
       "      <th></th>\n",
       "      <th>Patient ID</th>\n",
       "      <th>Blood Pressure Before</th>\n",
       "      <th>Blood Pressure After</th>\n",
       "    </tr>\n",
       "  </thead>\n",
       "  <tbody>\n",
       "    <tr>\n",
       "      <th>96</th>\n",
       "      <td>97</td>\n",
       "      <td>143</td>\n",
       "      <td>137</td>\n",
       "    </tr>\n",
       "    <tr>\n",
       "      <th>97</th>\n",
       "      <td>98</td>\n",
       "      <td>127</td>\n",
       "      <td>123</td>\n",
       "    </tr>\n",
       "    <tr>\n",
       "      <th>98</th>\n",
       "      <td>99</td>\n",
       "      <td>139</td>\n",
       "      <td>135</td>\n",
       "    </tr>\n",
       "    <tr>\n",
       "      <th>99</th>\n",
       "      <td>100</td>\n",
       "      <td>135</td>\n",
       "      <td>130</td>\n",
       "    </tr>\n",
       "  </tbody>\n",
       "</table>\n",
       "</div>"
      ],
      "text/plain": [
       "    Patient ID   Blood Pressure Before    Blood Pressure After \n",
       "96          97                      143                     137\n",
       "97          98                      127                     123\n",
       "98          99                      139                     135\n",
       "99         100                      135                     130"
      ]
     },
     "execution_count": 7,
     "metadata": {},
     "output_type": "execute_result"
    }
   ],
   "source": [
    "df.tail(4)"
   ]
  },
  {
   "cell_type": "code",
   "execution_count": 8,
   "id": "da498113",
   "metadata": {},
   "outputs": [
    {
     "data": {
      "text/plain": [
       "Index(['Patient ID', ' Blood Pressure Before ', ' Blood Pressure After '], dtype='object')"
      ]
     },
     "execution_count": 8,
     "metadata": {},
     "output_type": "execute_result"
    }
   ],
   "source": [
    "df.columns"
   ]
  },
  {
   "cell_type": "code",
   "execution_count": 9,
   "id": "9159b1d6",
   "metadata": {},
   "outputs": [
    {
     "name": "stdout",
     "output_type": "stream",
     "text": [
      "a:  To Measure the dispersion in both and interpret the results\n",
      "************************************************\n"
     ]
    }
   ],
   "source": [
    "#a\n",
    "print(\"a:  To Measure the dispersion in both and interpret the results\")\n",
    "print(\"************************************************\")\n",
    "# Assuming the correct column names are identified\n",
    "bp_before = df[' Blood Pressure Before ']\n",
    "bp_after = df[' Blood Pressure After ']"
   ]
  },
  {
   "cell_type": "code",
   "execution_count": 12,
   "id": "ba817dac",
   "metadata": {},
   "outputs": [],
   "source": [
    "# Dispersion measures\n",
    "range_before = np.max(bp_before) - np.min(bp_before)\n",
    "range_after = np.max(bp_after) - np.min(bp_after)\n",
    "\n",
    "variance_before = np.var(bp_before)\n",
    "variance_after = np.var(bp_after)\n",
    "\n",
    "std_dev_before = np.std(bp_before)\n",
    "std_dev_after = np.std(bp_after)"
   ]
  },
  {
   "cell_type": "code",
   "execution_count": 13,
   "id": "63ad7de9",
   "metadata": {},
   "outputs": [
    {
     "name": "stdout",
     "output_type": "stream",
     "text": [
      "Dispersion measures:\n",
      "-----------------------\n",
      "Before - Range: 28.000\n",
      "Before - Variance: 43.102\n",
      "Before - Standard Deviation: 6.565\n",
      "\n",
      "After - Range: 23.000\n",
      "After - Variance: 46.970\n",
      "After - Standard Deviation: 6.853\n"
     ]
    }
   ],
   "source": [
    "# Interpretation of results\n",
    "print(\"Dispersion measures:\")\n",
    "print(\"-----------------------\")\n",
    "print(\"Before - Range: {:.3f}\".format(range_before))\n",
    "print(\"Before - Variance: {:.3f}\".format(variance_before))\n",
    "print(\"Before - Standard Deviation: {:.3f}\".format(std_dev_before))\n",
    "print()\n",
    "print(\"After - Range: {:.3f}\".format(range_after))\n",
    "print(\"After - Variance: {:.3f}\".format(variance_after))\n",
    "print(\"After - Standard Deviation: {:.3f}\".format(std_dev_after))\n"
   ]
  },
  {
   "cell_type": "code",
   "execution_count": 14,
   "id": "2347b66a",
   "metadata": {},
   "outputs": [],
   "source": [
    "#range -  difference between the maximum and minimum values \n",
    "#variance - The variance measures the average squared deviation from the mean. A higher variance indicates greater dispersion\n",
    "#std - The standard deviation is the square root of the variance"
   ]
  },
  {
   "cell_type": "code",
   "execution_count": 15,
   "id": "fde7fba5",
   "metadata": {},
   "outputs": [
    {
     "name": "stdout",
     "output_type": "stream",
     "text": [
      "b: To Calculate mean and 5% confidence interval and plot it in a graph \n",
      "----------------------------------------------------------------------------------\n",
      "confidence_interval_before : (132.62324371404807, 135.19675628595192)\n",
      "confidence_interval_after : (127.01673957330856, 129.70326042669146)\n",
      "confidence_intervals: [(132.62324371404807, 135.19675628595192), (127.01673957330856, 129.70326042669146)]\n",
      "\n",
      "\n"
     ]
    },
    {
     "data": {
      "image/png": "[encoded data removed]",
      "text/plain": [
       "<Figure size 640x480 with 1 Axes>"
      ]
     },
     "metadata": {},
     "output_type": "display_data"
    }
   ],
   "source": [
    "#b\n",
    "import matplotlib.pyplot as plt\n",
    "import scipy.stats as stats\n",
    "\n",
    "print(\"b: To Calculate mean and 5% confidence interval and plot it in a graph \")\n",
    "print(\"----------------------------------------------------------------------------------\")\n",
    "\n",
    "# Calculate mean and confidence interval\n",
    "mean_before = np.mean(bp_before)\n",
    "mean_after = np.mean(bp_after)\n",
    "\n",
    "confidence_interval_before = stats.norm.interval(0.95, loc=mean_before, scale=std_dev_before / np.sqrt(len(bp_before)))\n",
    "confidence_interval_after = stats.norm.interval(0.95, loc=mean_after, scale=std_dev_after / np.sqrt(len(bp_after)))\n",
    "\n",
    "# Plotting the means and confidence intervals\n",
    "labels = ['Blood Pressure Before', 'Blood Pressure After']\n",
    "means = [mean_before, mean_after]\n",
    "confidence_intervals = [confidence_interval_before, confidence_interval_after]\n",
    "print(f\"confidence_interval_before : {confidence_interval_before}\")\n",
    "print(f\"confidence_interval_after : {confidence_interval_after}\")\n",
    "print(f\"confidence_intervals: {confidence_intervals}\")\n",
    "print()\n",
    "print()\n",
    "\n",
    "plt.errorbar(labels, means, yerr=[(ci[1] - mean) for ci, mean in zip(confidence_intervals, means)], fmt='o')\n",
    "plt.ylabel('Mean Blood Pressure (mmHg)')\n",
    "plt.title('Mean Blood Pressure Before and After')\n",
    "plt.show()\n"
   ]
  },
  {
   "cell_type": "code",
   "execution_count": 16,
   "id": "6c586dfc",
   "metadata": {},
   "outputs": [
    {
     "name": "stdout",
     "output_type": "stream",
     "text": [
      "Confidence Interval (5%): [127.172, 132.828]\n"
     ]
    }
   ],
   "source": [
    "#b\n",
    "#b example by substituting the values mathematically\n",
    "\n",
    "import numpy as np\n",
    "\n",
    "# Given sample statistics\n",
    "sample_mean = 130\n",
    "sample_std_dev = 10\n",
    "sample_size = 50\n",
    "\n",
    "# Calculate standard error\n",
    "standard_error = sample_std_dev / np.sqrt(sample_size)\n",
    "\n",
    "# Set the critical value for a 5% confidence level\n",
    "critical_value = 2.0\n",
    "\n",
    "# Calculate the margin of error\n",
    "margin_of_error = critical_value * standard_error\n",
    "\n",
    "# Calculate the lower and upper bounds of the confidence interval\n",
    "lower_bound = sample_mean - margin_of_error\n",
    "upper_bound = sample_mean + margin_of_error\n",
    "\n",
    "# Print the confidence interval\n",
    "print(\"Confidence Interval (5%): [{:.3f}, {:.3f}]\".format(lower_bound, upper_bound))"
   ]
  },
  {
   "cell_type": "code",
   "execution_count": 17,
   "id": "51d93b3c",
   "metadata": {},
   "outputs": [
    {
     "name": "stdout",
     "output_type": "stream",
     "text": [
      "c: To Calculate the Mean absolute deviation and Standard deviation and interpret the results\n",
      "----------------------------------------------------------------------------------------------\n",
      "Mean Absolute Deviation:\n",
      "Before: 5.71\n",
      "After: 5.90\n",
      "\n",
      "Standard Deviation:\n",
      "Before: 6.57\n",
      "After: 6.85\n"
     ]
    }
   ],
   "source": [
    "#c\n",
    "print(\"c: To Calculate the Mean absolute deviation and Standard deviation and interpret the results\")\n",
    "print(\"----------------------------------------------------------------------------------------------\")\n",
    "# Calculate Mean Absolute Deviation (MAD)\n",
    "mad_before = np.mean(np.abs(bp_before - mean_before))\n",
    "mad_after = np.mean(np.abs(bp_after - mean_after))\n",
    "\n",
    "print(\"Mean Absolute Deviation:\")\n",
    "print(\"Before: {:.2f}\".format(mad_before))\n",
    "print(\"After: {:.2f}\".format(mad_after))\n",
    "print()\n",
    "print(\"Standard Deviation:\")\n",
    "print(\"Before: {:.2f}\".format(std_dev_before))\n",
    "print(\"After: {:.2f}\".format(std_dev_after))\n"
   ]
  },
  {
   "cell_type": "markdown",
   "id": "afa8967f",
   "metadata": {},
   "source": [
    "#### Interpretation:Mean Absolute Deviation (MAD): \n",
    "##### The average absolute difference between each data point and the mean is measured by MAD. The MAD for the 'Blood Pressure Before' column is X, and the MAD for the 'Blood Pressure After' column is Y. When compared to the standard deviation, MAD gives a more robust measure of dispersion that is less sensitive to outliers.\n",
    "##### SD: SD is a measure of the average deviation of data points from the mean. The SD for the 'Blood Pressure Before' column is X, while the SD for the 'Blood Pressure After' column is Y. SD is a popular measure of dispersion that takes into account squared variations from the mean."
   ]
  },
  {
   "cell_type": "code",
   "execution_count": 20,
   "id": "a1ac8453",
   "metadata": {},
   "outputs": [
    {
     "name": "stdout",
     "output_type": "stream",
     "text": [
      "d: To Calculate the correlation coefficient and check the significance of it at 1% level of significance\n",
      "----------------------------------------------------------------------------------------------------------\n",
      "Correlation Coefficient: 0.9779\n",
      "t-score: 46.3557\n",
      "t-critical (1% level of significance): 2.6269\n",
      "Significance at 1% level:  Significant\n"
     ]
    }
   ],
   "source": [
    "#d\n",
    "print(\"d: To Calculate the correlation coefficient and check the significance of it at 1% level of significance\")\n",
    "print(\"----------------------------------------------------------------------------------------------------------\")\n",
    "# Calculate correlation coefficient\n",
    "correlation_coefficient = np.corrcoef(bp_before, bp_after)[0, 1]\n",
    "\n",
    "# Check significance at the 1% level of significance\n",
    "n = len(bp_before)\n",
    "t_critical = stats.t.ppf(0.995, df=n - 2)\n",
    "standard_error = np.sqrt((1 - correlation_coefficient ** 2) / (n - 2))\n",
    "t_score = correlation_coefficient / standard_error\n",
    "# Interpretation of results\n",
    "print(\"Correlation Coefficient: {:.4f}\".format(correlation_coefficient))\n",
    "print(\"t-score: {:.4f}\".format(t_score))\n",
    "print(\"t-critical (1% level of significance): {:.4f}\".format(t_critical))\n",
    "print(\"Significance at 1% level: \", \"Significant\" if np.abs(t_score) > t_critical else \"Not Significant\")\n",
    "\n",
    "\n",
    "\n"
   ]
  },
  {
   "cell_type": "code",
   "execution_count": 21,
   "id": "84f2688c",
   "metadata": {},
   "outputs": [],
   "source": [
    "#Correlation Coefficient : close to 1 --- strong positive correlation, \n",
    "                          #close to -1 --- strong negative correlation, \n",
    "                          #close to 0 ---  no correlation.\n",
    "#t-score : standard errors the correlation coefficient is away from zero. \n",
    "          #It is compared to the t-critical value  \n",
    "          #At the 1% level of significance, if the t-score exceeds the t-critical value, \n",
    "          #the correlation is considered statistically significant.\n",
    "#Significance : t-score > t-critical\n",
    "                #there is a significant linear relationship between the 'Blood Pressure Before' and 'Blood Pressure After'"
   ]
  },
  {
   "cell_type": "code",
   "execution_count": null,
   "id": "ed11af33",
   "metadata": {},
   "outputs": [],
   "source": []
  }
 ],
 "metadata": {
  "kernelspec": {
   "display_name": "Python 3 (ipykernel)",
   "language": "python",
   "name": "python3"
  },
  "language_info": {
   "codemirror_mode": {
    "name": "ipython",
    "version": 3
   },
   "file_extension": ".py",
   "mimetype": "text/x-python",
   "name": "python",
   "nbconvert_exporter": "python",
   "pygments_lexer": "ipython3",
   "version": "3.9.10"
  }
 },
 "nbformat": 4,
 "nbformat_minor": 5
}
