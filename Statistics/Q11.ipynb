{
 "cells": [
  {
   "cell_type": "code",
   "execution_count": 2,
   "id": "3a41914f",
   "metadata": {},
   "outputs": [
    {
     "name": "stdout",
     "output_type": "stream",
     "text": [
      "a: To Check whether the distribution of all the classes are the same or not\n",
      "------------------------------------------------------------------------------\n",
      "Kruskal-Wallis test statistic: 27.6699110421624\n",
      "Kruskal-Wallis test p-value: 1.4388340131090711e-07\n",
      "\n",
      "As p_value : 1.4388340131090711e-07 < significance_level : 0.05\n",
      "No,The distribution of all the classes is not the same.\n",
      "\n",
      "we have enough evidence to reject the null hypothesis that the distributions are the same.\n"
     ]
    }
   ],
   "source": [
    "#a\n",
    "print(\"a: To Check whether the distribution of all the classes are the same or not\")\n",
    "print(\"------------------------------------------------------------------------------\")\n",
    "import pandas as pd\n",
    "import scipy.stats as stats\n",
    "\n",
    "# Read the data from the provided CSV file\n",
    "data = pd.read_csv('D:\\ineuron\\Placement related assignment\\Stat_Problem_Solutions\\data.csv')\n",
    "\n",
    "# Perform Kruskal-Wallis test\n",
    "significance_level = 0.05\n",
    "kruskal_result = stats.kruskal(data[' Blood Pressure Before '], data[' Blood Pressure After '])\n",
    "\n",
    "# Print the test statistic and p-value\n",
    "print(\"Kruskal-Wallis test statistic:\", kruskal_result.statistic)\n",
    "print(\"Kruskal-Wallis test p-value:\", kruskal_result.pvalue)\n",
    "print()\n",
    "if kruskal_result.pvalue < significance_level:\n",
    "  print(f\"As p_value : {kruskal_result.pvalue} < significance_level : {significance_level}\")\n",
    "  print(\"No,The distribution of all the classes is not the same.\")\n",
    "  print()\n",
    "  print(\"we have enough evidence to reject the null hypothesis that the distributions are the same.\")\n",
    "elif kruskal_result.pvalue >= significance_level:\n",
    "  print(f\"As p_value : {kruskal_result.pvalue} >= significance_level : {significance_level}\")\n",
    "  print(\"Yes,The distribution of all the classes is the same (Fail to reject the null hypothesis)\")\n"
   ]
  },
  {
   "cell_type": "code",
   "execution_count": 3,
   "id": "e75111c1",
   "metadata": {},
   "outputs": [
    {
     "name": "stdout",
     "output_type": "stream",
     "text": [
      "b: To Check for the equality of variance\n",
      "---------------------------------------\n",
      "Levene's test statistic: 0.18038002140150966\n",
      "Levene's test p-value: 0.6715080090945493\n",
      "\n",
      "As p_value : 0.6715080090945493 >= significance_level :0.05\n",
      "Yes,There equality of variance (Fail to reject the null hypothesis)\n"
     ]
    }
   ],
   "source": [
    "#b\n",
    "print(\"b: To Check for the equality of variance\")\n",
    "print(\"---------------------------------------\")\n",
    "# Perform Levene's test\n",
    "statistic, p_value = stats.levene(data[' Blood Pressure Before '], data[' Blood Pressure After '])\n",
    "\n",
    "# Print the results\n",
    "print(\"Levene's test statistic:\", statistic)\n",
    "print(\"Levene's test p-value:\", p_value)\n",
    "print()\n",
    "if p_value  <  significance_level:\n",
    "  print(f\"As p_value : {p_value} < significance_level : {significance_level}\")\n",
    "  print(\"No,There is no equality of variance (Reject the null hypothesis)\")\n",
    "elif p_value  >=  significance_level:\n",
    "  print(f\"As p_value : {p_value} >= significance_level :{significance_level}\")\n",
    "  print(\"Yes,There equality of variance (Fail to reject the null hypothesis)\")\n",
    "  "
   ]
  },
  {
   "cell_type": "code",
   "execution_count": 5,
   "id": "f902ceb5",
   "metadata": {},
   "outputs": [
    {
     "name": "stdout",
     "output_type": "stream",
     "text": [
      "c: To Which amount LDA and QDA would perform better on this data for classification and why\n",
      "-----------------------------------------------------------------------------------------------\n",
      "ValueError occurred: The number of samples must be more than the number of classes.\n",
      "LDA and QDA cannot be performed on the given data.\n",
      "\n"
     ]
    }
   ],
   "source": [
    " #c\n",
    "print(\"c: To Which amount LDA and QDA would perform better on this data for classification and why\")\n",
    "print(\"-----------------------------------------------------------------------------------------------\")\n",
    "import pandas as pd\n",
    "from sklearn.model_selection import train_test_split\n",
    "from sklearn.discriminant_analysis import LinearDiscriminantAnalysis, QuadraticDiscriminantAnalysis\n",
    "\n",
    "# Load the data from the CSV file\n",
    "data = pd.read_csv('data.csv')\n",
    "\n",
    "# Extract the features and target variable\n",
    "X = data[[' Blood Pressure Before ', ' Blood Pressure After ']]\n",
    "y = data['Patient ID']\n",
    "\n",
    "# Split the data into training and testing sets\n",
    "X_train, X_test, y_train, y_test = train_test_split(X, y, test_size=0.2, random_state=1)\n",
    "\n",
    "# Create LDA and QDA models\n",
    "lda = LinearDiscriminantAnalysis()\n",
    "qda = QuadraticDiscriminantAnalysis()\n",
    "\n",
    "try:\n",
    "    # Fit the models on the training data\n",
    "    lda.fit(X_train, y_train)\n",
    "    qda.fit(X_train, y_train)\n",
    "\n",
    "    # Predict the classes for the testing data\n",
    "    lda_predictions = lda.predict(X_test)\n",
    "    qda_predictions = qda.predict(X_test)\n",
    "\n",
    "    # Print the predicted classes\n",
    "    print(\"LDA Predictions:\")\n",
    "    print(lda_predictions)\n",
    "    print()\n",
    "    print(\"QDA Predictions:\")\n",
    "    print(qda_predictions)\n",
    "\n",
    "except ValueError as e:\n",
    "    print(\"ValueError occurred:\", e)\n",
    "    print(\"LDA and QDA cannot be performed on the given data.\")\n",
    "    print()\n",
    "   "
   ]
  },
  {
   "cell_type": "code",
   "execution_count": 6,
   "id": "f2c66af9",
   "metadata": {},
   "outputs": [
    {
     "name": "stdout",
     "output_type": "stream",
     "text": [
      "d: To Check the equality of mean for between all the classes\n",
      "--------------------------------------------------------------\n",
      "ANOVA Test Results:\n",
      "\n",
      "Test Statistic: 33.85555270599285\n",
      "p-value: 2.3565868442706738e-08\n",
      "\n",
      "As p_value : 2.3565868442706738e-08 < significance_level/alpha : 0.05\n",
      "Yes,There is a equality of mean for between all the classes\n",
      "There is a significant difference in the means of the two groups.\n"
     ]
    }
   ],
   "source": [
    "#d\n",
    "print(\"d: To Check the equality of mean for between all the classes\")\n",
    "#ANOVA test is used by assuming data is nrml distribution + variances of 2grps are equal\n",
    "print(\"--------------------------------------------------------------\")\n",
    "import pandas as pd\n",
    "from scipy.stats import f_oneway\n",
    "\n",
    "# Load the data from the CSV file\n",
    "data = pd.read_csv('data.csv')\n",
    "\n",
    "# Extract the blood pressure before and after measurements\n",
    "bp_before = data[' Blood Pressure Before ']\n",
    "bp_after = data[' Blood Pressure After ']\n",
    "\n",
    "# Perform ANOVA test\n",
    "statistic, p_value = f_oneway(bp_before, bp_after)\n",
    "\n",
    "# Print the results\n",
    "print(\"ANOVA Test Results:\")\n",
    "print()\n",
    "print(\"Test Statistic:\", statistic)\n",
    "print(\"p-value:\", p_value)\n",
    "print()\n",
    "\n",
    "# Interpret the results\n",
    "alpha = 0.05\n",
    "if p_value < alpha:\n",
    "    print(f\"As p_value : {p_value} < significance_level/alpha : {alpha}\")\n",
    "    print(\"Yes,There is a equality of mean for between all the classes\")\n",
    "    print(\"There is a significant difference in the means of the two groups.\")\n",
    "elif p_value >= alpha:\n",
    "    print(f\"As p_value : {p_value} >= significance_level/alpha : {alpha}\")\n",
    "    print(\"No,There is no significant difference in the means of the two groups.\")"
   ]
  },
  {
   "cell_type": "code",
   "execution_count": null,
   "id": "4de0cd3e",
   "metadata": {},
   "outputs": [],
   "source": []
  }
 ],
 "metadata": {
  "kernelspec": {
   "display_name": "Python 3 (ipykernel)",
   "language": "python",
   "name": "python3"
  },
  "language_info": {
   "codemirror_mode": {
    "name": "ipython",
    "version": 3
   },
   "file_extension": ".py",
   "mimetype": "text/x-python",
   "name": "python",
   "nbconvert_exporter": "python",
   "pygments_lexer": "ipython3",
   "version": "3.9.10"
  }
 },
 "nbformat": 4,
 "nbformat_minor": 5
}
