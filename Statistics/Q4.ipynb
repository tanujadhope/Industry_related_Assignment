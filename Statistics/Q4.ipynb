{
 "cells": [
  {
   "cell_type": "code",
   "execution_count": 2,
   "id": "d886a9df",
   "metadata": {},
   "outputs": [
    {
     "name": "stdout",
     "output_type": "stream",
     "text": [
      "The probability that the number drawn is a perfect square: 0.2 or 20.0 %\n"
     ]
    }
   ],
   "source": [
    "##Number of favorable outcomes\n",
    "favorable_outcomes = 4\n",
    "\n",
    "# Total number of possible outcomes\n",
    "total_outcomes = 20\n",
    "\n",
    "# Calculate the probability\n",
    "probability = favorable_outcomes / total_outcomes\n",
    "\n",
    "# Display the result\n",
    "print(\"The probability that the number drawn is a perfect square:\", probability,\"or\",probability*100,\"%\")"
   ]
  },
  {
   "cell_type": "code",
   "execution_count": null,
   "id": "7991244c",
   "metadata": {},
   "outputs": [],
   "source": []
  }
 ],
 "metadata": {
  "kernelspec": {
   "display_name": "Python 3 (ipykernel)",
   "language": "python",
   "name": "python3"
  },
  "language_info": {
   "codemirror_mode": {
    "name": "ipython",
    "version": 3
   },
   "file_extension": ".py",
   "mimetype": "text/x-python",
   "name": "python",
   "nbconvert_exporter": "python",
   "pygments_lexer": "ipython3",
   "version": "3.9.10"
  }
 },
 "nbformat": 4,
 "nbformat_minor": 5
}
