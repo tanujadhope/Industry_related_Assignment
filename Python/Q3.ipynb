{
 "cells": [
  {
   "cell_type": "code",
   "execution_count": 13,
   "id": "3105fead",
   "metadata": {},
   "outputs": [],
   "source": [
    "#question 3\n",
    "import requests\n",
    "import json\n",
    "import pandas as pd\n",
    "import logging"
   ]
  },
  {
   "cell_type": "code",
   "execution_count": 14,
   "id": "da6713ab",
   "metadata": {},
   "outputs": [],
   "source": [
    "\n",
    "# Function to download data from the given URL\n",
    "def download_data(url):\n",
    "    response = requests.get(url)\n",
    "    data = response.json()\n",
    "    return data"
   ]
  },
  {
   "cell_type": "code",
   "execution_count": 18,
   "id": "d93111f9",
   "metadata": {},
   "outputs": [],
   "source": [
    "# Function to convert the JSON data to a structured format\n",
    "def convert_to_structured_data(data):\n",
    "    structured_data = []\n",
    "    \n",
    "    for pokemon in data['pokemon']:\n",
    "        pokemon_data = {\n",
    "            'id': pokemon['id'],\n",
    "            'num': pokemon['num'],\n",
    "            'name': pokemon['name'],\n",
    "            'img': pokemon['img'],\n",
    "            'type': ', '.join(pokemon['type']),\n",
    "            'height': pokemon['height'],\n",
    "            'weight': pokemon['weight'],\n",
    "            'candy': pokemon.get('candy', ''),\n",
    "            'candy_count': pokemon.get('candy_count', ''),\n",
    "            'egg': pokemon.get('egg', ''),\n",
    "            'spawn_chance': pokemon.get('spawn_chance', ''),\n",
    "            'avg_spawns': pokemon.get('avg_spawns', ''),\n",
    "            'spawn_time': pokemon.get('spawn_time', ''),\n",
    "            'multipliers': ', '.join(str(multiplier) for multiplier in pokemon.get('multipliers', [])),\n",
    "            'weakness': ', '.join(pokemon.get('weaknesses', [])),\n",
    "            'next_evolution': ', '.join(f\"{evolution['num']}: {evolution['name']}\" for evolution in pokemon.get('next_evolution', [])),\n",
    "            'prev_evolution': ', '.join(f\"{evolution['num']}: {evolution['name']}\" for evolution in pokemon.get('prev_evolution', []))\n",
    "        }\n",
    "        structured_data.append(pokemon_data)\n",
    "    \n",
    "    return structured_data\n"
   ]
  },
  {
   "cell_type": "code",
   "execution_count": 19,
   "id": "d634ee73",
   "metadata": {},
   "outputs": [],
   "source": [
    "# Function to export the data to an Excel file\n",
    "def export_to_excel(data, file_name):\n",
    "    df = pd.DataFrame(data)\n",
    "    df.to_excel(file_name, index=False)"
   ]
  },
  {
   "cell_type": "code",
   "execution_count": 20,
   "id": "15bdcb0e",
   "metadata": {},
   "outputs": [
    {
     "name": "stdout",
     "output_type": "stream",
     "text": [
      "Data exported to pokemon_data.xlsx\n"
     ]
    }
   ],
   "source": [
    "\n",
    "    url = \"https://raw.githubusercontent.com/Biuni/PokemonGO-Pokedex/master/pokedex.json\"\n",
    "    file_name = \"pokemon_data.xlsx\"\n",
    "\n",
    "    # Download data\n",
    "    data = download_data(url)\n",
    "\n",
    "    # Convert data to a structured format\n",
    "    structured_data = convert_to_structured_data(data)\n",
    "\n",
    "    # Export data to Excel\n",
    "    export_to_excel(structured_data, file_name)\n",
    "\n",
    "    print(\"Data exported to\", file_name)\n",
    "\n",
    "\n"
   ]
  },
  {
   "cell_type": "code",
   "execution_count": null,
   "id": "f0c2d102",
   "metadata": {},
   "outputs": [],
   "source": []
  },
  {
   "cell_type": "code",
   "execution_count": null,
   "id": "2bbdc02b",
   "metadata": {},
   "outputs": [],
   "source": []
  }
 ],
 "metadata": {
  "kernelspec": {
   "display_name": "Python 3 (ipykernel)",
   "language": "python",
   "name": "python3"
  },
  "language_info": {
   "codemirror_mode": {
    "name": "ipython",
    "version": 3
   },
   "file_extension": ".py",
   "mimetype": "text/x-python",
   "name": "python",
   "nbconvert_exporter": "python",
   "pygments_lexer": "ipython3",
   "version": "3.9.10"
  }
 },
 "nbformat": 4,
 "nbformat_minor": 5
}
