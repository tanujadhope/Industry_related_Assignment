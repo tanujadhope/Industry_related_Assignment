{
 "cells": [
  {
   "cell_type": "code",
   "execution_count": null,
   "id": "6d571491",
   "metadata": {},
   "outputs": [],
   "source": [
    "# #question1"
   ]
  },
  {
   "cell_type": "code",
   "execution_count": 19,
   "id": "5688f233",
   "metadata": {},
   "outputs": [
    {
     "name": "stdout",
     "output_type": "stream",
     "text": [
      "The length of high frequency word is:\n",
      "5\n"
     ]
    }
   ],
   "source": [
    "def repeatword(msg):\n",
    "    word_freq = {}\n",
    "    words = s.split()\n",
    "    \n",
    "    for word in words:\n",
    "        if word in word_freq:\n",
    "            word_freq[word] += 1\n",
    "        else:\n",
    "            word_freq[word] = 1\n",
    "    \n",
    "    max_frequency = max(word_freq.values())\n",
    "    \n",
    "    for word, frequency in word_freq.items():\n",
    "        if frequency == max_frequency:\n",
    "            return len(word)\n",
    "msg= \"write write write all the number from from from 1 to 100\"\n",
    "print(\"The length of high frequency word is:\")\n",
    "print(repeatword(msg))"
   ]
  },
  {
   "cell_type": "code",
   "execution_count": null,
   "id": "ed9e4cd9",
   "metadata": {},
   "outputs": [],
   "source": []
  },
  {
   "cell_type": "code",
   "execution_count": null,
   "id": "5b2fc966",
   "metadata": {},
   "outputs": [],
   "source": []
  }
 ],
 "metadata": {
  "kernelspec": {
   "display_name": "Python 3 (ipykernel)",
   "language": "python",
   "name": "python3"
  },
  "language_info": {
   "codemirror_mode": {
    "name": "ipython",
    "version": 3
   },
   "file_extension": ".py",
   "mimetype": "text/x-python",
   "name": "python",
   "nbconvert_exporter": "python",
   "pygments_lexer": "ipython3",
   "version": "3.9.10"
  }
 },
 "nbformat": 4,
 "nbformat_minor": 5
}
