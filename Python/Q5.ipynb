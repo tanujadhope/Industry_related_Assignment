{
 "cells": [
  {
   "cell_type": "code",
   "execution_count": 1,
   "id": "089332a1",
   "metadata": {},
   "outputs": [],
   "source": [
    "import pandas as pd\n",
    "import json\n",
    "import requests"
   ]
  },
  {
   "cell_type": "code",
   "execution_count": 4,
   "id": "3a5b2f84",
   "metadata": {},
   "outputs": [],
   "source": [
    "\n",
    "def download_data(url):\n",
    "    response = requests.get(url)\n",
    "    data = json.loads(response.text)\n",
    "    return data"
   ]
  },
  {
   "cell_type": "code",
   "execution_count": 11,
   "id": "e29f2555",
   "metadata": {},
   "outputs": [],
   "source": [
    "def extract_data(data):\n",
    "    id1 = data['id']\n",
    "    url1 = data['url']\n",
    "    name1 = data['name']\n",
    "    season1 = data.get('season')\n",
    "    number1 = data.get('number')\n",
    "    type1 = data.get('type')\n",
    "    airdate1 = data.get('airdate')\n",
    "    airtime1 = data.get('airtime')\n",
    "    runtime1 = data.get('runtime')\n",
    "    average_rating1 = data['rating']['average']\n",
    "    summary1 = data.get('summary', '').replace('<p>', '').replace('</p>', '').replace('<b>', '').replace('</b>', '')\n",
    "    image_medium1 = data['image']['medium']\n",
    "    image_original2 = data['image']['original']\n",
    "\n",
    "    formatted_data = {\n",
    "        'id': id1,\n",
    "        'url':url1,\n",
    "        'name': name1,\n",
    "        'season':season1,\n",
    "        'number': number1,\n",
    "        'type': type1,\n",
    "        'airdate': airdate1,\n",
    "        'airtime': airtime1,\n",
    "        'runtime': runtime1,\n",
    "        'rating': average_rating1,\n",
    "        'summary': summary1,\n",
    "        'image_medium': image_medium1,\n",
    "        'image_original': image_original2\n",
    "    }\n",
    "\n",
    "    return formatted_data"
   ]
  },
  {
   "cell_type": "code",
   "execution_count": 12,
   "id": "bc276379",
   "metadata": {},
   "outputs": [
    {
     "name": "stdout",
     "output_type": "stream",
     "text": [
      "id: 1371\n",
      "url: https://www.tvmaze.com/shows/1371/westworld\n",
      "name: Westworld\n",
      "season: None\n",
      "number: None\n",
      "type: Scripted\n",
      "airdate: None\n",
      "airtime: None\n",
      "runtime: 60\n",
      "rating: 8.2\n",
      "summary: Westworld is a dark odyssey about the dawn of artificial consciousness and the evolution of sin. Set at the intersection of the near future and the reimagined past, it explores a world in which every human appetite, no matter how noble or depraved, can be indulged.\n",
      "image_medium: https://static.tvmaze.com/uploads/images/medium_portrait/445/1113927.jpg\n",
      "image_original: https://static.tvmaze.com/uploads/images/original_untouched/445/1113927.jpg\n"
     ]
    }
   ],
   "source": [
    "# API URL\n",
    "url = \"http://api.tvmaze.com/singlesearch/shows?q=westworld&embed=episodes\"\n",
    "    \n",
    "# Download data from the API\n",
    "data = download_data(url)\n",
    "    \n",
    "# Extract and format the data\n",
    "formatted_data = extract_data(data)\n",
    "    \n",
    "# Display the extracted and formatted data\n",
    "for key, value in formatted_data.items():\n",
    "    print(f\"{key}: {value}\")"
   ]
  },
  {
   "cell_type": "code",
   "execution_count": null,
   "id": "33c50668",
   "metadata": {},
   "outputs": [],
   "source": []
  }
 ],
 "metadata": {
  "kernelspec": {
   "display_name": "Python 3 (ipykernel)",
   "language": "python",
   "name": "python3"
  },
  "language_info": {
   "codemirror_mode": {
    "name": "ipython",
    "version": 3
   },
   "file_extension": ".py",
   "mimetype": "text/x-python",
   "name": "python",
   "nbconvert_exporter": "python",
   "pygments_lexer": "ipython3",
   "version": "3.9.10"
  }
 },
 "nbformat": 4,
 "nbformat_minor": 5
}
