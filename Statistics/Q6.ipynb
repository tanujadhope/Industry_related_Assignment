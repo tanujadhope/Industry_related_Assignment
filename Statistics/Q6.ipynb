{
 "cells": [
  {
   "cell_type": "code",
   "execution_count": 5,
   "id": "68c11f35",
   "metadata": {},
   "outputs": [],
   "source": [
    "import pandas as pd\n",
    "import numpy as np\n",
    "import scipy.stats as stats"
   ]
  },
  {
   "cell_type": "code",
   "execution_count": 8,
   "id": "04f56265",
   "metadata": {},
   "outputs": [],
   "source": [
    "# Read data from CSV file\n",
    "data = pd.read_csv(r'D:\\ineuron\\Placement related assignment\\Stat_Problem_Solutions\\data.csv')\n"
   ]
  },
  {
   "cell_type": "code",
   "execution_count": 9,
   "id": "026f189f",
   "metadata": {},
   "outputs": [
    {
     "name": "stdout",
     "output_type": "stream",
     "text": [
      "_, p_value_before : (0.9573234915733337, 0.002603276167064905)\n",
      "_, p_value_after  : (0.9400556683540344, 0.00019430516113061458)\n",
      "\n"
     ]
    }
   ],
   "source": [
    "# Perform Shapiro-Wilk normality test - to find nrml dist\\not ----- returns test statistic and a p-value.\n",
    "_, p_value_before = stats.shapiro(data[' Blood Pressure Before '])\n",
    "print(f\"_, p_value_before : {_, p_value_before}\")\n",
    "_, p_value_after = stats.shapiro(data[' Blood Pressure After '])\n",
    "print(f\"_, p_value_after  : {_, p_value_after}\")\n",
    "print()\n",
    "\n"
   ]
  },
  {
   "cell_type": "code",
   "execution_count": 13,
   "id": "2eb926c0",
   "metadata": {},
   "outputs": [
    {
     "name": "stdout",
     "output_type": "stream",
     "text": [
      "Since p_value_before and p_value_after are not greater, The change in blood pressure does not follow a normal distribution.\n"
     ]
    }
   ],
   "source": [
    "\n",
    "\n",
    "\n",
    "# Interpret the results\n",
    "alpha = 0.05 #significance level,set to 0.05 \n",
    "\n",
    "if p_value_before > alpha and p_value_after > alpha:\n",
    "    print(\"The change in blood pressure follows a normal distribution.\")\n",
    "else:\n",
    "    print(f\"Since p_value_before and p_value_after are not greater, The change in blood pressure does not follow a normal distribution.\")\n",
    "\n"
   ]
  },
  {
   "cell_type": "code",
   "execution_count": 11,
   "id": "4de39a65",
   "metadata": {},
   "outputs": [
    {
     "name": "stdout",
     "output_type": "stream",
     "text": [
      "_, p_value_before : (1.0, 0.0)\n",
      "_, p_value_after  : (1.0, 0.0)\n",
      "\n"
     ]
    }
   ],
   "source": [
    "import math\n",
    "import numpy as np\n",
    "from scipy.stats import kstest\n",
    "from scipy.stats import lognorm\n",
    "\n",
    "\n",
    "#perform Kolmogorov-Smirnov test for normality\n",
    "_, p_value_before =stats.kstest((data[' Blood Pressure Before ']), 'norm')\n",
    "\n",
    "print(f\"_, p_value_before : {_, p_value_before}\")\n",
    "_, p_value_after = stats.kstest((data[' Blood Pressure Before ']), 'norm')\n",
    "print(f\"_, p_value_after  : {_, p_value_after}\")\n",
    "print()"
   ]
  },
  {
   "cell_type": "code",
   "execution_count": 12,
   "id": "20e0c394",
   "metadata": {},
   "outputs": [
    {
     "name": "stdout",
     "output_type": "stream",
     "text": [
      "Since p_value_before and p_value_after are not greater, The change in blood pressure does not follow a normal distribution.\n"
     ]
    }
   ],
   "source": [
    "# Interpret the results\n",
    "alpha = 0.05 #significance level,set to 0.05 \n",
    "\n",
    "if p_value_before > alpha and p_value_after > alpha:\n",
    "    print(\"The change in blood pressure follows a normal distribution.\")\n",
    "else:\n",
    "    print(f\"Since p_value_before and p_value_after are not greater, The change in blood pressure does not follow a normal distribution.\")\n"
   ]
  },
  {
   "cell_type": "code",
   "execution_count": null,
   "id": "653744a6",
   "metadata": {},
   "outputs": [],
   "source": []
  }
 ],
 "metadata": {
  "kernelspec": {
   "display_name": "Python 3 (ipykernel)",
   "language": "python",
   "name": "python3"
  },
  "language_info": {
   "codemirror_mode": {
    "name": "ipython",
    "version": 3
   },
   "file_extension": ".py",
   "mimetype": "text/x-python",
   "name": "python",
   "nbconvert_exporter": "python",
   "pygments_lexer": "ipython3",
   "version": "3.9.10"
  }
 },
 "nbformat": 4,
 "nbformat_minor": 5
}
