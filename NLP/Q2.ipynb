{
 "cells": [
  {
   "cell_type": "markdown",
   "id": "a15fce2c",
   "metadata": {},
   "source": [
    "Question 2:Take any pdf and your task is to extract the text from that pdf and store it in a\n",
    "csv file and then you need to find the most repeated word in that pdf"
   ]
  },
  {
   "cell_type": "code",
   "execution_count": 2,
   "id": "9c9a0dfd",
   "metadata": {},
   "outputs": [
    {
     "name": "stdout",
     "output_type": "stream",
     "text": [
      "Collecting PyPDF2\n",
      "  Downloading pypdf2-3.0.1-py3-none-any.whl (232 kB)\n",
      "                                              0.0/232.6 kB ? eta -:--:--\n",
      "     ----------                              61.4/232.6 kB 3.2 MB/s eta 0:00:01\n",
      "     ------------------------------------   225.3/232.6 kB 2.3 MB/s eta 0:00:01\n",
      "     -------------------------------------- 232.6/232.6 kB 1.6 MB/s eta 0:00:00\n",
      "Requirement already satisfied: typing_extensions>=3.10.0.0 in c:\\users\\pc\\appdata\\local\\programs\\python\\python39\\lib\\site-packages (from PyPDF2) (4.6.2)\n",
      "Installing collected packages: PyPDF2\n",
      "Successfully installed PyPDF2-3.0.1\n",
      "Note: you may need to restart the kernel to use updated packages.\n"
     ]
    },
    {
     "name": "stderr",
     "output_type": "stream",
     "text": [
      "WARNING: Ignoring invalid distribution -illow (c:\\users\\pc\\appdata\\local\\programs\\python\\python39\\lib\\site-packages)\n",
      "WARNING: Ignoring invalid distribution -illow (c:\\users\\pc\\appdata\\local\\programs\\python\\python39\\lib\\site-packages)\n"
     ]
    }
   ],
   "source": [
    "pip install PyPDF2\n"
   ]
  },
  {
   "cell_type": "code",
   "execution_count": 3,
   "id": "74400c0d",
   "metadata": {},
   "outputs": [
    {
     "name": "stderr",
     "output_type": "stream",
     "text": [
      "unknown widths : \n",
      "[0, IndirectObject(223, 0, 2273135472256)]\n",
      "unknown widths : \n",
      "[0, IndirectObject(218, 0, 2273135472256)]\n",
      "unknown widths : \n",
      "[0, IndirectObject(213, 0, 2273135472256)]\n",
      "unknown widths : \n",
      "[0, IndirectObject(208, 0, 2273135472256)]\n",
      "unknown widths : \n",
      "[0, IndirectObject(203, 0, 2273135472256)]\n",
      "unknown widths : \n",
      "[0, IndirectObject(198, 0, 2273135472256)]\n",
      "unknown widths : \n",
      "[0, IndirectObject(193, 0, 2273135472256)]\n",
      "unknown widths : \n",
      "[0, IndirectObject(188, 0, 2273135472256)]\n",
      "unknown widths : \n",
      "[0, IndirectObject(183, 0, 2273135472256)]\n",
      "unknown widths : \n",
      "[0, IndirectObject(178, 0, 2273135472256)]\n",
      "unknown widths : \n",
      "[0, IndirectObject(173, 0, 2273135472256)]\n",
      "unknown widths : \n",
      "[0, IndirectObject(168, 0, 2273135472256)]\n",
      "unknown widths : \n",
      "[0, IndirectObject(163, 0, 2273135472256)]\n",
      "unknown widths : \n",
      "[0, IndirectObject(344, 0, 2273135472256)]\n",
      "unknown widths : \n",
      "[0, IndirectObject(339, 0, 2273135472256)]\n",
      "unknown widths : \n",
      "[0, IndirectObject(274, 0, 2273135472256)]\n",
      "unknown widths : \n",
      "[0, IndirectObject(264, 0, 2273135472256)]\n",
      "unknown widths : \n",
      "[0, IndirectObject(259, 0, 2273135472256)]\n",
      "unknown widths : \n",
      "[0, IndirectObject(334, 0, 2273135472256)]\n",
      "unknown widths : \n",
      "[0, IndirectObject(329, 0, 2273135472256)]\n",
      "unknown widths : \n",
      "[0, IndirectObject(249, 0, 2273135472256)]\n"
     ]
    },
    {
     "name": "stdout",
     "output_type": "stream",
     "text": [
      "Most Repeated Word: of\n"
     ]
    }
   ],
   "source": [
    "import PyPDF2\n",
    "import pandas as pd\n",
    "from collections import Counter\n",
    "\n",
    "# extract text from PDF\n",
    "def extract_text_from_pdf(file_path):\n",
    "    with open(file_path, 'rb') as file:\n",
    "        reader = PyPDF2.PdfReader(file)\n",
    "        text = ''\n",
    "        for page in reader.pages:\n",
    "            text += page.extract_text()\n",
    "        return text\n",
    "\n",
    "# Path \n",
    "pdf_file = '5G implementation.pdf'\n",
    "\n",
    "\n",
    "text = extract_text_from_pdf(pdf_file)\n",
    "\n",
    "#  CSV file\n",
    "data = {'Text': [text]}\n",
    "df = pd.DataFrame(data)\n",
    "csv_file = 'file.csv'\n",
    "df.to_csv(csv_file, index=False)\n",
    "\n",
    "# most repeated word\n",
    "words = text.split()\n",
    "word_count = Counter(words)\n",
    "most_common_word = word_count.most_common(1)[0][0]\n",
    "\n",
    "print(\"Most Repeated Word:\", most_common_word)\n",
    "\n"
   ]
  },
  {
   "cell_type": "code",
   "execution_count": null,
   "id": "a8a5a1ff",
   "metadata": {},
   "outputs": [],
   "source": []
  }
 ],
 "metadata": {
  "kernelspec": {
   "display_name": "Python 3 (ipykernel)",
   "language": "python",
   "name": "python3"
  },
  "language_info": {
   "codemirror_mode": {
    "name": "ipython",
    "version": 3
   },
   "file_extension": ".py",
   "mimetype": "text/x-python",
   "name": "python",
   "nbconvert_exporter": "python",
   "pygments_lexer": "ipython3",
   "version": "3.9.10"
  }
 },
 "nbformat": 4,
 "nbformat_minor": 5
}
