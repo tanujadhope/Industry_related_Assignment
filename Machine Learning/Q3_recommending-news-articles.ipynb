{
 "cells": [
  {
   "cell_type": "markdown",
   "metadata": {},
   "source": [
    "####  Imagine you have a dataset where you have different categories of data, Nowyou need to find the most similar data to the given data by using any 4 differentsimilarity algorithms. Now you have to build a model which can find the most similar data to the given data."
   ]
  },
  {
   "cell_type": "markdown",
   "metadata": {},
   "source": [
    "**Recommender systems** are most extensively used to suggest \"Similar items\", \"Relevant jobs\", \"preferred foods\", \"Movies of interest\" etc to their users. \n",
    "\n",
    "**Recommender system** with appropiate item suggestions helps in boosting sales, increasing revenue, retaining customers and also adds competitive advantage. \n",
    "There are basically two kind of **recommendation** methods.\n",
    "1. **Content based recommendation**\n",
    "2. **Collaborative filtering**"
   ]
  },
  {
   "cell_type": "markdown",
   "metadata": {},
   "source": [
    "**Content based recommendation ** is based on similarity among users/items obtained through their **attributes**. It uses the additional information(meta data) about the **users** or **items** i.e. it relies on what kind of **content** is already available. This meta data could be **user's demograpic information** like *age*, *gender*, *job*, *location*, *skillsets* etc. Similarly for **items** it can be *item name*, *specifications*, *category*, *registration date* etc.\n",
    "\n",
    "So the core idea is to recommend items by finding similar items/users to the concerned **item/user** based on their **attributes**. \n",
    "\n",
    "here  **Content based recommendation** using **News category** dataset has been analysed. The goal is to recommend **news articles** which are similar to the already read article by using attributes like article *headline*, *category*, *author* and *publishing date*.\n",
    "\n"
   ]
  },
  {
   "cell_type": "markdown",
   "metadata": {},
   "source": [
    "## 1. Importing necessary Libraries"
   ]
  },
  {
   "cell_type": "code",
   "execution_count": 5,
   "metadata": {},
   "outputs": [
    {
     "name": "stdout",
     "output_type": "stream",
     "text": [
      "Collecting nltk\n",
      "  Downloading nltk-3.8.1-py3-none-any.whl (1.5 MB)\n",
      "     ---------------------------------------- 0.0/1.5 MB ? eta -:--:--\n",
      "     - -------------------------------------- 0.0/1.5 MB 653.6 kB/s eta 0:00:03\n",
      "     - -------------------------------------- 0.0/1.5 MB 653.6 kB/s eta 0:00:03\n",
      "     - -------------------------------------- 0.0/1.5 MB 653.6 kB/s eta 0:00:03\n",
      "     - -------------------------------------- 0.0/1.5 MB 653.6 kB/s eta 0:00:03\n",
      "     - -------------------------------------- 0.1/1.5 MB 233.8 kB/s eta 0:00:07\n",
      "     -- ------------------------------------- 0.1/1.5 MB 291.5 kB/s eta 0:00:05\n",
      "     --- ------------------------------------ 0.1/1.5 MB 343.4 kB/s eta 0:00:05\n",
      "     --- ------------------------------------ 0.1/1.5 MB 355.0 kB/s eta 0:00:04\n",
      "     ---- ----------------------------------- 0.2/1.5 MB 374.1 kB/s eta 0:00:04\n",
      "     ----- ---------------------------------- 0.2/1.5 MB 430.1 kB/s eta 0:00:03\n",
      "     ------- -------------------------------- 0.3/1.5 MB 505.4 kB/s eta 0:00:03\n",
      "     -------- ------------------------------- 0.3/1.5 MB 551.6 kB/s eta 0:00:03\n",
      "     ---------- ----------------------------- 0.4/1.5 MB 623.0 kB/s eta 0:00:02\n",
      "     ----------- ---------------------------- 0.5/1.5 MB 640.0 kB/s eta 0:00:02\n",
      "     -------------- ------------------------- 0.5/1.5 MB 711.5 kB/s eta 0:00:02\n",
      "     --------------- ------------------------ 0.6/1.5 MB 747.3 kB/s eta 0:00:02\n",
      "     ----------------- ---------------------- 0.7/1.5 MB 803.9 kB/s eta 0:00:02\n",
      "     -------------------- ------------------- 0.8/1.5 MB 839.0 kB/s eta 0:00:01\n",
      "     --------------------- ------------------ 0.8/1.5 MB 873.3 kB/s eta 0:00:01\n",
      "     ----------------------- ---------------- 0.9/1.5 MB 890.9 kB/s eta 0:00:01\n",
      "     ------------------------- -------------- 1.0/1.5 MB 913.8 kB/s eta 0:00:01\n",
      "     --------------------------- ------------ 1.0/1.5 MB 949.9 kB/s eta 0:00:01\n",
      "     ----------------------------- ---------- 1.1/1.5 MB 983.0 kB/s eta 0:00:01\n",
      "     ------------------------------- -------- 1.2/1.5 MB 1.0 MB/s eta 0:00:01\n",
      "     --------------------------------- ------ 1.3/1.5 MB 1.0 MB/s eta 0:00:01\n",
      "     ------------------------------------ --- 1.4/1.5 MB 1.1 MB/s eta 0:00:01\n",
      "     -------------------------------------- - 1.5/1.5 MB 1.1 MB/s eta 0:00:01\n",
      "     ---------------------------------------  1.5/1.5 MB 1.1 MB/s eta 0:00:01\n",
      "     ---------------------------------------  1.5/1.5 MB 1.1 MB/s eta 0:00:01\n",
      "     ---------------------------------------- 1.5/1.5 MB 1.0 MB/s eta 0:00:00\n",
      "Collecting regex>=2021.8.3\n",
      "  Downloading regex-2023.5.5-cp39-cp39-win_amd64.whl (267 kB)\n",
      "     ---------------------------------------- 0.0/268.0 kB ? eta -:--:--\n",
      "     --------------- ---------------------- 112.6/268.0 kB 2.2 MB/s eta 0:00:01\n",
      "     --------------------------- ---------- 194.6/268.0 kB 2.4 MB/s eta 0:00:01\n",
      "     -------------------------------------  266.2/268.0 kB 2.3 MB/s eta 0:00:01\n",
      "     -------------------------------------  266.2/268.0 kB 2.3 MB/s eta 0:00:01\n",
      "     -------------------------------------  266.2/268.0 kB 2.3 MB/s eta 0:00:01\n",
      "     -------------------------------------- 268.0/268.0 kB 1.1 MB/s eta 0:00:00\n",
      "Requirement already satisfied: click in c:\\users\\pc\\appdata\\local\\programs\\python\\python39\\lib\\site-packages (from nltk) (8.1.3)\n",
      "Requirement already satisfied: tqdm in c:\\users\\pc\\appdata\\local\\programs\\python\\python39\\lib\\site-packages (from nltk) (4.65.0)\n",
      "Requirement already satisfied: joblib in c:\\users\\pc\\appdata\\local\\programs\\python\\python39\\lib\\site-packages (from nltk) (1.2.0)\n",
      "Requirement already satisfied: colorama in c:\\users\\pc\\appdata\\local\\programs\\python\\python39\\lib\\site-packages (from click->nltk) (0.4.6)\n",
      "Installing collected packages: regex, nltk\n",
      "Successfully installed nltk-3.8.1 regex-2023.5.5\n",
      "Note: you may need to restart the kernel to use updated packages.\n"
     ]
    },
    {
     "name": "stderr",
     "output_type": "stream",
     "text": [
      "\n",
      "[notice] A new release of pip is available: 23.0.1 -> 23.1.2\n",
      "[notice] To update, run: python.exe -m pip install --upgrade pip\n"
     ]
    }
   ],
   "source": [
    "pip install nltk"
   ]
  },
  {
   "cell_type": "code",
   "execution_count": 6,
   "metadata": {},
   "outputs": [
    {
     "name": "stdout",
     "output_type": "stream",
     "text": [
      "Collecting plotlyNote: you may need to restart the kernel to use updated packages.\n",
      "\n",
      "  Downloading plotly-5.14.1-py2.py3-none-any.whl (15.3 MB)\n",
      "     ---------------------------------------- 0.0/15.3 MB ? eta -:--:--\n",
      "     --------------------------------------- 0.0/15.3 MB 991.0 kB/s eta 0:00:16\n",
      "     --------------------------------------- 0.0/15.3 MB 991.0 kB/s eta 0:00:16\n",
      "     --------------------------------------- 0.0/15.3 MB 991.0 kB/s eta 0:00:16\n",
      "     --------------------------------------- 0.0/15.3 MB 991.0 kB/s eta 0:00:16\n",
      "     --------------------------------------- 0.0/15.3 MB 991.0 kB/s eta 0:00:16\n",
      "     --------------------------------------- 0.1/15.3 MB 193.2 kB/s eta 0:01:20\n",
      "     --------------------------------------- 0.1/15.3 MB 196.9 kB/s eta 0:01:18\n",
      "     --------------------------------------- 0.1/15.3 MB 238.1 kB/s eta 0:01:05\n",
      "     --------------------------------------- 0.1/15.3 MB 262.6 kB/s eta 0:00:59\n",
      "     --------------------------------------- 0.2/15.3 MB 349.3 kB/s eta 0:00:44\n",
      "      -------------------------------------- 0.2/15.3 MB 377.8 kB/s eta 0:00:41\n",
      "      -------------------------------------- 0.3/15.3 MB 492.0 kB/s eta 0:00:31\n",
      "      -------------------------------------- 0.4/15.3 MB 571.7 kB/s eta 0:00:27\n",
      "     - ------------------------------------- 0.5/15.3 MB 688.0 kB/s eta 0:00:22\n",
      "     - ------------------------------------- 0.5/15.3 MB 701.0 kB/s eta 0:00:22\n",
      "     - ------------------------------------- 0.6/15.3 MB 750.9 kB/s eta 0:00:20\n",
      "     - ------------------------------------- 0.6/15.3 MB 786.7 kB/s eta 0:00:19\n",
      "     - ------------------------------------- 0.7/15.3 MB 841.0 kB/s eta 0:00:18\n",
      "     -- ------------------------------------ 0.8/15.3 MB 897.4 kB/s eta 0:00:17\n",
      "     -- ------------------------------------ 0.9/15.3 MB 955.1 kB/s eta 0:00:16\n",
      "     -- ------------------------------------ 0.9/15.3 MB 940.5 kB/s eta 0:00:16\n",
      "     -- ------------------------------------ 1.0/15.3 MB 988.7 kB/s eta 0:00:15\n",
      "     -- ------------------------------------- 1.1/15.3 MB 1.0 MB/s eta 0:00:14\n",
      "     --- ------------------------------------ 1.2/15.3 MB 1.1 MB/s eta 0:00:13\n",
      "     --- ------------------------------------ 1.3/15.3 MB 1.1 MB/s eta 0:00:13\n",
      "     --- ------------------------------------ 1.4/15.3 MB 1.2 MB/s eta 0:00:13\n",
      "     --- ------------------------------------ 1.5/15.3 MB 1.2 MB/s eta 0:00:12\n",
      "     ---- ----------------------------------- 1.6/15.3 MB 1.2 MB/s eta 0:00:12\n",
      "     ---- ----------------------------------- 1.8/15.3 MB 1.3 MB/s eta 0:00:11\n",
      "     ---- ----------------------------------- 1.9/15.3 MB 1.3 MB/s eta 0:00:11\n",
      "     ----- ---------------------------------- 2.0/15.3 MB 1.4 MB/s eta 0:00:10\n",
      "     ----- ---------------------------------- 2.1/15.3 MB 1.4 MB/s eta 0:00:10\n",
      "     ----- ---------------------------------- 2.2/15.3 MB 1.4 MB/s eta 0:00:10\n",
      "     ------ --------------------------------- 2.3/15.3 MB 1.5 MB/s eta 0:00:09\n",
      "     ------ --------------------------------- 2.5/15.3 MB 1.5 MB/s eta 0:00:09\n",
      "     ------ --------------------------------- 2.6/15.3 MB 1.5 MB/s eta 0:00:09\n",
      "     ------- -------------------------------- 2.7/15.3 MB 1.6 MB/s eta 0:00:09\n",
      "     ------- -------------------------------- 2.9/15.3 MB 1.6 MB/s eta 0:00:08\n",
      "     ------- -------------------------------- 3.0/15.3 MB 1.6 MB/s eta 0:00:08\n",
      "     -------- ------------------------------- 3.1/15.3 MB 1.7 MB/s eta 0:00:08\n",
      "     -------- ------------------------------- 3.2/15.3 MB 1.7 MB/s eta 0:00:08\n",
      "     -------- ------------------------------- 3.3/15.3 MB 1.7 MB/s eta 0:00:08\n",
      "     --------- ------------------------------ 3.5/15.3 MB 1.7 MB/s eta 0:00:07\n",
      "     --------- ------------------------------ 3.6/15.3 MB 1.7 MB/s eta 0:00:07\n",
      "     --------- ------------------------------ 3.7/15.3 MB 1.7 MB/s eta 0:00:07\n",
      "     --------- ------------------------------ 3.8/15.3 MB 1.8 MB/s eta 0:00:07\n",
      "     ---------- ----------------------------- 4.0/15.3 MB 1.8 MB/s eta 0:00:07\n",
      "     ---------- ----------------------------- 4.1/15.3 MB 1.8 MB/s eta 0:00:07\n",
      "     ---------- ----------------------------- 4.2/15.3 MB 1.8 MB/s eta 0:00:07\n",
      "     ----------- ---------------------------- 4.3/15.3 MB 1.9 MB/s eta 0:00:06\n",
      "     ----------- ---------------------------- 4.5/15.3 MB 1.9 MB/s eta 0:00:06\n",
      "     ------------ --------------------------- 4.6/15.3 MB 1.9 MB/s eta 0:00:06\n",
      "     ------------ --------------------------- 4.8/15.3 MB 1.9 MB/s eta 0:00:06\n",
      "     ------------ --------------------------- 4.9/15.3 MB 1.9 MB/s eta 0:00:06\n",
      "     ------------- -------------------------- 5.0/15.3 MB 2.0 MB/s eta 0:00:06\n",
      "     ------------- -------------------------- 5.2/15.3 MB 2.0 MB/s eta 0:00:06\n",
      "     ------------- -------------------------- 5.4/15.3 MB 2.0 MB/s eta 0:00:06\n",
      "     -------------- ------------------------- 5.5/15.3 MB 2.0 MB/s eta 0:00:05\n",
      "     -------------- ------------------------- 5.6/15.3 MB 2.0 MB/s eta 0:00:05\n",
      "     -------------- ------------------------- 5.7/15.3 MB 2.0 MB/s eta 0:00:05\n",
      "     --------------- ------------------------ 5.8/15.3 MB 2.0 MB/s eta 0:00:05\n",
      "     --------------- ------------------------ 5.9/15.3 MB 2.0 MB/s eta 0:00:05\n",
      "     --------------- ------------------------ 6.0/15.3 MB 2.0 MB/s eta 0:00:05\n",
      "     ---------------- ----------------------- 6.1/15.3 MB 2.0 MB/s eta 0:00:05\n",
      "     ---------------- ----------------------- 6.3/15.3 MB 2.0 MB/s eta 0:00:05\n",
      "     ---------------- ----------------------- 6.4/15.3 MB 2.0 MB/s eta 0:00:05\n",
      "     ---------------- ----------------------- 6.5/15.3 MB 2.1 MB/s eta 0:00:05\n",
      "     ----------------- ---------------------- 6.6/15.3 MB 2.1 MB/s eta 0:00:05\n",
      "     ----------------- ---------------------- 6.8/15.3 MB 2.1 MB/s eta 0:00:05\n",
      "     ------------------ --------------------- 6.9/15.3 MB 2.1 MB/s eta 0:00:04\n",
      "     ------------------ --------------------- 7.1/15.3 MB 2.1 MB/s eta 0:00:04\n",
      "     ------------------ --------------------- 7.2/15.3 MB 2.1 MB/s eta 0:00:04\n",
      "     ------------------- -------------------- 7.4/15.3 MB 2.2 MB/s eta 0:00:04\n",
      "     ------------------- -------------------- 7.5/15.3 MB 2.2 MB/s eta 0:00:04\n",
      "     -------------------- ------------------- 7.7/15.3 MB 2.2 MB/s eta 0:00:04\n",
      "     -------------------- ------------------- 7.9/15.3 MB 2.2 MB/s eta 0:00:04\n",
      "     -------------------- ------------------- 8.0/15.3 MB 2.2 MB/s eta 0:00:04\n",
      "     --------------------- ------------------ 8.2/15.3 MB 2.2 MB/s eta 0:00:04\n",
      "     --------------------- ------------------ 8.3/15.3 MB 2.2 MB/s eta 0:00:04\n",
      "     --------------------- ------------------ 8.4/15.3 MB 2.2 MB/s eta 0:00:04\n",
      "     ---------------------- ----------------- 8.6/15.3 MB 2.2 MB/s eta 0:00:04\n",
      "     ---------------------- ----------------- 8.7/15.3 MB 2.3 MB/s eta 0:00:03\n",
      "     ----------------------- ---------------- 8.9/15.3 MB 2.3 MB/s eta 0:00:03\n",
      "     ----------------------- ---------------- 9.0/15.3 MB 2.3 MB/s eta 0:00:03\n",
      "     ----------------------- ---------------- 9.2/15.3 MB 2.3 MB/s eta 0:00:03\n",
      "     ------------------------ --------------- 9.3/15.3 MB 2.3 MB/s eta 0:00:03\n",
      "     ------------------------ --------------- 9.4/15.3 MB 2.3 MB/s eta 0:00:03\n",
      "     ------------------------ --------------- 9.6/15.3 MB 2.3 MB/s eta 0:00:03\n",
      "     ------------------------- -------------- 9.7/15.3 MB 2.3 MB/s eta 0:00:03\n",
      "     ------------------------- -------------- 9.9/15.3 MB 2.3 MB/s eta 0:00:03\n",
      "     -------------------------- ------------- 10.1/15.3 MB 2.3 MB/s eta 0:00:03\n",
      "     -------------------------- ------------- 10.2/15.3 MB 2.4 MB/s eta 0:00:03\n",
      "     -------------------------- ------------- 10.4/15.3 MB 2.6 MB/s eta 0:00:02\n",
      "     --------------------------- ------------ 10.5/15.3 MB 2.7 MB/s eta 0:00:02\n",
      "     --------------------------- ------------ 10.6/15.3 MB 2.7 MB/s eta 0:00:02\n",
      "     ---------------------------- ----------- 10.8/15.3 MB 2.7 MB/s eta 0:00:02\n",
      "     ---------------------------- ----------- 10.8/15.3 MB 2.7 MB/s eta 0:00:02\n",
      "     ---------------------------- ----------- 11.0/15.3 MB 2.8 MB/s eta 0:00:02\n",
      "     ----------------------------- ---------- 11.2/15.3 MB 2.8 MB/s eta 0:00:02\n",
      "     ----------------------------- ---------- 11.4/15.3 MB 2.8 MB/s eta 0:00:02\n",
      "     ------------------------------ --------- 11.6/15.3 MB 2.9 MB/s eta 0:00:02\n",
      "     ------------------------------ --------- 11.7/15.3 MB 2.9 MB/s eta 0:00:02\n",
      "     ------------------------------- -------- 11.9/15.3 MB 2.9 MB/s eta 0:00:02\n",
      "     ------------------------------- -------- 12.0/15.3 MB 2.9 MB/s eta 0:00:02\n",
      "     ------------------------------- -------- 12.2/15.3 MB 2.9 MB/s eta 0:00:02\n",
      "     -------------------------------- ------- 12.3/15.3 MB 3.0 MB/s eta 0:00:02\n",
      "     -------------------------------- ------- 12.5/15.3 MB 2.9 MB/s eta 0:00:01\n",
      "     --------------------------------- ------ 12.7/15.3 MB 3.0 MB/s eta 0:00:01\n",
      "     --------------------------------- ------ 12.9/15.3 MB 3.0 MB/s eta 0:00:01\n",
      "     ---------------------------------- ----- 13.1/15.3 MB 3.0 MB/s eta 0:00:01\n",
      "     ---------------------------------- ----- 13.3/15.3 MB 3.1 MB/s eta 0:00:01\n",
      "     ----------------------------------- ---- 13.5/15.3 MB 3.1 MB/s eta 0:00:01\n",
      "     ----------------------------------- ---- 13.7/15.3 MB 3.1 MB/s eta 0:00:01\n",
      "     ----------------------------------- ---- 13.8/15.3 MB 3.1 MB/s eta 0:00:01\n",
      "     ------------------------------------ --- 13.9/15.3 MB 3.1 MB/s eta 0:00:01\n",
      "     ------------------------------------ --- 14.1/15.3 MB 3.1 MB/s eta 0:00:01\n",
      "     ------------------------------------- -- 14.3/15.3 MB 3.1 MB/s eta 0:00:01\n",
      "     ------------------------------------- -- 14.4/15.3 MB 3.1 MB/s eta 0:00:01\n",
      "     -------------------------------------- - 14.6/15.3 MB 3.2 MB/s eta 0:00:01\n",
      "     -------------------------------------- - 14.8/15.3 MB 3.2 MB/s eta 0:00:01\n",
      "     -------------------------------------- - 14.9/15.3 MB 3.2 MB/s eta 0:00:01\n",
      "     ---------------------------------------  15.0/15.3 MB 3.2 MB/s eta 0:00:01\n",
      "     ---------------------------------------  15.2/15.3 MB 3.2 MB/s eta 0:00:01\n",
      "     ---------------------------------------  15.3/15.3 MB 3.2 MB/s eta 0:00:01\n",
      "     ---------------------------------------  15.3/15.3 MB 3.2 MB/s eta 0:00:01\n",
      "     ---------------------------------------  15.3/15.3 MB 3.2 MB/s eta 0:00:01\n",
      "     ---------------------------------------  15.3/15.3 MB 3.2 MB/s eta 0:00:01\n",
      "     ---------------------------------------  15.3/15.3 MB 3.2 MB/s eta 0:00:01\n",
      "     ---------------------------------------  15.3/15.3 MB 3.2 MB/s eta 0:00:01\n",
      "     ---------------------------------------  15.3/15.3 MB 3.2 MB/s eta 0:00:01\n",
      "     ---------------------------------------  15.3/15.3 MB 3.2 MB/s eta 0:00:01\n",
      "     ---------------------------------------  15.3/15.3 MB 3.2 MB/s eta 0:00:01\n",
      "     ---------------------------------------  15.3/15.3 MB 3.2 MB/s eta 0:00:01\n",
      "     ---------------------------------------  15.3/15.3 MB 3.2 MB/s eta 0:00:01\n",
      "     ---------------------------------------  15.3/15.3 MB 3.2 MB/s eta 0:00:01\n",
      "     ---------------------------------------  15.3/15.3 MB 3.2 MB/s eta 0:00:01\n",
      "     ---------------------------------------  15.3/15.3 MB 3.2 MB/s eta 0:00:01\n",
      "     ---------------------------------------  15.3/15.3 MB 3.2 MB/s eta 0:00:01\n",
      "     ---------------------------------------  15.3/15.3 MB 3.2 MB/s eta 0:00:01\n",
      "     ---------------------------------------  15.3/15.3 MB 3.2 MB/s eta 0:00:01\n",
      "     ---------------------------------------  15.3/15.3 MB 3.2 MB/s eta 0:00:01\n",
      "     ---------------------------------------- 15.3/15.3 MB 2.5 MB/s eta 0:00:00\n",
      "Requirement already satisfied: tenacity>=6.2.0 in c:\\users\\pc\\appdata\\local\\programs\\python\\python39\\lib\\site-packages (from plotly) (8.1.0)\n",
      "Requirement already satisfied: packaging in c:\\users\\pc\\appdata\\local\\programs\\python\\python39\\lib\\site-packages (from plotly) (22.0)\n",
      "Installing collected packages: plotly\n",
      "Successfully installed plotly-5.14.1\n"
     ]
    },
    {
     "name": "stderr",
     "output_type": "stream",
     "text": [
      "\n",
      "[notice] A new release of pip is available: 23.0.1 -> 23.1.2\n",
      "[notice] To update, run: python.exe -m pip install --upgrade pip\n"
     ]
    }
   ],
   "source": [
    "pip install plotly"
   ]
  },
  {
   "cell_type": "code",
   "execution_count": 74,
   "metadata": {
    "execution": {
     "iopub.execute_input": "2022-10-11T11:04:03.355664Z",
     "iopub.status.busy": "2022-10-11T11:04:03.355241Z",
     "iopub.status.idle": "2022-10-11T11:04:05.531203Z",
     "shell.execute_reply": "2022-10-11T11:04:05.529706Z",
     "shell.execute_reply.started": "2022-10-11T11:04:03.355601Z"
    }
   },
   "outputs": [],
   "source": [
    "\n",
    "import os\n",
    "import math\n",
    "import time\n",
    "\n",
    "import numpy as np\n",
    "import pandas as pd\n",
    "\n",
    "import matplotlib.pyplot as plt\n",
    "import seaborn as sns\n",
    "import plotly.figure_factory as ff\n",
    "import plotly.graph_objects as go\n",
    "import plotly.express as px\n",
    "\n",
    "# Below libraries are for text processing using NLTK\n",
    "from nltk.corpus import stopwords\n",
    "from nltk.tokenize import word_tokenize\n",
    "from nltk.stem import WordNetLemmatizer\n",
    "\n",
    "# Below libraries are for feature representation using sklearn\n",
    "from sklearn.feature_extraction.text import CountVectorizer\n",
    "from sklearn.feature_extraction.text import TfidfVectorizer\n",
    "\n",
    "# Below libraries are for similarity matrices using sklearn\n",
    "from sklearn.metrics.pairwise import cosine_similarity  \n",
    "from sklearn.metrics import pairwise_distances\n",
    "from sklearn.metrics.pairwise import euclidean_distances\n",
    "from sklearn.metrics.pairwise import manhattan_distances\n",
    "\n",
    "from scipy.spatial import distance   ##minkowski\n",
    "from sklearn.metrics import jaccard_score"
   ]
  },
  {
   "cell_type": "markdown",
   "metadata": {},
   "source": [
    "## 2. Loading Data"
   ]
  },
  {
   "cell_type": "code",
   "execution_count": 19,
   "metadata": {
    "execution": {
     "iopub.execute_input": "2022-10-11T11:04:05.534205Z",
     "iopub.status.busy": "2022-10-11T11:04:05.533798Z",
     "iopub.status.idle": "2022-10-11T11:04:10.855675Z",
     "shell.execute_reply": "2022-10-11T11:04:10.854449Z",
     "shell.execute_reply.started": "2022-10-11T11:04:05.534132Z"
    }
   },
   "outputs": [],
   "source": [
    "news_articles = pd.read_json(r\"D:\\ineuron\\Placement related assignment\\sample code\\Q3\\News_Category_Dataset_v3.json\", lines = True)"
   ]
  },
  {
   "cell_type": "code",
   "execution_count": 20,
   "metadata": {
    "execution": {
     "iopub.execute_input": "2022-10-11T11:04:10.858136Z",
     "iopub.status.busy": "2022-10-11T11:04:10.857696Z",
     "iopub.status.idle": "2022-10-11T11:04:10.97925Z",
     "shell.execute_reply": "2022-10-11T11:04:10.977846Z",
     "shell.execute_reply.started": "2022-10-11T11:04:10.858071Z"
    }
   },
   "outputs": [
    {
     "name": "stdout",
     "output_type": "stream",
     "text": [
      "<class 'pandas.core.frame.DataFrame'>\n",
      "RangeIndex: 209527 entries, 0 to 209526\n",
      "Data columns (total 6 columns):\n",
      " #   Column             Non-Null Count   Dtype         \n",
      "---  ------             --------------   -----         \n",
      " 0   link               209527 non-null  object        \n",
      " 1   headline           209527 non-null  object        \n",
      " 2   category           209527 non-null  object        \n",
      " 3   short_description  209527 non-null  object        \n",
      " 4   authors            209527 non-null  object        \n",
      " 5   date               209527 non-null  datetime64[ns]\n",
      "dtypes: datetime64[ns](1), object(5)\n",
      "memory usage: 9.6+ MB\n"
     ]
    }
   ],
   "source": [
    "news_articles.info()"
   ]
  },
  {
   "cell_type": "markdown",
   "metadata": {},
   "source": [
    "The dataset contains about two million records of six different features. "
   ]
  },
  {
   "cell_type": "code",
   "execution_count": 21,
   "metadata": {
    "execution": {
     "iopub.execute_input": "2022-10-11T11:04:10.981406Z",
     "iopub.status.busy": "2022-10-11T11:04:10.981088Z",
     "iopub.status.idle": "2022-10-11T11:04:11.006624Z",
     "shell.execute_reply": "2022-10-11T11:04:11.004922Z",
     "shell.execute_reply.started": "2022-10-11T11:04:10.981353Z"
    }
   },
   "outputs": [
    {
     "data": {
      "text/html": [
       "<div>\n",
       "<style scoped>\n",
       "    .dataframe tbody tr th:only-of-type {\n",
       "        vertical-align: middle;\n",
       "    }\n",
       "\n",
       "    .dataframe tbody tr th {\n",
       "        vertical-align: top;\n",
       "    }\n",
       "\n",
       "    .dataframe thead th {\n",
       "        text-align: right;\n",
       "    }\n",
       "</style>\n",
       "<table border=\"1\" class=\"dataframe\">\n",
       "  <thead>\n",
       "    <tr style=\"text-align: right;\">\n",
       "      <th></th>\n",
       "      <th>link</th>\n",
       "      <th>headline</th>\n",
       "      <th>category</th>\n",
       "      <th>short_description</th>\n",
       "      <th>authors</th>\n",
       "      <th>date</th>\n",
       "    </tr>\n",
       "  </thead>\n",
       "  <tbody>\n",
       "    <tr>\n",
       "      <th>0</th>\n",
       "      <td>https://www.huffpost.com/entry/covid-boosters-...</td>\n",
       "      <td>Over 4 Million Americans Roll Up Sleeves For O...</td>\n",
       "      <td>U.S. NEWS</td>\n",
       "      <td>Health experts said it is too early to predict...</td>\n",
       "      <td>Carla K. Johnson, AP</td>\n",
       "      <td>2022-09-23</td>\n",
       "    </tr>\n",
       "    <tr>\n",
       "      <th>1</th>\n",
       "      <td>https://www.huffpost.com/entry/american-airlin...</td>\n",
       "      <td>American Airlines Flyer Charged, Banned For Li...</td>\n",
       "      <td>U.S. NEWS</td>\n",
       "      <td>He was subdued by passengers and crew when he ...</td>\n",
       "      <td>Mary Papenfuss</td>\n",
       "      <td>2022-09-23</td>\n",
       "    </tr>\n",
       "    <tr>\n",
       "      <th>2</th>\n",
       "      <td>https://www.huffpost.com/entry/funniest-tweets...</td>\n",
       "      <td>23 Of The Funniest Tweets About Cats And Dogs ...</td>\n",
       "      <td>COMEDY</td>\n",
       "      <td>\"Until you have a dog you don't understand wha...</td>\n",
       "      <td>Elyse Wanshel</td>\n",
       "      <td>2022-09-23</td>\n",
       "    </tr>\n",
       "    <tr>\n",
       "      <th>3</th>\n",
       "      <td>https://www.huffpost.com/entry/funniest-parent...</td>\n",
       "      <td>The Funniest Tweets From Parents This Week (Se...</td>\n",
       "      <td>PARENTING</td>\n",
       "      <td>\"Accidentally put grown-up toothpaste on my to...</td>\n",
       "      <td>Caroline Bologna</td>\n",
       "      <td>2022-09-23</td>\n",
       "    </tr>\n",
       "    <tr>\n",
       "      <th>4</th>\n",
       "      <td>https://www.huffpost.com/entry/amy-cooper-lose...</td>\n",
       "      <td>Woman Who Called Cops On Black Bird-Watcher Lo...</td>\n",
       "      <td>U.S. NEWS</td>\n",
       "      <td>Amy Cooper accused investment firm Franklin Te...</td>\n",
       "      <td>Nina Golgowski</td>\n",
       "      <td>2022-09-22</td>\n",
       "    </tr>\n",
       "  </tbody>\n",
       "</table>\n",
       "</div>"
      ],
      "text/plain": [
       "                                                link  \\\n",
       "0  https://www.huffpost.com/entry/covid-boosters-...   \n",
       "1  https://www.huffpost.com/entry/american-airlin...   \n",
       "2  https://www.huffpost.com/entry/funniest-tweets...   \n",
       "3  https://www.huffpost.com/entry/funniest-parent...   \n",
       "4  https://www.huffpost.com/entry/amy-cooper-lose...   \n",
       "\n",
       "                                            headline   category  \\\n",
       "0  Over 4 Million Americans Roll Up Sleeves For O...  U.S. NEWS   \n",
       "1  American Airlines Flyer Charged, Banned For Li...  U.S. NEWS   \n",
       "2  23 Of The Funniest Tweets About Cats And Dogs ...     COMEDY   \n",
       "3  The Funniest Tweets From Parents This Week (Se...  PARENTING   \n",
       "4  Woman Who Called Cops On Black Bird-Watcher Lo...  U.S. NEWS   \n",
       "\n",
       "                                   short_description               authors  \\\n",
       "0  Health experts said it is too early to predict...  Carla K. Johnson, AP   \n",
       "1  He was subdued by passengers and crew when he ...        Mary Papenfuss   \n",
       "2  \"Until you have a dog you don't understand wha...         Elyse Wanshel   \n",
       "3  \"Accidentally put grown-up toothpaste on my to...      Caroline Bologna   \n",
       "4  Amy Cooper accused investment firm Franklin Te...        Nina Golgowski   \n",
       "\n",
       "        date  \n",
       "0 2022-09-23  \n",
       "1 2022-09-23  \n",
       "2 2022-09-23  \n",
       "3 2022-09-23  \n",
       "4 2022-09-22  "
      ]
     },
     "execution_count": 21,
     "metadata": {},
     "output_type": "execute_result"
    }
   ],
   "source": [
    "news_articles.head()"
   ]
  },
  {
   "cell_type": "markdown",
   "metadata": {},
   "source": [
    "## 3. Data Preprocessing"
   ]
  },
  {
   "cell_type": "markdown",
   "metadata": {},
   "source": [
    "### 3.a Fetching only the articles from 2022 "
   ]
  },
  {
   "cell_type": "markdown",
   "metadata": {},
   "source": [
    "Since the dataset size is quite large so processing through entire dataset may consume too much time. To refrain from this, we are only considering the latest articles from the year 2022. "
   ]
  },
  {
   "cell_type": "code",
   "execution_count": 22,
   "metadata": {
    "execution": {
     "iopub.execute_input": "2022-10-11T11:04:11.009087Z",
     "iopub.status.busy": "2022-10-11T11:04:11.008669Z",
     "iopub.status.idle": "2022-10-11T11:04:11.023613Z",
     "shell.execute_reply": "2022-10-11T11:04:11.022271Z",
     "shell.execute_reply.started": "2022-10-11T11:04:11.009015Z"
    }
   },
   "outputs": [],
   "source": [
    "news_articles = news_articles[news_articles['date'] >= pd.Timestamp(2022,1,1)]"
   ]
  },
  {
   "cell_type": "code",
   "execution_count": 23,
   "metadata": {
    "execution": {
     "iopub.execute_input": "2022-10-11T11:04:11.030706Z",
     "iopub.status.busy": "2022-10-11T11:04:11.029568Z",
     "iopub.status.idle": "2022-10-11T11:04:11.039428Z",
     "shell.execute_reply": "2022-10-11T11:04:11.038143Z",
     "shell.execute_reply.started": "2022-10-11T11:04:11.030609Z"
    }
   },
   "outputs": [
    {
     "data": {
      "text/plain": [
       "(1398, 6)"
      ]
     },
     "execution_count": 23,
     "metadata": {},
     "output_type": "execute_result"
    }
   ],
   "source": [
    "news_articles.shape"
   ]
  },
  {
   "cell_type": "code",
   "execution_count": 24,
   "metadata": {},
   "outputs": [
    {
     "name": "stdout",
     "output_type": "stream",
     "text": [
      "<class 'pandas.core.frame.DataFrame'>\n",
      "Int64Index: 1398 entries, 0 to 1397\n",
      "Data columns (total 6 columns):\n",
      " #   Column             Non-Null Count  Dtype         \n",
      "---  ------             --------------  -----         \n",
      " 0   link               1398 non-null   object        \n",
      " 1   headline           1398 non-null   object        \n",
      " 2   category           1398 non-null   object        \n",
      " 3   short_description  1398 non-null   object        \n",
      " 4   authors            1398 non-null   object        \n",
      " 5   date               1398 non-null   datetime64[ns]\n",
      "dtypes: datetime64[ns](1), object(5)\n",
      "memory usage: 76.5+ KB\n"
     ]
    }
   ],
   "source": [
    "news_articles.info()"
   ]
  },
  {
   "cell_type": "markdown",
   "metadata": {},
   "source": [
    "Now, the number of news articles comes down to 8583."
   ]
  },
  {
   "cell_type": "markdown",
   "metadata": {},
   "source": [
    "### 3.b Removing all the short headline articles "
   ]
  },
  {
   "cell_type": "markdown",
   "metadata": {},
   "source": [
    "After stop words removal from headline, the articles with very short headline may become blank headline articles. So let's remove all the articles with less words(<5) in the headline.   "
   ]
  },
  {
   "cell_type": "code",
   "execution_count": 26,
   "metadata": {
    "execution": {
     "iopub.execute_input": "2022-10-11T11:04:11.043676Z",
     "iopub.status.busy": "2022-10-11T11:04:11.0433Z",
     "iopub.status.idle": "2022-10-11T11:04:11.069764Z",
     "shell.execute_reply": "2022-10-11T11:04:11.068653Z",
     "shell.execute_reply.started": "2022-10-11T11:04:11.043613Z"
    }
   },
   "outputs": [
    {
     "name": "stdout",
     "output_type": "stream",
     "text": [
      "Total number of articles after removal of headlines with short title: 1347\n"
     ]
    }
   ],
   "source": [
    "#news_articles = news_articles[news_articles['headline'].apply(lambda x: len(x.split())>5)]\n",
    "news_articles =news_articles[news_articles['headline'].apply(lambda x : len(x.split())>7)]\n",
    "print(\"Total number of articles after removal of headlines with short title:\", news_articles.shape[0])"
   ]
  },
  {
   "cell_type": "markdown",
   "metadata": {},
   "source": [
    "### 3.c Checking and removing all the duplicates"
   ]
  },
  {
   "cell_type": "markdown",
   "metadata": {},
   "source": [
    "Since some articles are exactly same in headlines, so let's remove all such articles having duplicate headline appearance."
   ]
  },
  {
   "cell_type": "code",
   "execution_count": 28,
   "metadata": {
    "execution": {
     "iopub.execute_input": "2022-10-11T11:04:11.072608Z",
     "iopub.status.busy": "2022-10-11T11:04:11.071827Z",
     "iopub.status.idle": "2022-10-11T11:04:11.104804Z",
     "shell.execute_reply": "2022-10-11T11:04:11.103713Z",
     "shell.execute_reply.started": "2022-10-11T11:04:11.072536Z"
    }
   },
   "outputs": [
    {
     "name": "stdout",
     "output_type": "stream",
     "text": [
      "Total number of articles after removing duplicates: 1347\n"
     ]
    }
   ],
   "source": [
    "news_articles.sort_values('headline',inplace=True, ascending=False)\n",
    "duplicated_articles_series = news_articles.duplicated('headline', keep = False)\n",
    "news_articles = news_articles[~duplicated_articles_series]\n",
    "print(\"Total number of articles after removing duplicates:\", news_articles.shape[0])"
   ]
  },
  {
   "cell_type": "markdown",
   "metadata": {},
   "source": [
    "### 3.d Checking for missing values"
   ]
  },
  {
   "cell_type": "code",
   "execution_count": 29,
   "metadata": {
    "execution": {
     "iopub.execute_input": "2022-10-11T11:04:11.106487Z",
     "iopub.status.busy": "2022-10-11T11:04:11.106203Z",
     "iopub.status.idle": "2022-10-11T11:04:11.123037Z",
     "shell.execute_reply": "2022-10-11T11:04:11.121489Z",
     "shell.execute_reply.started": "2022-10-11T11:04:11.106437Z"
    }
   },
   "outputs": [
    {
     "data": {
      "text/plain": [
       "link                 0\n",
       "headline             0\n",
       "category             0\n",
       "short_description    0\n",
       "authors              0\n",
       "date                 0\n",
       "dtype: int64"
      ]
     },
     "execution_count": 29,
     "metadata": {},
     "output_type": "execute_result"
    }
   ],
   "source": [
    "news_articles.isna().sum()"
   ]
  },
  {
   "cell_type": "markdown",
   "metadata": {},
   "source": [
    "## 4. Basic Data Exploration "
   ]
  },
  {
   "cell_type": "markdown",
   "metadata": {},
   "source": [
    "### 4.a Basic statistics - Number of articles,authors,categories"
   ]
  },
  {
   "cell_type": "code",
   "execution_count": 30,
   "metadata": {
    "execution": {
     "iopub.execute_input": "2022-10-11T11:04:11.125286Z",
     "iopub.status.busy": "2022-10-11T11:04:11.124873Z",
     "iopub.status.idle": "2022-10-11T11:04:11.147411Z",
     "shell.execute_reply": "2022-10-11T11:04:11.146257Z",
     "shell.execute_reply.started": "2022-10-11T11:04:11.12521Z"
    }
   },
   "outputs": [
    {
     "name": "stdout",
     "output_type": "stream",
     "text": [
      "Total number of articles :  1347\n",
      "Total number of authors :  404\n",
      "Total number of unqiue categories :  24\n"
     ]
    }
   ],
   "source": [
    "print(\"Total number of articles : \", news_articles.shape[0])\n",
    "print(\"Total number of authors : \", news_articles[\"authors\"].nunique())\n",
    "print(\"Total number of unqiue categories : \", news_articles[\"category\"].nunique())"
   ]
  },
  {
   "cell_type": "markdown",
   "metadata": {},
   "source": [
    "### 4.b Distribution of articles category-wise"
   ]
  },
  {
   "cell_type": "code",
   "execution_count": 32,
   "metadata": {
    "execution": {
     "iopub.execute_input": "2022-10-11T11:04:11.14926Z",
     "iopub.status.busy": "2022-10-11T11:04:11.148972Z",
     "iopub.status.idle": "2022-10-11T11:04:11.972315Z",
     "shell.execute_reply": "2022-10-11T11:04:11.971438Z",
     "shell.execute_reply.started": "2022-10-11T11:04:11.149218Z"
    }
   },
   "outputs": [
    {
     "data": {
      "application/vnd.plotly.v1+json": {
       "config": {
        "plotlyServerURL": "https://plot.ly"
       },
       "data": [
        {
         "type": "bar",
         "x": [
          "POLITICS",
          "U.S. NEWS",
          "ENTERTAINMENT",
          "WORLD NEWS",
          "SPORTS",
          "CRIME",
          "ENVIRONMENT",
          "WELLNESS",
          "CULTURE & ARTS",
          "FOOD & DRINK",
          "PARENTING",
          "STYLE & BEAUTY",
          "COMEDY",
          "WEIRD NEWS",
          "BUSINESS",
          "TECH",
          "SCIENCE",
          "MEDIA",
          "WOMEN",
          "HOME & LIVING",
          "BLACK VOICES",
          "QUEER VOICES",
          "EDUCATION",
          "TRAVEL"
         ],
         "y": [
          388,
          234,
          230,
          188,
          71,
          37,
          26,
          23,
          22,
          17,
          15,
          15,
          15,
          15,
          12,
          7,
          7,
          7,
          5,
          4,
          4,
          2,
          2,
          1
         ]
        }
       ],
       "layout": {
        "height": 700,
        "template": {
         "data": {
          "bar": [
           {
            "error_x": {
             "color": "#2a3f5f"
            },
            "error_y": {
             "color": "#2a3f5f"
            },
            "marker": {
             "line": {
              "color": "#E5ECF6",
              "width": 0.5
             },
             "pattern": {
              "fillmode": "overlay",
              "size": 10,
              "solidity": 0.2
             }
            },
            "type": "bar"
           }
          ],
          "barpolar": [
           {
            "marker": {
             "line": {
              "color": "#E5ECF6",
              "width": 0.5
             },
             "pattern": {
              "fillmode": "overlay",
              "size": 10,
              "solidity": 0.2
             }
            },
            "type": "barpolar"
           }
          ],
          "carpet": [
           {
            "aaxis": {
             "endlinecolor": "#2a3f5f",
             "gridcolor": "white",
             "linecolor": "white",
             "minorgridcolor": "white",
             "startlinecolor": "#2a3f5f"
            },
            "baxis": {
             "endlinecolor": "#2a3f5f",
             "gridcolor": "white",
             "linecolor": "white",
             "minorgridcolor": "white",
             "startlinecolor": "#2a3f5f"
            },
            "type": "carpet"
           }
          ],
          "choropleth": [
           {
            "colorbar": {
             "outlinewidth": 0,
             "ticks": ""
            },
            "type": "choropleth"
           }
          ],
          "contour": [
           {
            "colorbar": {
             "outlinewidth": 0,
             "ticks": ""
            },
            "colorscale": [
             [
              0,
              "#0d0887"
             ],
             [
              0.1111111111111111,
              "#46039f"
             ],
             [
              0.2222222222222222,
              "#7201a8"
             ],
             [
              0.3333333333333333,
              "#9c179e"
             ],
             [
              0.4444444444444444,
              "#bd3786"
             ],
             [
              0.5555555555555556,
              "#d8576b"
             ],
             [
              0.6666666666666666,
              "#ed7953"
             ],
             [
              0.7777777777777778,
              "#fb9f3a"
             ],
             [
              0.8888888888888888,
              "#fdca26"
             ],
             [
              1,
              "#f0f921"
             ]
            ],
            "type": "contour"
           }
          ],
          "contourcarpet": [
           {
            "colorbar": {
             "outlinewidth": 0,
             "ticks": ""
            },
            "type": "contourcarpet"
           }
          ],
          "heatmap": [
           {
            "colorbar": {
             "outlinewidth": 0,
             "ticks": ""
            },
            "colorscale": [
             [
              0,
              "#0d0887"
             ],
             [
              0.1111111111111111,
              "#46039f"
             ],
             [
              0.2222222222222222,
              "#7201a8"
             ],
             [
              0.3333333333333333,
              "#9c179e"
             ],
             [
              0.4444444444444444,
              "#bd3786"
             ],
             [
              0.5555555555555556,
              "#d8576b"
             ],
             [
              0.6666666666666666,
              "#ed7953"
             ],
             [
              0.7777777777777778,
              "#fb9f3a"
             ],
             [
              0.8888888888888888,
              "#fdca26"
             ],
             [
              1,
              "#f0f921"
             ]
            ],
            "type": "heatmap"
           }
          ],
          "heatmapgl": [
           {
            "colorbar": {
             "outlinewidth": 0,
             "ticks": ""
            },
            "colorscale": [
             [
              0,
              "#0d0887"
             ],
             [
              0.1111111111111111,
              "#46039f"
             ],
             [
              0.2222222222222222,
              "#7201a8"
             ],
             [
              0.3333333333333333,
              "#9c179e"
             ],
             [
              0.4444444444444444,
              "#bd3786"
             ],
             [
              0.5555555555555556,
              "#d8576b"
             ],
             [
              0.6666666666666666,
              "#ed7953"
             ],
             [
              0.7777777777777778,
              "#fb9f3a"
             ],
             [
              0.8888888888888888,
              "#fdca26"
             ],
             [
              1,
              "#f0f921"
             ]
            ],
            "type": "heatmapgl"
           }
          ],
          "histogram": [
           {
            "marker": {
             "pattern": {
              "fillmode": "overlay",
              "size": 10,
              "solidity": 0.2
             }
            },
            "type": "histogram"
           }
          ],
          "histogram2d": [
           {
            "colorbar": {
             "outlinewidth": 0,
             "ticks": ""
            },
            "colorscale": [
             [
              0,
              "#0d0887"
             ],
             [
              0.1111111111111111,
              "#46039f"
             ],
             [
              0.2222222222222222,
              "#7201a8"
             ],
             [
              0.3333333333333333,
              "#9c179e"
             ],
             [
              0.4444444444444444,
              "#bd3786"
             ],
             [
              0.5555555555555556,
              "#d8576b"
             ],
             [
              0.6666666666666666,
              "#ed7953"
             ],
             [
              0.7777777777777778,
              "#fb9f3a"
             ],
             [
              0.8888888888888888,
              "#fdca26"
             ],
             [
              1,
              "#f0f921"
             ]
            ],
            "type": "histogram2d"
           }
          ],
          "histogram2dcontour": [
           {
            "colorbar": {
             "outlinewidth": 0,
             "ticks": ""
            },
            "colorscale": [
             [
              0,
              "#0d0887"
             ],
             [
              0.1111111111111111,
              "#46039f"
             ],
             [
              0.2222222222222222,
              "#7201a8"
             ],
             [
              0.3333333333333333,
              "#9c179e"
             ],
             [
              0.4444444444444444,
              "#bd3786"
             ],
             [
              0.5555555555555556,
              "#d8576b"
             ],
             [
              0.6666666666666666,
              "#ed7953"
             ],
             [
              0.7777777777777778,
              "#fb9f3a"
             ],
             [
              0.8888888888888888,
              "#fdca26"
             ],
             [
              1,
              "#f0f921"
             ]
            ],
            "type": "histogram2dcontour"
           }
          ],
          "mesh3d": [
           {
            "colorbar": {
             "outlinewidth": 0,
             "ticks": ""
            },
            "type": "mesh3d"
           }
          ],
          "parcoords": [
           {
            "line": {
             "colorbar": {
              "outlinewidth": 0,
              "ticks": ""
             }
            },
            "type": "parcoords"
           }
          ],
          "pie": [
           {
            "automargin": true,
            "type": "pie"
           }
          ],
          "scatter": [
           {
            "fillpattern": {
             "fillmode": "overlay",
             "size": 10,
             "solidity": 0.2
            },
            "type": "scatter"
           }
          ],
          "scatter3d": [
           {
            "line": {
             "colorbar": {
              "outlinewidth": 0,
              "ticks": ""
             }
            },
            "marker": {
             "colorbar": {
              "outlinewidth": 0,
              "ticks": ""
             }
            },
            "type": "scatter3d"
           }
          ],
          "scattercarpet": [
           {
            "marker": {
             "colorbar": {
              "outlinewidth": 0,
              "ticks": ""
             }
            },
            "type": "scattercarpet"
           }
          ],
          "scattergeo": [
           {
            "marker": {
             "colorbar": {
              "outlinewidth": 0,
              "ticks": ""
             }
            },
            "type": "scattergeo"
           }
          ],
          "scattergl": [
           {
            "marker": {
             "colorbar": {
              "outlinewidth": 0,
              "ticks": ""
             }
            },
            "type": "scattergl"
           }
          ],
          "scattermapbox": [
           {
            "marker": {
             "colorbar": {
              "outlinewidth": 0,
              "ticks": ""
             }
            },
            "type": "scattermapbox"
           }
          ],
          "scatterpolar": [
           {
            "marker": {
             "colorbar": {
              "outlinewidth": 0,
              "ticks": ""
             }
            },
            "type": "scatterpolar"
           }
          ],
          "scatterpolargl": [
           {
            "marker": {
             "colorbar": {
              "outlinewidth": 0,
              "ticks": ""
             }
            },
            "type": "scatterpolargl"
           }
          ],
          "scatterternary": [
           {
            "marker": {
             "colorbar": {
              "outlinewidth": 0,
              "ticks": ""
             }
            },
            "type": "scatterternary"
           }
          ],
          "surface": [
           {
            "colorbar": {
             "outlinewidth": 0,
             "ticks": ""
            },
            "colorscale": [
             [
              0,
              "#0d0887"
             ],
             [
              0.1111111111111111,
              "#46039f"
             ],
             [
              0.2222222222222222,
              "#7201a8"
             ],
             [
              0.3333333333333333,
              "#9c179e"
             ],
             [
              0.4444444444444444,
              "#bd3786"
             ],
             [
              0.5555555555555556,
              "#d8576b"
             ],
             [
              0.6666666666666666,
              "#ed7953"
             ],
             [
              0.7777777777777778,
              "#fb9f3a"
             ],
             [
              0.8888888888888888,
              "#fdca26"
             ],
             [
              1,
              "#f0f921"
             ]
            ],
            "type": "surface"
           }
          ],
          "table": [
           {
            "cells": {
             "fill": {
              "color": "#EBF0F8"
             },
             "line": {
              "color": "white"
             }
            },
            "header": {
             "fill": {
              "color": "#C8D4E3"
             },
             "line": {
              "color": "white"
             }
            },
            "type": "table"
           }
          ]
         },
         "layout": {
          "annotationdefaults": {
           "arrowcolor": "#2a3f5f",
           "arrowhead": 0,
           "arrowwidth": 1
          },
          "autotypenumbers": "strict",
          "coloraxis": {
           "colorbar": {
            "outlinewidth": 0,
            "ticks": ""
           }
          },
          "colorscale": {
           "diverging": [
            [
             0,
             "#8e0152"
            ],
            [
             0.1,
             "#c51b7d"
            ],
            [
             0.2,
             "#de77ae"
            ],
            [
             0.3,
             "#f1b6da"
            ],
            [
             0.4,
             "#fde0ef"
            ],
            [
             0.5,
             "#f7f7f7"
            ],
            [
             0.6,
             "#e6f5d0"
            ],
            [
             0.7,
             "#b8e186"
            ],
            [
             0.8,
             "#7fbc41"
            ],
            [
             0.9,
             "#4d9221"
            ],
            [
             1,
             "#276419"
            ]
           ],
           "sequential": [
            [
             0,
             "#0d0887"
            ],
            [
             0.1111111111111111,
             "#46039f"
            ],
            [
             0.2222222222222222,
             "#7201a8"
            ],
            [
             0.3333333333333333,
             "#9c179e"
            ],
            [
             0.4444444444444444,
             "#bd3786"
            ],
            [
             0.5555555555555556,
             "#d8576b"
            ],
            [
             0.6666666666666666,
             "#ed7953"
            ],
            [
             0.7777777777777778,
             "#fb9f3a"
            ],
            [
             0.8888888888888888,
             "#fdca26"
            ],
            [
             1,
             "#f0f921"
            ]
           ],
           "sequentialminus": [
            [
             0,
             "#0d0887"
            ],
            [
             0.1111111111111111,
             "#46039f"
            ],
            [
             0.2222222222222222,
             "#7201a8"
            ],
            [
             0.3333333333333333,
             "#9c179e"
            ],
            [
             0.4444444444444444,
             "#bd3786"
            ],
            [
             0.5555555555555556,
             "#d8576b"
            ],
            [
             0.6666666666666666,
             "#ed7953"
            ],
            [
             0.7777777777777778,
             "#fb9f3a"
            ],
            [
             0.8888888888888888,
             "#fdca26"
            ],
            [
             1,
             "#f0f921"
            ]
           ]
          },
          "colorway": [
           "#636efa",
           "#EF553B",
           "#00cc96",
           "#ab63fa",
           "#FFA15A",
           "#19d3f3",
           "#FF6692",
           "#B6E880",
           "#FF97FF",
           "#FECB52"
          ],
          "font": {
           "color": "#2a3f5f"
          },
          "geo": {
           "bgcolor": "white",
           "lakecolor": "white",
           "landcolor": "#E5ECF6",
           "showlakes": true,
           "showland": true,
           "subunitcolor": "white"
          },
          "hoverlabel": {
           "align": "left"
          },
          "hovermode": "closest",
          "mapbox": {
           "style": "light"
          },
          "paper_bgcolor": "white",
          "plot_bgcolor": "#E5ECF6",
          "polar": {
           "angularaxis": {
            "gridcolor": "white",
            "linecolor": "white",
            "ticks": ""
           },
           "bgcolor": "#E5ECF6",
           "radialaxis": {
            "gridcolor": "white",
            "linecolor": "white",
            "ticks": ""
           }
          },
          "scene": {
           "xaxis": {
            "backgroundcolor": "#E5ECF6",
            "gridcolor": "white",
            "gridwidth": 2,
            "linecolor": "white",
            "showbackground": true,
            "ticks": "",
            "zerolinecolor": "white"
           },
           "yaxis": {
            "backgroundcolor": "#E5ECF6",
            "gridcolor": "white",
            "gridwidth": 2,
            "linecolor": "white",
            "showbackground": true,
            "ticks": "",
            "zerolinecolor": "white"
           },
           "zaxis": {
            "backgroundcolor": "#E5ECF6",
            "gridcolor": "white",
            "gridwidth": 2,
            "linecolor": "white",
            "showbackground": true,
            "ticks": "",
            "zerolinecolor": "white"
           }
          },
          "shapedefaults": {
           "line": {
            "color": "#2a3f5f"
           }
          },
          "ternary": {
           "aaxis": {
            "gridcolor": "white",
            "linecolor": "white",
            "ticks": ""
           },
           "baxis": {
            "gridcolor": "white",
            "linecolor": "white",
            "ticks": ""
           },
           "bgcolor": "#E5ECF6",
           "caxis": {
            "gridcolor": "white",
            "linecolor": "white",
            "ticks": ""
           }
          },
          "title": {
           "x": 0.05
          },
          "xaxis": {
           "automargin": true,
           "gridcolor": "white",
           "linecolor": "white",
           "ticks": "",
           "title": {
            "standoff": 15
           },
           "zerolinecolor": "white",
           "zerolinewidth": 2
          },
          "yaxis": {
           "automargin": true,
           "gridcolor": "white",
           "linecolor": "white",
           "ticks": "",
           "title": {
            "standoff": 15
           },
           "zerolinecolor": "white",
           "zerolinewidth": 2
          }
         }
        },
        "title": {
         "text": "Distribution of articles category-wise",
         "x": 0.5,
         "xanchor": "center",
         "y": 0.9,
         "yanchor": "top"
        },
        "width": 800,
        "xaxis": {
         "title": {
          "text": "Category name"
         }
        },
        "yaxis": {
         "title": {
          "text": "Number of articles"
         }
        }
       }
      },
      "text/html": [
       "<div>                            <div id=\"2b44f723-6a1b-42e6-898d-82f39cc84337\" class=\"plotly-graph-div\" style=\"height:700px; width:800px;\"></div>            <script type=\"text/javascript\">                require([\"plotly\"], function(Plotly) {                    window.PLOTLYENV=window.PLOTLYENV || {};                                    if (document.getElementById(\"2b44f723-6a1b-42e6-898d-82f39cc84337\")) {                    Plotly.newPlot(                        \"2b44f723-6a1b-42e6-898d-82f39cc84337\",                        [{\"x\":[\"POLITICS\",\"U.S. NEWS\",\"ENTERTAINMENT\",\"WORLD NEWS\",\"SPORTS\",\"CRIME\",\"ENVIRONMENT\",\"WELLNESS\",\"CULTURE & ARTS\",\"FOOD & DRINK\",\"PARENTING\",\"STYLE & BEAUTY\",\"COMEDY\",\"WEIRD NEWS\",\"BUSINESS\",\"TECH\",\"SCIENCE\",\"MEDIA\",\"WOMEN\",\"HOME & LIVING\",\"BLACK VOICES\",\"QUEER VOICES\",\"EDUCATION\",\"TRAVEL\"],\"y\":[388,234,230,188,71,37,26,23,22,17,15,15,15,15,12,7,7,7,5,4,4,2,2,1],\"type\":\"bar\"}],                        {\"template\":{\"data\":{\"histogram2dcontour\":[{\"type\":\"histogram2dcontour\",\"colorbar\":{\"outlinewidth\":0,\"ticks\":\"\"},\"colorscale\":[[0.0,\"#0d0887\"],[0.1111111111111111,\"#46039f\"],[0.2222222222222222,\"#7201a8\"],[0.3333333333333333,\"#9c179e\"],[0.4444444444444444,\"#bd3786\"],[0.5555555555555556,\"#d8576b\"],[0.6666666666666666,\"#ed7953\"],[0.7777777777777778,\"#fb9f3a\"],[0.8888888888888888,\"#fdca26\"],[1.0,\"#f0f921\"]]}],\"choropleth\":[{\"type\":\"choropleth\",\"colorbar\":{\"outlinewidth\":0,\"ticks\":\"\"}}],\"histogram2d\":[{\"type\":\"histogram2d\",\"colorbar\":{\"outlinewidth\":0,\"ticks\":\"\"},\"colorscale\":[[0.0,\"#0d0887\"],[0.1111111111111111,\"#46039f\"],[0.2222222222222222,\"#7201a8\"],[0.3333333333333333,\"#9c179e\"],[0.4444444444444444,\"#bd3786\"],[0.5555555555555556,\"#d8576b\"],[0.6666666666666666,\"#ed7953\"],[0.7777777777777778,\"#fb9f3a\"],[0.8888888888888888,\"#fdca26\"],[1.0,\"#f0f921\"]]}],\"heatmap\":[{\"type\":\"heatmap\",\"colorbar\":{\"outlinewidth\":0,\"ticks\":\"\"},\"colorscale\":[[0.0,\"#0d0887\"],[0.1111111111111111,\"#46039f\"],[0.2222222222222222,\"#7201a8\"],[0.3333333333333333,\"#9c179e\"],[0.4444444444444444,\"#bd3786\"],[0.5555555555555556,\"#d8576b\"],[0.6666666666666666,\"#ed7953\"],[0.7777777777777778,\"#fb9f3a\"],[0.8888888888888888,\"#fdca26\"],[1.0,\"#f0f921\"]]}],\"heatmapgl\":[{\"type\":\"heatmapgl\",\"colorbar\":{\"outlinewidth\":0,\"ticks\":\"\"},\"colorscale\":[[0.0,\"#0d0887\"],[0.1111111111111111,\"#46039f\"],[0.2222222222222222,\"#7201a8\"],[0.3333333333333333,\"#9c179e\"],[0.4444444444444444,\"#bd3786\"],[0.5555555555555556,\"#d8576b\"],[0.6666666666666666,\"#ed7953\"],[0.7777777777777778,\"#fb9f3a\"],[0.8888888888888888,\"#fdca26\"],[1.0,\"#f0f921\"]]}],\"contourcarpet\":[{\"type\":\"contourcarpet\",\"colorbar\":{\"outlinewidth\":0,\"ticks\":\"\"}}],\"contour\":[{\"type\":\"contour\",\"colorbar\":{\"outlinewidth\":0,\"ticks\":\"\"},\"colorscale\":[[0.0,\"#0d0887\"],[0.1111111111111111,\"#46039f\"],[0.2222222222222222,\"#7201a8\"],[0.3333333333333333,\"#9c179e\"],[0.4444444444444444,\"#bd3786\"],[0.5555555555555556,\"#d8576b\"],[0.6666666666666666,\"#ed7953\"],[0.7777777777777778,\"#fb9f3a\"],[0.8888888888888888,\"#fdca26\"],[1.0,\"#f0f921\"]]}],\"surface\":[{\"type\":\"surface\",\"colorbar\":{\"outlinewidth\":0,\"ticks\":\"\"},\"colorscale\":[[0.0,\"#0d0887\"],[0.1111111111111111,\"#46039f\"],[0.2222222222222222,\"#7201a8\"],[0.3333333333333333,\"#9c179e\"],[0.4444444444444444,\"#bd3786\"],[0.5555555555555556,\"#d8576b\"],[0.6666666666666666,\"#ed7953\"],[0.7777777777777778,\"#fb9f3a\"],[0.8888888888888888,\"#fdca26\"],[1.0,\"#f0f921\"]]}],\"mesh3d\":[{\"type\":\"mesh3d\",\"colorbar\":{\"outlinewidth\":0,\"ticks\":\"\"}}],\"scatter\":[{\"fillpattern\":{\"fillmode\":\"overlay\",\"size\":10,\"solidity\":0.2},\"type\":\"scatter\"}],\"parcoords\":[{\"type\":\"parcoords\",\"line\":{\"colorbar\":{\"outlinewidth\":0,\"ticks\":\"\"}}}],\"scatterpolargl\":[{\"type\":\"scatterpolargl\",\"marker\":{\"colorbar\":{\"outlinewidth\":0,\"ticks\":\"\"}}}],\"bar\":[{\"error_x\":{\"color\":\"#2a3f5f\"},\"error_y\":{\"color\":\"#2a3f5f\"},\"marker\":{\"line\":{\"color\":\"#E5ECF6\",\"width\":0.5},\"pattern\":{\"fillmode\":\"overlay\",\"size\":10,\"solidity\":0.2}},\"type\":\"bar\"}],\"scattergeo\":[{\"type\":\"scattergeo\",\"marker\":{\"colorbar\":{\"outlinewidth\":0,\"ticks\":\"\"}}}],\"scatterpolar\":[{\"type\":\"scatterpolar\",\"marker\":{\"colorbar\":{\"outlinewidth\":0,\"ticks\":\"\"}}}],\"histogram\":[{\"marker\":{\"pattern\":{\"fillmode\":\"overlay\",\"size\":10,\"solidity\":0.2}},\"type\":\"histogram\"}],\"scattergl\":[{\"type\":\"scattergl\",\"marker\":{\"colorbar\":{\"outlinewidth\":0,\"ticks\":\"\"}}}],\"scatter3d\":[{\"type\":\"scatter3d\",\"line\":{\"colorbar\":{\"outlinewidth\":0,\"ticks\":\"\"}},\"marker\":{\"colorbar\":{\"outlinewidth\":0,\"ticks\":\"\"}}}],\"scattermapbox\":[{\"type\":\"scattermapbox\",\"marker\":{\"colorbar\":{\"outlinewidth\":0,\"ticks\":\"\"}}}],\"scatterternary\":[{\"type\":\"scatterternary\",\"marker\":{\"colorbar\":{\"outlinewidth\":0,\"ticks\":\"\"}}}],\"scattercarpet\":[{\"type\":\"scattercarpet\",\"marker\":{\"colorbar\":{\"outlinewidth\":0,\"ticks\":\"\"}}}],\"carpet\":[{\"aaxis\":{\"endlinecolor\":\"#2a3f5f\",\"gridcolor\":\"white\",\"linecolor\":\"white\",\"minorgridcolor\":\"white\",\"startlinecolor\":\"#2a3f5f\"},\"baxis\":{\"endlinecolor\":\"#2a3f5f\",\"gridcolor\":\"white\",\"linecolor\":\"white\",\"minorgridcolor\":\"white\",\"startlinecolor\":\"#2a3f5f\"},\"type\":\"carpet\"}],\"table\":[{\"cells\":{\"fill\":{\"color\":\"#EBF0F8\"},\"line\":{\"color\":\"white\"}},\"header\":{\"fill\":{\"color\":\"#C8D4E3\"},\"line\":{\"color\":\"white\"}},\"type\":\"table\"}],\"barpolar\":[{\"marker\":{\"line\":{\"color\":\"#E5ECF6\",\"width\":0.5},\"pattern\":{\"fillmode\":\"overlay\",\"size\":10,\"solidity\":0.2}},\"type\":\"barpolar\"}],\"pie\":[{\"automargin\":true,\"type\":\"pie\"}]},\"layout\":{\"autotypenumbers\":\"strict\",\"colorway\":[\"#636efa\",\"#EF553B\",\"#00cc96\",\"#ab63fa\",\"#FFA15A\",\"#19d3f3\",\"#FF6692\",\"#B6E880\",\"#FF97FF\",\"#FECB52\"],\"font\":{\"color\":\"#2a3f5f\"},\"hovermode\":\"closest\",\"hoverlabel\":{\"align\":\"left\"},\"paper_bgcolor\":\"white\",\"plot_bgcolor\":\"#E5ECF6\",\"polar\":{\"bgcolor\":\"#E5ECF6\",\"angularaxis\":{\"gridcolor\":\"white\",\"linecolor\":\"white\",\"ticks\":\"\"},\"radialaxis\":{\"gridcolor\":\"white\",\"linecolor\":\"white\",\"ticks\":\"\"}},\"ternary\":{\"bgcolor\":\"#E5ECF6\",\"aaxis\":{\"gridcolor\":\"white\",\"linecolor\":\"white\",\"ticks\":\"\"},\"baxis\":{\"gridcolor\":\"white\",\"linecolor\":\"white\",\"ticks\":\"\"},\"caxis\":{\"gridcolor\":\"white\",\"linecolor\":\"white\",\"ticks\":\"\"}},\"coloraxis\":{\"colorbar\":{\"outlinewidth\":0,\"ticks\":\"\"}},\"colorscale\":{\"sequential\":[[0.0,\"#0d0887\"],[0.1111111111111111,\"#46039f\"],[0.2222222222222222,\"#7201a8\"],[0.3333333333333333,\"#9c179e\"],[0.4444444444444444,\"#bd3786\"],[0.5555555555555556,\"#d8576b\"],[0.6666666666666666,\"#ed7953\"],[0.7777777777777778,\"#fb9f3a\"],[0.8888888888888888,\"#fdca26\"],[1.0,\"#f0f921\"]],\"sequentialminus\":[[0.0,\"#0d0887\"],[0.1111111111111111,\"#46039f\"],[0.2222222222222222,\"#7201a8\"],[0.3333333333333333,\"#9c179e\"],[0.4444444444444444,\"#bd3786\"],[0.5555555555555556,\"#d8576b\"],[0.6666666666666666,\"#ed7953\"],[0.7777777777777778,\"#fb9f3a\"],[0.8888888888888888,\"#fdca26\"],[1.0,\"#f0f921\"]],\"diverging\":[[0,\"#8e0152\"],[0.1,\"#c51b7d\"],[0.2,\"#de77ae\"],[0.3,\"#f1b6da\"],[0.4,\"#fde0ef\"],[0.5,\"#f7f7f7\"],[0.6,\"#e6f5d0\"],[0.7,\"#b8e186\"],[0.8,\"#7fbc41\"],[0.9,\"#4d9221\"],[1,\"#276419\"]]},\"xaxis\":{\"gridcolor\":\"white\",\"linecolor\":\"white\",\"ticks\":\"\",\"title\":{\"standoff\":15},\"zerolinecolor\":\"white\",\"automargin\":true,\"zerolinewidth\":2},\"yaxis\":{\"gridcolor\":\"white\",\"linecolor\":\"white\",\"ticks\":\"\",\"title\":{\"standoff\":15},\"zerolinecolor\":\"white\",\"automargin\":true,\"zerolinewidth\":2},\"scene\":{\"xaxis\":{\"backgroundcolor\":\"#E5ECF6\",\"gridcolor\":\"white\",\"linecolor\":\"white\",\"showbackground\":true,\"ticks\":\"\",\"zerolinecolor\":\"white\",\"gridwidth\":2},\"yaxis\":{\"backgroundcolor\":\"#E5ECF6\",\"gridcolor\":\"white\",\"linecolor\":\"white\",\"showbackground\":true,\"ticks\":\"\",\"zerolinecolor\":\"white\",\"gridwidth\":2},\"zaxis\":{\"backgroundcolor\":\"#E5ECF6\",\"gridcolor\":\"white\",\"linecolor\":\"white\",\"showbackground\":true,\"ticks\":\"\",\"zerolinecolor\":\"white\",\"gridwidth\":2}},\"shapedefaults\":{\"line\":{\"color\":\"#2a3f5f\"}},\"annotationdefaults\":{\"arrowcolor\":\"#2a3f5f\",\"arrowhead\":0,\"arrowwidth\":1},\"geo\":{\"bgcolor\":\"white\",\"landcolor\":\"#E5ECF6\",\"subunitcolor\":\"white\",\"showland\":true,\"showlakes\":true,\"lakecolor\":\"white\"},\"title\":{\"x\":0.05},\"mapbox\":{\"style\":\"light\"}}},\"title\":{\"text\":\"Distribution of articles category-wise\",\"y\":0.9,\"x\":0.5,\"xanchor\":\"center\",\"yanchor\":\"top\"},\"xaxis\":{\"title\":{\"text\":\"Category name\"}},\"yaxis\":{\"title\":{\"text\":\"Number of articles\"}},\"width\":800,\"height\":700},                        {\"responsive\": true}                    ).then(function(){\n",
       "                            \n",
       "var gd = document.getElementById('2b44f723-6a1b-42e6-898d-82f39cc84337');\n",
       "var x = new MutationObserver(function (mutations, observer) {{\n",
       "        var display = window.getComputedStyle(gd).display;\n",
       "        if (!display || display === 'none') {{\n",
       "            console.log([gd, 'removed!']);\n",
       "            Plotly.purge(gd);\n",
       "            observer.disconnect();\n",
       "        }}\n",
       "}});\n",
       "\n",
       "// Listen for the removal of the full notebook cells\n",
       "var notebookContainer = gd.closest('#notebook-container');\n",
       "if (notebookContainer) {{\n",
       "    x.observe(notebookContainer, {childList: true});\n",
       "}}\n",
       "\n",
       "// Listen for the clearing of the current output cell\n",
       "var outputEl = gd.closest('.output');\n",
       "if (outputEl) {{\n",
       "    x.observe(outputEl, {childList: true});\n",
       "}}\n",
       "\n",
       "                        })                };                });            </script>        </div>"
      ]
     },
     "metadata": {},
     "output_type": "display_data"
    }
   ],
   "source": [
    "fig = go.Figure([go.Bar(x=news_articles[\"category\"].value_counts().index, y=news_articles[\"category\"].value_counts().values)])\n",
    "\n",
    "fig['layout'].update(title={\"text\" : 'Distribution of articles category-wise','y':0.9,'x':0.5,'xanchor': 'center','yanchor': 'top'}, xaxis_title=\"Category name\",yaxis_title=\"Number of articles\")\n",
    "fig.update_layout(width=800,height=700)\n",
    "fig"
   ]
  },
  {
   "cell_type": "markdown",
   "metadata": {},
   "source": [
    "From the bar chart, we can observe that **politics** category has **highest** number of articles then **US news** ,**entertainment** and so on.  "
   ]
  },
  {
   "cell_type": "markdown",
   "metadata": {},
   "source": [
    "### 4.c Number of articles per month"
   ]
  },
  {
   "cell_type": "markdown",
   "metadata": {},
   "source": [
    "Let's first group the data on monthly basis using **resample()** function. "
   ]
  },
  {
   "cell_type": "code",
   "execution_count": 33,
   "metadata": {
    "execution": {
     "iopub.execute_input": "2022-10-11T11:04:11.974377Z",
     "iopub.status.busy": "2022-10-11T11:04:11.973807Z",
     "iopub.status.idle": "2022-10-11T11:04:12.005369Z",
     "shell.execute_reply": "2022-10-11T11:04:12.003578Z",
     "shell.execute_reply.started": "2022-10-11T11:04:11.974322Z"
    }
   },
   "outputs": [
    {
     "data": {
      "text/plain": [
       "date\n",
       "2022-01-31    143\n",
       "2022-02-28    146\n",
       "2022-03-31    169\n",
       "2022-04-30    156\n",
       "2022-05-31    163\n",
       "2022-06-30    144\n",
       "2022-07-31    138\n",
       "2022-08-31    167\n",
       "2022-09-30    121\n",
       "Freq: M, Name: headline, dtype: int64"
      ]
     },
     "execution_count": 33,
     "metadata": {},
     "output_type": "execute_result"
    }
   ],
   "source": [
    "news_articles_per_month = news_articles.resample('m',on = 'date')['headline'].count()\n",
    "\n",
    "news_articles_per_month"
   ]
  },
  {
   "cell_type": "code",
   "execution_count": 34,
   "metadata": {
    "execution": {
     "iopub.execute_input": "2022-10-11T11:04:12.008674Z",
     "iopub.status.busy": "2022-10-11T11:04:12.008042Z",
     "iopub.status.idle": "2022-10-11T11:04:12.204886Z",
     "shell.execute_reply": "2022-10-11T11:04:12.203611Z",
     "shell.execute_reply.started": "2022-10-11T11:04:12.008534Z"
    }
   },
   "outputs": [
    {
     "data": {
      "application/vnd.plotly.v1+json": {
       "config": {
        "plotlyServerURL": "https://plot.ly"
       },
       "data": [
        {
         "type": "bar",
         "x": [
          "Jan",
          "Feb",
          "Mar",
          "Apr",
          "May",
          "Jun",
          "Jul",
          "Aug",
          "Sep"
         ],
         "y": [
          143,
          146,
          169,
          156,
          163,
          144,
          138,
          167,
          121
         ]
        }
       ],
       "layout": {
        "height": 500,
        "template": {
         "data": {
          "bar": [
           {
            "error_x": {
             "color": "#2a3f5f"
            },
            "error_y": {
             "color": "#2a3f5f"
            },
            "marker": {
             "line": {
              "color": "#E5ECF6",
              "width": 0.5
             },
             "pattern": {
              "fillmode": "overlay",
              "size": 10,
              "solidity": 0.2
             }
            },
            "type": "bar"
           }
          ],
          "barpolar": [
           {
            "marker": {
             "line": {
              "color": "#E5ECF6",
              "width": 0.5
             },
             "pattern": {
              "fillmode": "overlay",
              "size": 10,
              "solidity": 0.2
             }
            },
            "type": "barpolar"
           }
          ],
          "carpet": [
           {
            "aaxis": {
             "endlinecolor": "#2a3f5f",
             "gridcolor": "white",
             "linecolor": "white",
             "minorgridcolor": "white",
             "startlinecolor": "#2a3f5f"
            },
            "baxis": {
             "endlinecolor": "#2a3f5f",
             "gridcolor": "white",
             "linecolor": "white",
             "minorgridcolor": "white",
             "startlinecolor": "#2a3f5f"
            },
            "type": "carpet"
           }
          ],
          "choropleth": [
           {
            "colorbar": {
             "outlinewidth": 0,
             "ticks": ""
            },
            "type": "choropleth"
           }
          ],
          "contour": [
           {
            "colorbar": {
             "outlinewidth": 0,
             "ticks": ""
            },
            "colorscale": [
             [
              0,
              "#0d0887"
             ],
             [
              0.1111111111111111,
              "#46039f"
             ],
             [
              0.2222222222222222,
              "#7201a8"
             ],
             [
              0.3333333333333333,
              "#9c179e"
             ],
             [
              0.4444444444444444,
              "#bd3786"
             ],
             [
              0.5555555555555556,
              "#d8576b"
             ],
             [
              0.6666666666666666,
              "#ed7953"
             ],
             [
              0.7777777777777778,
              "#fb9f3a"
             ],
             [
              0.8888888888888888,
              "#fdca26"
             ],
             [
              1,
              "#f0f921"
             ]
            ],
            "type": "contour"
           }
          ],
          "contourcarpet": [
           {
            "colorbar": {
             "outlinewidth": 0,
             "ticks": ""
            },
            "type": "contourcarpet"
           }
          ],
          "heatmap": [
           {
            "colorbar": {
             "outlinewidth": 0,
             "ticks": ""
            },
            "colorscale": [
             [
              0,
              "#0d0887"
             ],
             [
              0.1111111111111111,
              "#46039f"
             ],
             [
              0.2222222222222222,
              "#7201a8"
             ],
             [
              0.3333333333333333,
              "#9c179e"
             ],
             [
              0.4444444444444444,
              "#bd3786"
             ],
             [
              0.5555555555555556,
              "#d8576b"
             ],
             [
              0.6666666666666666,
              "#ed7953"
             ],
             [
              0.7777777777777778,
              "#fb9f3a"
             ],
             [
              0.8888888888888888,
              "#fdca26"
             ],
             [
              1,
              "#f0f921"
             ]
            ],
            "type": "heatmap"
           }
          ],
          "heatmapgl": [
           {
            "colorbar": {
             "outlinewidth": 0,
             "ticks": ""
            },
            "colorscale": [
             [
              0,
              "#0d0887"
             ],
             [
              0.1111111111111111,
              "#46039f"
             ],
             [
              0.2222222222222222,
              "#7201a8"
             ],
             [
              0.3333333333333333,
              "#9c179e"
             ],
             [
              0.4444444444444444,
              "#bd3786"
             ],
             [
              0.5555555555555556,
              "#d8576b"
             ],
             [
              0.6666666666666666,
              "#ed7953"
             ],
             [
              0.7777777777777778,
              "#fb9f3a"
             ],
             [
              0.8888888888888888,
              "#fdca26"
             ],
             [
              1,
              "#f0f921"
             ]
            ],
            "type": "heatmapgl"
           }
          ],
          "histogram": [
           {
            "marker": {
             "pattern": {
              "fillmode": "overlay",
              "size": 10,
              "solidity": 0.2
             }
            },
            "type": "histogram"
           }
          ],
          "histogram2d": [
           {
            "colorbar": {
             "outlinewidth": 0,
             "ticks": ""
            },
            "colorscale": [
             [
              0,
              "#0d0887"
             ],
             [
              0.1111111111111111,
              "#46039f"
             ],
             [
              0.2222222222222222,
              "#7201a8"
             ],
             [
              0.3333333333333333,
              "#9c179e"
             ],
             [
              0.4444444444444444,
              "#bd3786"
             ],
             [
              0.5555555555555556,
              "#d8576b"
             ],
             [
              0.6666666666666666,
              "#ed7953"
             ],
             [
              0.7777777777777778,
              "#fb9f3a"
             ],
             [
              0.8888888888888888,
              "#fdca26"
             ],
             [
              1,
              "#f0f921"
             ]
            ],
            "type": "histogram2d"
           }
          ],
          "histogram2dcontour": [
           {
            "colorbar": {
             "outlinewidth": 0,
             "ticks": ""
            },
            "colorscale": [
             [
              0,
              "#0d0887"
             ],
             [
              0.1111111111111111,
              "#46039f"
             ],
             [
              0.2222222222222222,
              "#7201a8"
             ],
             [
              0.3333333333333333,
              "#9c179e"
             ],
             [
              0.4444444444444444,
              "#bd3786"
             ],
             [
              0.5555555555555556,
              "#d8576b"
             ],
             [
              0.6666666666666666,
              "#ed7953"
             ],
             [
              0.7777777777777778,
              "#fb9f3a"
             ],
             [
              0.8888888888888888,
              "#fdca26"
             ],
             [
              1,
              "#f0f921"
             ]
            ],
            "type": "histogram2dcontour"
           }
          ],
          "mesh3d": [
           {
            "colorbar": {
             "outlinewidth": 0,
             "ticks": ""
            },
            "type": "mesh3d"
           }
          ],
          "parcoords": [
           {
            "line": {
             "colorbar": {
              "outlinewidth": 0,
              "ticks": ""
             }
            },
            "type": "parcoords"
           }
          ],
          "pie": [
           {
            "automargin": true,
            "type": "pie"
           }
          ],
          "scatter": [
           {
            "fillpattern": {
             "fillmode": "overlay",
             "size": 10,
             "solidity": 0.2
            },
            "type": "scatter"
           }
          ],
          "scatter3d": [
           {
            "line": {
             "colorbar": {
              "outlinewidth": 0,
              "ticks": ""
             }
            },
            "marker": {
             "colorbar": {
              "outlinewidth": 0,
              "ticks": ""
             }
            },
            "type": "scatter3d"
           }
          ],
          "scattercarpet": [
           {
            "marker": {
             "colorbar": {
              "outlinewidth": 0,
              "ticks": ""
             }
            },
            "type": "scattercarpet"
           }
          ],
          "scattergeo": [
           {
            "marker": {
             "colorbar": {
              "outlinewidth": 0,
              "ticks": ""
             }
            },
            "type": "scattergeo"
           }
          ],
          "scattergl": [
           {
            "marker": {
             "colorbar": {
              "outlinewidth": 0,
              "ticks": ""
             }
            },
            "type": "scattergl"
           }
          ],
          "scattermapbox": [
           {
            "marker": {
             "colorbar": {
              "outlinewidth": 0,
              "ticks": ""
             }
            },
            "type": "scattermapbox"
           }
          ],
          "scatterpolar": [
           {
            "marker": {
             "colorbar": {
              "outlinewidth": 0,
              "ticks": ""
             }
            },
            "type": "scatterpolar"
           }
          ],
          "scatterpolargl": [
           {
            "marker": {
             "colorbar": {
              "outlinewidth": 0,
              "ticks": ""
             }
            },
            "type": "scatterpolargl"
           }
          ],
          "scatterternary": [
           {
            "marker": {
             "colorbar": {
              "outlinewidth": 0,
              "ticks": ""
             }
            },
            "type": "scatterternary"
           }
          ],
          "surface": [
           {
            "colorbar": {
             "outlinewidth": 0,
             "ticks": ""
            },
            "colorscale": [
             [
              0,
              "#0d0887"
             ],
             [
              0.1111111111111111,
              "#46039f"
             ],
             [
              0.2222222222222222,
              "#7201a8"
             ],
             [
              0.3333333333333333,
              "#9c179e"
             ],
             [
              0.4444444444444444,
              "#bd3786"
             ],
             [
              0.5555555555555556,
              "#d8576b"
             ],
             [
              0.6666666666666666,
              "#ed7953"
             ],
             [
              0.7777777777777778,
              "#fb9f3a"
             ],
             [
              0.8888888888888888,
              "#fdca26"
             ],
             [
              1,
              "#f0f921"
             ]
            ],
            "type": "surface"
           }
          ],
          "table": [
           {
            "cells": {
             "fill": {
              "color": "#EBF0F8"
             },
             "line": {
              "color": "white"
             }
            },
            "header": {
             "fill": {
              "color": "#C8D4E3"
             },
             "line": {
              "color": "white"
             }
            },
            "type": "table"
           }
          ]
         },
         "layout": {
          "annotationdefaults": {
           "arrowcolor": "#2a3f5f",
           "arrowhead": 0,
           "arrowwidth": 1
          },
          "autotypenumbers": "strict",
          "coloraxis": {
           "colorbar": {
            "outlinewidth": 0,
            "ticks": ""
           }
          },
          "colorscale": {
           "diverging": [
            [
             0,
             "#8e0152"
            ],
            [
             0.1,
             "#c51b7d"
            ],
            [
             0.2,
             "#de77ae"
            ],
            [
             0.3,
             "#f1b6da"
            ],
            [
             0.4,
             "#fde0ef"
            ],
            [
             0.5,
             "#f7f7f7"
            ],
            [
             0.6,
             "#e6f5d0"
            ],
            [
             0.7,
             "#b8e186"
            ],
            [
             0.8,
             "#7fbc41"
            ],
            [
             0.9,
             "#4d9221"
            ],
            [
             1,
             "#276419"
            ]
           ],
           "sequential": [
            [
             0,
             "#0d0887"
            ],
            [
             0.1111111111111111,
             "#46039f"
            ],
            [
             0.2222222222222222,
             "#7201a8"
            ],
            [
             0.3333333333333333,
             "#9c179e"
            ],
            [
             0.4444444444444444,
             "#bd3786"
            ],
            [
             0.5555555555555556,
             "#d8576b"
            ],
            [
             0.6666666666666666,
             "#ed7953"
            ],
            [
             0.7777777777777778,
             "#fb9f3a"
            ],
            [
             0.8888888888888888,
             "#fdca26"
            ],
            [
             1,
             "#f0f921"
            ]
           ],
           "sequentialminus": [
            [
             0,
             "#0d0887"
            ],
            [
             0.1111111111111111,
             "#46039f"
            ],
            [
             0.2222222222222222,
             "#7201a8"
            ],
            [
             0.3333333333333333,
             "#9c179e"
            ],
            [
             0.4444444444444444,
             "#bd3786"
            ],
            [
             0.5555555555555556,
             "#d8576b"
            ],
            [
             0.6666666666666666,
             "#ed7953"
            ],
            [
             0.7777777777777778,
             "#fb9f3a"
            ],
            [
             0.8888888888888888,
             "#fdca26"
            ],
            [
             1,
             "#f0f921"
            ]
           ]
          },
          "colorway": [
           "#636efa",
           "#EF553B",
           "#00cc96",
           "#ab63fa",
           "#FFA15A",
           "#19d3f3",
           "#FF6692",
           "#B6E880",
           "#FF97FF",
           "#FECB52"
          ],
          "font": {
           "color": "#2a3f5f"
          },
          "geo": {
           "bgcolor": "white",
           "lakecolor": "white",
           "landcolor": "#E5ECF6",
           "showlakes": true,
           "showland": true,
           "subunitcolor": "white"
          },
          "hoverlabel": {
           "align": "left"
          },
          "hovermode": "closest",
          "mapbox": {
           "style": "light"
          },
          "paper_bgcolor": "white",
          "plot_bgcolor": "#E5ECF6",
          "polar": {
           "angularaxis": {
            "gridcolor": "white",
            "linecolor": "white",
            "ticks": ""
           },
           "bgcolor": "#E5ECF6",
           "radialaxis": {
            "gridcolor": "white",
            "linecolor": "white",
            "ticks": ""
           }
          },
          "scene": {
           "xaxis": {
            "backgroundcolor": "#E5ECF6",
            "gridcolor": "white",
            "gridwidth": 2,
            "linecolor": "white",
            "showbackground": true,
            "ticks": "",
            "zerolinecolor": "white"
           },
           "yaxis": {
            "backgroundcolor": "#E5ECF6",
            "gridcolor": "white",
            "gridwidth": 2,
            "linecolor": "white",
            "showbackground": true,
            "ticks": "",
            "zerolinecolor": "white"
           },
           "zaxis": {
            "backgroundcolor": "#E5ECF6",
            "gridcolor": "white",
            "gridwidth": 2,
            "linecolor": "white",
            "showbackground": true,
            "ticks": "",
            "zerolinecolor": "white"
           }
          },
          "shapedefaults": {
           "line": {
            "color": "#2a3f5f"
           }
          },
          "ternary": {
           "aaxis": {
            "gridcolor": "white",
            "linecolor": "white",
            "ticks": ""
           },
           "baxis": {
            "gridcolor": "white",
            "linecolor": "white",
            "ticks": ""
           },
           "bgcolor": "#E5ECF6",
           "caxis": {
            "gridcolor": "white",
            "linecolor": "white",
            "ticks": ""
           }
          },
          "title": {
           "x": 0.05
          },
          "xaxis": {
           "automargin": true,
           "gridcolor": "white",
           "linecolor": "white",
           "ticks": "",
           "title": {
            "standoff": 15
           },
           "zerolinecolor": "white",
           "zerolinewidth": 2
          },
          "yaxis": {
           "automargin": true,
           "gridcolor": "white",
           "linecolor": "white",
           "ticks": "",
           "title": {
            "standoff": 15
           },
           "zerolinecolor": "white",
           "zerolinewidth": 2
          }
         }
        },
        "title": {
         "text": "Distribution of articles month-wise",
         "x": 0.5,
         "xanchor": "center",
         "y": 0.9,
         "yanchor": "top"
        },
        "width": 500,
        "xaxis": {
         "title": {
          "text": "Month"
         }
        },
        "yaxis": {
         "title": {
          "text": "Number of articles"
         }
        }
       }
      },
      "text/html": [
       "<div>                            <div id=\"16067ee8-25eb-4f0d-845d-6b23d908a8dc\" class=\"plotly-graph-div\" style=\"height:500px; width:500px;\"></div>            <script type=\"text/javascript\">                require([\"plotly\"], function(Plotly) {                    window.PLOTLYENV=window.PLOTLYENV || {};                                    if (document.getElementById(\"16067ee8-25eb-4f0d-845d-6b23d908a8dc\")) {                    Plotly.newPlot(                        \"16067ee8-25eb-4f0d-845d-6b23d908a8dc\",                        [{\"x\":[\"Jan\",\"Feb\",\"Mar\",\"Apr\",\"May\",\"Jun\",\"Jul\",\"Aug\",\"Sep\"],\"y\":[143,146,169,156,163,144,138,167,121],\"type\":\"bar\"}],                        {\"template\":{\"data\":{\"histogram2dcontour\":[{\"type\":\"histogram2dcontour\",\"colorbar\":{\"outlinewidth\":0,\"ticks\":\"\"},\"colorscale\":[[0.0,\"#0d0887\"],[0.1111111111111111,\"#46039f\"],[0.2222222222222222,\"#7201a8\"],[0.3333333333333333,\"#9c179e\"],[0.4444444444444444,\"#bd3786\"],[0.5555555555555556,\"#d8576b\"],[0.6666666666666666,\"#ed7953\"],[0.7777777777777778,\"#fb9f3a\"],[0.8888888888888888,\"#fdca26\"],[1.0,\"#f0f921\"]]}],\"choropleth\":[{\"type\":\"choropleth\",\"colorbar\":{\"outlinewidth\":0,\"ticks\":\"\"}}],\"histogram2d\":[{\"type\":\"histogram2d\",\"colorbar\":{\"outlinewidth\":0,\"ticks\":\"\"},\"colorscale\":[[0.0,\"#0d0887\"],[0.1111111111111111,\"#46039f\"],[0.2222222222222222,\"#7201a8\"],[0.3333333333333333,\"#9c179e\"],[0.4444444444444444,\"#bd3786\"],[0.5555555555555556,\"#d8576b\"],[0.6666666666666666,\"#ed7953\"],[0.7777777777777778,\"#fb9f3a\"],[0.8888888888888888,\"#fdca26\"],[1.0,\"#f0f921\"]]}],\"heatmap\":[{\"type\":\"heatmap\",\"colorbar\":{\"outlinewidth\":0,\"ticks\":\"\"},\"colorscale\":[[0.0,\"#0d0887\"],[0.1111111111111111,\"#46039f\"],[0.2222222222222222,\"#7201a8\"],[0.3333333333333333,\"#9c179e\"],[0.4444444444444444,\"#bd3786\"],[0.5555555555555556,\"#d8576b\"],[0.6666666666666666,\"#ed7953\"],[0.7777777777777778,\"#fb9f3a\"],[0.8888888888888888,\"#fdca26\"],[1.0,\"#f0f921\"]]}],\"heatmapgl\":[{\"type\":\"heatmapgl\",\"colorbar\":{\"outlinewidth\":0,\"ticks\":\"\"},\"colorscale\":[[0.0,\"#0d0887\"],[0.1111111111111111,\"#46039f\"],[0.2222222222222222,\"#7201a8\"],[0.3333333333333333,\"#9c179e\"],[0.4444444444444444,\"#bd3786\"],[0.5555555555555556,\"#d8576b\"],[0.6666666666666666,\"#ed7953\"],[0.7777777777777778,\"#fb9f3a\"],[0.8888888888888888,\"#fdca26\"],[1.0,\"#f0f921\"]]}],\"contourcarpet\":[{\"type\":\"contourcarpet\",\"colorbar\":{\"outlinewidth\":0,\"ticks\":\"\"}}],\"contour\":[{\"type\":\"contour\",\"colorbar\":{\"outlinewidth\":0,\"ticks\":\"\"},\"colorscale\":[[0.0,\"#0d0887\"],[0.1111111111111111,\"#46039f\"],[0.2222222222222222,\"#7201a8\"],[0.3333333333333333,\"#9c179e\"],[0.4444444444444444,\"#bd3786\"],[0.5555555555555556,\"#d8576b\"],[0.6666666666666666,\"#ed7953\"],[0.7777777777777778,\"#fb9f3a\"],[0.8888888888888888,\"#fdca26\"],[1.0,\"#f0f921\"]]}],\"surface\":[{\"type\":\"surface\",\"colorbar\":{\"outlinewidth\":0,\"ticks\":\"\"},\"colorscale\":[[0.0,\"#0d0887\"],[0.1111111111111111,\"#46039f\"],[0.2222222222222222,\"#7201a8\"],[0.3333333333333333,\"#9c179e\"],[0.4444444444444444,\"#bd3786\"],[0.5555555555555556,\"#d8576b\"],[0.6666666666666666,\"#ed7953\"],[0.7777777777777778,\"#fb9f3a\"],[0.8888888888888888,\"#fdca26\"],[1.0,\"#f0f921\"]]}],\"mesh3d\":[{\"type\":\"mesh3d\",\"colorbar\":{\"outlinewidth\":0,\"ticks\":\"\"}}],\"scatter\":[{\"fillpattern\":{\"fillmode\":\"overlay\",\"size\":10,\"solidity\":0.2},\"type\":\"scatter\"}],\"parcoords\":[{\"type\":\"parcoords\",\"line\":{\"colorbar\":{\"outlinewidth\":0,\"ticks\":\"\"}}}],\"scatterpolargl\":[{\"type\":\"scatterpolargl\",\"marker\":{\"colorbar\":{\"outlinewidth\":0,\"ticks\":\"\"}}}],\"bar\":[{\"error_x\":{\"color\":\"#2a3f5f\"},\"error_y\":{\"color\":\"#2a3f5f\"},\"marker\":{\"line\":{\"color\":\"#E5ECF6\",\"width\":0.5},\"pattern\":{\"fillmode\":\"overlay\",\"size\":10,\"solidity\":0.2}},\"type\":\"bar\"}],\"scattergeo\":[{\"type\":\"scattergeo\",\"marker\":{\"colorbar\":{\"outlinewidth\":0,\"ticks\":\"\"}}}],\"scatterpolar\":[{\"type\":\"scatterpolar\",\"marker\":{\"colorbar\":{\"outlinewidth\":0,\"ticks\":\"\"}}}],\"histogram\":[{\"marker\":{\"pattern\":{\"fillmode\":\"overlay\",\"size\":10,\"solidity\":0.2}},\"type\":\"histogram\"}],\"scattergl\":[{\"type\":\"scattergl\",\"marker\":{\"colorbar\":{\"outlinewidth\":0,\"ticks\":\"\"}}}],\"scatter3d\":[{\"type\":\"scatter3d\",\"line\":{\"colorbar\":{\"outlinewidth\":0,\"ticks\":\"\"}},\"marker\":{\"colorbar\":{\"outlinewidth\":0,\"ticks\":\"\"}}}],\"scattermapbox\":[{\"type\":\"scattermapbox\",\"marker\":{\"colorbar\":{\"outlinewidth\":0,\"ticks\":\"\"}}}],\"scatterternary\":[{\"type\":\"scatterternary\",\"marker\":{\"colorbar\":{\"outlinewidth\":0,\"ticks\":\"\"}}}],\"scattercarpet\":[{\"type\":\"scattercarpet\",\"marker\":{\"colorbar\":{\"outlinewidth\":0,\"ticks\":\"\"}}}],\"carpet\":[{\"aaxis\":{\"endlinecolor\":\"#2a3f5f\",\"gridcolor\":\"white\",\"linecolor\":\"white\",\"minorgridcolor\":\"white\",\"startlinecolor\":\"#2a3f5f\"},\"baxis\":{\"endlinecolor\":\"#2a3f5f\",\"gridcolor\":\"white\",\"linecolor\":\"white\",\"minorgridcolor\":\"white\",\"startlinecolor\":\"#2a3f5f\"},\"type\":\"carpet\"}],\"table\":[{\"cells\":{\"fill\":{\"color\":\"#EBF0F8\"},\"line\":{\"color\":\"white\"}},\"header\":{\"fill\":{\"color\":\"#C8D4E3\"},\"line\":{\"color\":\"white\"}},\"type\":\"table\"}],\"barpolar\":[{\"marker\":{\"line\":{\"color\":\"#E5ECF6\",\"width\":0.5},\"pattern\":{\"fillmode\":\"overlay\",\"size\":10,\"solidity\":0.2}},\"type\":\"barpolar\"}],\"pie\":[{\"automargin\":true,\"type\":\"pie\"}]},\"layout\":{\"autotypenumbers\":\"strict\",\"colorway\":[\"#636efa\",\"#EF553B\",\"#00cc96\",\"#ab63fa\",\"#FFA15A\",\"#19d3f3\",\"#FF6692\",\"#B6E880\",\"#FF97FF\",\"#FECB52\"],\"font\":{\"color\":\"#2a3f5f\"},\"hovermode\":\"closest\",\"hoverlabel\":{\"align\":\"left\"},\"paper_bgcolor\":\"white\",\"plot_bgcolor\":\"#E5ECF6\",\"polar\":{\"bgcolor\":\"#E5ECF6\",\"angularaxis\":{\"gridcolor\":\"white\",\"linecolor\":\"white\",\"ticks\":\"\"},\"radialaxis\":{\"gridcolor\":\"white\",\"linecolor\":\"white\",\"ticks\":\"\"}},\"ternary\":{\"bgcolor\":\"#E5ECF6\",\"aaxis\":{\"gridcolor\":\"white\",\"linecolor\":\"white\",\"ticks\":\"\"},\"baxis\":{\"gridcolor\":\"white\",\"linecolor\":\"white\",\"ticks\":\"\"},\"caxis\":{\"gridcolor\":\"white\",\"linecolor\":\"white\",\"ticks\":\"\"}},\"coloraxis\":{\"colorbar\":{\"outlinewidth\":0,\"ticks\":\"\"}},\"colorscale\":{\"sequential\":[[0.0,\"#0d0887\"],[0.1111111111111111,\"#46039f\"],[0.2222222222222222,\"#7201a8\"],[0.3333333333333333,\"#9c179e\"],[0.4444444444444444,\"#bd3786\"],[0.5555555555555556,\"#d8576b\"],[0.6666666666666666,\"#ed7953\"],[0.7777777777777778,\"#fb9f3a\"],[0.8888888888888888,\"#fdca26\"],[1.0,\"#f0f921\"]],\"sequentialminus\":[[0.0,\"#0d0887\"],[0.1111111111111111,\"#46039f\"],[0.2222222222222222,\"#7201a8\"],[0.3333333333333333,\"#9c179e\"],[0.4444444444444444,\"#bd3786\"],[0.5555555555555556,\"#d8576b\"],[0.6666666666666666,\"#ed7953\"],[0.7777777777777778,\"#fb9f3a\"],[0.8888888888888888,\"#fdca26\"],[1.0,\"#f0f921\"]],\"diverging\":[[0,\"#8e0152\"],[0.1,\"#c51b7d\"],[0.2,\"#de77ae\"],[0.3,\"#f1b6da\"],[0.4,\"#fde0ef\"],[0.5,\"#f7f7f7\"],[0.6,\"#e6f5d0\"],[0.7,\"#b8e186\"],[0.8,\"#7fbc41\"],[0.9,\"#4d9221\"],[1,\"#276419\"]]},\"xaxis\":{\"gridcolor\":\"white\",\"linecolor\":\"white\",\"ticks\":\"\",\"title\":{\"standoff\":15},\"zerolinecolor\":\"white\",\"automargin\":true,\"zerolinewidth\":2},\"yaxis\":{\"gridcolor\":\"white\",\"linecolor\":\"white\",\"ticks\":\"\",\"title\":{\"standoff\":15},\"zerolinecolor\":\"white\",\"automargin\":true,\"zerolinewidth\":2},\"scene\":{\"xaxis\":{\"backgroundcolor\":\"#E5ECF6\",\"gridcolor\":\"white\",\"linecolor\":\"white\",\"showbackground\":true,\"ticks\":\"\",\"zerolinecolor\":\"white\",\"gridwidth\":2},\"yaxis\":{\"backgroundcolor\":\"#E5ECF6\",\"gridcolor\":\"white\",\"linecolor\":\"white\",\"showbackground\":true,\"ticks\":\"\",\"zerolinecolor\":\"white\",\"gridwidth\":2},\"zaxis\":{\"backgroundcolor\":\"#E5ECF6\",\"gridcolor\":\"white\",\"linecolor\":\"white\",\"showbackground\":true,\"ticks\":\"\",\"zerolinecolor\":\"white\",\"gridwidth\":2}},\"shapedefaults\":{\"line\":{\"color\":\"#2a3f5f\"}},\"annotationdefaults\":{\"arrowcolor\":\"#2a3f5f\",\"arrowhead\":0,\"arrowwidth\":1},\"geo\":{\"bgcolor\":\"white\",\"landcolor\":\"#E5ECF6\",\"subunitcolor\":\"white\",\"showland\":true,\"showlakes\":true,\"lakecolor\":\"white\"},\"title\":{\"x\":0.05},\"mapbox\":{\"style\":\"light\"}}},\"title\":{\"text\":\"Distribution of articles month-wise\",\"y\":0.9,\"x\":0.5,\"xanchor\":\"center\",\"yanchor\":\"top\"},\"xaxis\":{\"title\":{\"text\":\"Month\"}},\"yaxis\":{\"title\":{\"text\":\"Number of articles\"}},\"width\":500,\"height\":500},                        {\"responsive\": true}                    ).then(function(){\n",
       "                            \n",
       "var gd = document.getElementById('16067ee8-25eb-4f0d-845d-6b23d908a8dc');\n",
       "var x = new MutationObserver(function (mutations, observer) {{\n",
       "        var display = window.getComputedStyle(gd).display;\n",
       "        if (!display || display === 'none') {{\n",
       "            console.log([gd, 'removed!']);\n",
       "            Plotly.purge(gd);\n",
       "            observer.disconnect();\n",
       "        }}\n",
       "}});\n",
       "\n",
       "// Listen for the removal of the full notebook cells\n",
       "var notebookContainer = gd.closest('#notebook-container');\n",
       "if (notebookContainer) {{\n",
       "    x.observe(notebookContainer, {childList: true});\n",
       "}}\n",
       "\n",
       "// Listen for the clearing of the current output cell\n",
       "var outputEl = gd.closest('.output');\n",
       "if (outputEl) {{\n",
       "    x.observe(outputEl, {childList: true});\n",
       "}}\n",
       "\n",
       "                        })                };                });            </script>        </div>"
      ]
     },
     "metadata": {},
     "output_type": "display_data"
    }
   ],
   "source": [
    "fig = go.Figure([go.Bar(x=news_articles_per_month.index.strftime(\"%b\"), y=news_articles_per_month)])\n",
    "fig['layout'].update(title={\"text\" : 'Distribution of articles month-wise','y':0.9,'x':0.5,'xanchor': 'center','yanchor': 'top'}, xaxis_title=\"Month\",yaxis_title=\"Number of articles\")\n",
    "fig.update_layout(width=500,height=500)\n",
    "fig"
   ]
  },
  {
   "cell_type": "markdown",
   "metadata": {},
   "source": [
    "From the bar chart, we can observe that **March** month has **highest** number of articles then **August** and so on.  "
   ]
  },
  {
   "cell_type": "markdown",
   "metadata": {},
   "source": [
    "By Data processing in Step 2, we get a subset of original dataset which has different index labels so let's make the indices uniform ranging from 0 to total number of articles. "
   ]
  },
  {
   "cell_type": "code",
   "execution_count": 35,
   "metadata": {
    "execution": {
     "iopub.execute_input": "2022-10-11T11:04:12.542402Z",
     "iopub.status.busy": "2022-10-11T11:04:12.541998Z",
     "iopub.status.idle": "2022-10-11T11:04:12.550675Z",
     "shell.execute_reply": "2022-10-11T11:04:12.548732Z",
     "shell.execute_reply.started": "2022-10-11T11:04:12.542335Z"
    }
   },
   "outputs": [],
   "source": [
    "news_articles.index = range(news_articles.shape[0])"
   ]
  },
  {
   "cell_type": "code",
   "execution_count": 36,
   "metadata": {
    "execution": {
     "iopub.execute_input": "2022-10-11T11:04:12.553312Z",
     "iopub.status.busy": "2022-10-11T11:04:12.552842Z",
     "iopub.status.idle": "2022-10-11T11:04:12.668783Z",
     "shell.execute_reply": "2022-10-11T11:04:12.667628Z",
     "shell.execute_reply.started": "2022-10-11T11:04:12.553244Z"
    }
   },
   "outputs": [],
   "source": [
    "# Adding a new column containing both day of the week and month, it will be required later while recommending based on day of the week and month\n",
    "news_articles[\"day and month\"] = news_articles[\"date\"].dt.strftime(\"%a\") + \"_\" + news_articles[\"date\"].dt.strftime(\"%b\")"
   ]
  },
  {
   "cell_type": "markdown",
   "metadata": {},
   "source": [
    "Since after text preprocessing the original headlines will be modified and it doesn't make sense to recommend articles by displaying modified headlines so let's copy the dataset into some other dataset and perform text preprocessing on the later."
   ]
  },
  {
   "cell_type": "code",
   "execution_count": 37,
   "metadata": {
    "execution": {
     "iopub.execute_input": "2022-10-11T11:04:12.671244Z",
     "iopub.status.busy": "2022-10-11T11:04:12.670873Z",
     "iopub.status.idle": "2022-10-11T11:04:12.693767Z",
     "shell.execute_reply": "2022-10-11T11:04:12.691896Z",
     "shell.execute_reply.started": "2022-10-11T11:04:12.671176Z"
    }
   },
   "outputs": [],
   "source": [
    "news_articles_temp = news_articles.copy()"
   ]
  },
  {
   "cell_type": "markdown",
   "metadata": {},
   "source": [
    "## 5. Text Preprocessing"
   ]
  },
  {
   "cell_type": "markdown",
   "metadata": {},
   "source": [
    "### 5.a Stopwords removal"
   ]
  },
  {
   "cell_type": "markdown",
   "metadata": {},
   "source": [
    "Stop words are not much helpful in analyis and also their inclusion consumes much time during processing so let's remove these. "
   ]
  },
  {
   "cell_type": "code",
   "execution_count": 43,
   "metadata": {
    "execution": {
     "iopub.execute_input": "2022-10-11T11:04:12.696473Z",
     "iopub.status.busy": "2022-10-11T11:04:12.696026Z",
     "iopub.status.idle": "2022-10-11T11:04:12.709675Z",
     "shell.execute_reply": "2022-10-11T11:04:12.708325Z",
     "shell.execute_reply.started": "2022-10-11T11:04:12.696385Z"
    }
   },
   "outputs": [],
   "source": [
    "stop_words = set(stopwords.words('english'))"
   ]
  },
  {
   "cell_type": "code",
   "execution_count": 45,
   "metadata": {
    "execution": {
     "iopub.execute_input": "2022-10-11T11:04:12.712187Z",
     "iopub.status.busy": "2022-10-11T11:04:12.711804Z",
     "iopub.status.idle": "2022-10-11T11:04:13.189068Z",
     "shell.execute_reply": "2022-10-11T11:04:13.18787Z",
     "shell.execute_reply.started": "2022-10-11T11:04:12.712126Z"
    }
   },
   "outputs": [
    {
     "name": "stdout",
     "output_type": "stream",
     "text": [
      "0\n",
      "1000\n"
     ]
    }
   ],
   "source": [
    "for j in range(len(news_articles_temp[\"headline\"])):\n",
    "    string = \"\"\n",
    "    for word in news_articles_temp[\"headline\"][j].split():\n",
    "        word = (\"\".join(i for i in word if i.isalnum()))\n",
    "        word = word.lower()\n",
    "        if not word in stop_words:\n",
    "          string += word + \" \"  \n",
    "    if(j%1000==0):\n",
    "      print(j)           # To track number of records processed\n",
    "    news_articles_temp.at[j,\"headline\"] = string.strip()"
   ]
  },
  {
   "cell_type": "markdown",
   "metadata": {},
   "source": [
    "### 5.b Lemmatization"
   ]
  },
  {
   "cell_type": "markdown",
   "metadata": {},
   "source": [
    "Let's find the base form(lemma) of words to consider different inflections of a word same as lemma."
   ]
  },
  {
   "cell_type": "code",
   "execution_count": 49,
   "metadata": {
    "execution": {
     "iopub.execute_input": "2022-10-11T11:04:13.191306Z",
     "iopub.status.busy": "2022-10-11T11:04:13.190931Z",
     "iopub.status.idle": "2022-10-11T11:04:13.197062Z",
     "shell.execute_reply": "2022-10-11T11:04:13.195755Z",
     "shell.execute_reply.started": "2022-10-11T11:04:13.191241Z"
    }
   },
   "outputs": [],
   "source": [
    "wn = WordNetLemmatizer()"
   ]
  },
  {
   "cell_type": "code",
   "execution_count": 50,
   "metadata": {
    "execution": {
     "iopub.execute_input": "2022-10-11T11:04:13.199507Z",
     "iopub.status.busy": "2022-10-11T11:04:13.199099Z",
     "iopub.status.idle": "2022-10-11T11:04:17.899663Z",
     "shell.execute_reply": "2022-10-11T11:04:17.898489Z",
     "shell.execute_reply.started": "2022-10-11T11:04:13.199435Z"
    }
   },
   "outputs": [],
   "source": [
    "for j in range(len(news_articles_temp[\"headline\"])):\n",
    "    string = \"\"\n",
    "    for w in word_tokenize(news_articles_temp[\"headline\"][j]):\n",
    "        string += wn.lemmatize(w,pos = \"v\") + \" \"\n",
    "    news_articles_temp.at[j, \"headline\"] = string.strip()\n",
    "       "
   ]
  },
  {
   "cell_type": "markdown",
   "metadata": {},
   "source": [
    "## 6. Headline based similarity on new articles"
   ]
  },
  {
   "cell_type": "markdown",
   "metadata": {},
   "source": [
    "Generally, we assess **similarity** based on **distance**. If the **distance** is minimum then high **similarity** and if it is maximum then low **similarity**.\n",
    "To calculate the **distance**, we need to represent the headline as a **d-dimensional** vector. Then we can find out the **similarity** based on the **distance** between vectors.\n",
    "\n",
    "There are multiple methods to represent a **text** as **d-dimensional** vector like **Bag of words**, **TF-IDF method**, **Word2Vec embedding** etc. Each method has its own advantages and disadvantages. \n",
    "\n",
    "Let's see the feature representation of headline through all the methods one by one."
   ]
  },
  {
   "cell_type": "markdown",
   "metadata": {},
   "source": [
    "### 6.a Using Bag of Words method"
   ]
  },
  {
   "cell_type": "markdown",
   "metadata": {},
   "source": [
    "A **Bag of Words(BoW)** method represents the occurence of words within a **document**. Here, each headline can be considered as a **document** and set of all headlines form a **corpus**.\n",
    "\n",
    "Using **BoW** approach, each **document** is represented by a **d-dimensional** vector, where **d** is total number of **unique words** in the corpus. The set of such unique words forms the **Vocabulary**."
   ]
  },
  {
   "cell_type": "code",
   "execution_count": 52,
   "metadata": {
    "execution": {
     "iopub.execute_input": "2022-10-11T11:04:17.902304Z",
     "iopub.status.busy": "2022-10-11T11:04:17.901854Z",
     "iopub.status.idle": "2022-10-11T11:04:18.044682Z",
     "shell.execute_reply": "2022-10-11T11:04:18.043698Z",
     "shell.execute_reply.started": "2022-10-11T11:04:17.902224Z"
    }
   },
   "outputs": [],
   "source": [
    "headline_vectorizer = CountVectorizer()\n",
    "headline_features   = headline_vectorizer.fit_transform(news_articles_temp['headline'])"
   ]
  },
  {
   "cell_type": "code",
   "execution_count": 53,
   "metadata": {
    "execution": {
     "iopub.execute_input": "2022-10-11T11:04:18.046733Z",
     "iopub.status.busy": "2022-10-11T11:04:18.046419Z",
     "iopub.status.idle": "2022-10-11T11:04:18.05363Z",
     "shell.execute_reply": "2022-10-11T11:04:18.052602Z",
     "shell.execute_reply.started": "2022-10-11T11:04:18.046681Z"
    }
   },
   "outputs": [
    {
     "data": {
      "text/plain": [
       "(1347, 4299)"
      ]
     },
     "execution_count": 53,
     "metadata": {},
     "output_type": "execute_result"
    }
   ],
   "source": [
    "headline_features.get_shape()"
   ]
  },
  {
   "cell_type": "markdown",
   "metadata": {},
   "source": [
    "The output **BoW matrix**(headline_features) is a sparse matrix."
   ]
  },
  {
   "cell_type": "code",
   "execution_count": 54,
   "metadata": {
    "execution": {
     "iopub.execute_input": "2022-10-11T11:04:18.05616Z",
     "iopub.status.busy": "2022-10-11T11:04:18.055792Z",
     "iopub.status.idle": "2022-10-11T11:04:18.066335Z",
     "shell.execute_reply": "2022-10-11T11:04:18.064723Z",
     "shell.execute_reply.started": "2022-10-11T11:04:18.056089Z"
    }
   },
   "outputs": [
    {
     "name": "stderr",
     "output_type": "stream",
     "text": [
      "C:\\Users\\pc\\AppData\\Local\\Temp\\ipykernel_16140\\2047283190.py:1: FutureWarning:\n",
      "\n",
      "Passing a negative integer is deprecated in version 1.0 and will not be supported in future version. Instead, use None to not limit the column width.\n",
      "\n"
     ]
    }
   ],
   "source": [
    "pd.set_option('display.max_colwidth', -1)  # To display a very long headline completely"
   ]
  },
  {
   "cell_type": "code",
   "execution_count": 60,
   "metadata": {
    "execution": {
     "iopub.execute_input": "2022-10-11T11:04:18.068408Z",
     "iopub.status.busy": "2022-10-11T11:04:18.068041Z",
     "iopub.status.idle": "2022-10-11T11:04:18.101326Z",
     "shell.execute_reply": "2022-10-11T11:04:18.100463Z",
     "shell.execute_reply.started": "2022-10-11T11:04:18.068335Z"
    }
   },
   "outputs": [
    {
     "name": "stdout",
     "output_type": "stream",
     "text": [
      "============================== Queried article details ==============================\n",
      "headline :  UN To Scale Up Humanitarian Operations In Ukraine Following Russia's Invasion\n",
      "\n",
      " ========================= Recommended articles :  =======================\n"
     ]
    },
    {
     "data": {
      "text/html": [
       "<div>\n",
       "<style scoped>\n",
       "    .dataframe tbody tr th:only-of-type {\n",
       "        vertical-align: middle;\n",
       "    }\n",
       "\n",
       "    .dataframe tbody tr th {\n",
       "        vertical-align: top;\n",
       "    }\n",
       "\n",
       "    .dataframe thead th {\n",
       "        text-align: right;\n",
       "    }\n",
       "</style>\n",
       "<table border=\"1\" class=\"dataframe\">\n",
       "  <thead>\n",
       "    <tr style=\"text-align: right;\">\n",
       "      <th></th>\n",
       "      <th>publish_date</th>\n",
       "      <th>headline</th>\n",
       "      <th>Euclidean similarity with the queried article</th>\n",
       "    </tr>\n",
       "  </thead>\n",
       "  <tbody>\n",
       "    <tr>\n",
       "      <th>1</th>\n",
       "      <td>2022-03-07</td>\n",
       "      <td>Netflix Suspends Service In Russia Over Ukraine Invasion</td>\n",
       "      <td>3.162278</td>\n",
       "    </tr>\n",
       "    <tr>\n",
       "      <th>2</th>\n",
       "      <td>2022-02-28</td>\n",
       "      <td>UN General Assembly, Security Council To Hold Meetings About Russia's Invasion Of Ukraine</td>\n",
       "      <td>3.162278</td>\n",
       "    </tr>\n",
       "    <tr>\n",
       "      <th>3</th>\n",
       "      <td>2022-07-27</td>\n",
       "      <td>Should I Take My Cat Out In This Heat?</td>\n",
       "      <td>3.316625</td>\n",
       "    </tr>\n",
       "    <tr>\n",
       "      <th>4</th>\n",
       "      <td>2022-07-18</td>\n",
       "      <td>Republicans Begin To Sour On Aid To Ukraine</td>\n",
       "      <td>3.316625</td>\n",
       "    </tr>\n",
       "    <tr>\n",
       "      <th>5</th>\n",
       "      <td>2022-01-30</td>\n",
       "      <td>7 Happiness Hacks You Can Do On A Commute</td>\n",
       "      <td>3.316625</td>\n",
       "    </tr>\n",
       "    <tr>\n",
       "      <th>6</th>\n",
       "      <td>2022-03-15</td>\n",
       "      <td>UN Says Women Pay Highest Price In Conflict, Now In Ukraine</td>\n",
       "      <td>3.464102</td>\n",
       "    </tr>\n",
       "    <tr>\n",
       "      <th>7</th>\n",
       "      <td>2022-02-03</td>\n",
       "      <td>How To Salvage Your Vacation If It Rains Most Of The Time</td>\n",
       "      <td>3.464102</td>\n",
       "    </tr>\n",
       "    <tr>\n",
       "      <th>8</th>\n",
       "      <td>2022-03-15</td>\n",
       "      <td>Biden To Travel To Europe For NATO Summit On Russia’s War On Ukraine</td>\n",
       "      <td>3.464102</td>\n",
       "    </tr>\n",
       "    <tr>\n",
       "      <th>9</th>\n",
       "      <td>2022-01-30</td>\n",
       "      <td>U.S. And Russia Square Off At UN Security Council</td>\n",
       "      <td>3.464102</td>\n",
       "    </tr>\n",
       "    <tr>\n",
       "      <th>10</th>\n",
       "      <td>2022-04-18</td>\n",
       "      <td>Zelenskyy: Russian Offensive In Eastern Ukraine Has Begun</td>\n",
       "      <td>3.464102</td>\n",
       "    </tr>\n",
       "  </tbody>\n",
       "</table>\n",
       "</div>"
      ],
      "text/plain": [
       "   publish_date  \\\n",
       "1  2022-03-07     \n",
       "2  2022-02-28     \n",
       "3  2022-07-27     \n",
       "4  2022-07-18     \n",
       "5  2022-01-30     \n",
       "6  2022-03-15     \n",
       "7  2022-02-03     \n",
       "8  2022-03-15     \n",
       "9  2022-01-30     \n",
       "10 2022-04-18     \n",
       "\n",
       "                                                                                     headline  \\\n",
       "1   Netflix Suspends Service In Russia Over Ukraine Invasion                                    \n",
       "2   UN General Assembly, Security Council To Hold Meetings About Russia's Invasion Of Ukraine   \n",
       "3   Should I Take My Cat Out In This Heat?                                                      \n",
       "4   Republicans Begin To Sour On Aid To Ukraine                                                 \n",
       "5   7 Happiness Hacks You Can Do On A Commute                                                   \n",
       "6   UN Says Women Pay Highest Price In Conflict, Now In Ukraine                                 \n",
       "7   How To Salvage Your Vacation If It Rains Most Of The Time                                   \n",
       "8   Biden To Travel To Europe For NATO Summit On Russia’s War On Ukraine                        \n",
       "9   U.S. And Russia Square Off At UN Security Council                                           \n",
       "10  Zelenskyy: Russian Offensive In Eastern Ukraine Has Begun                                   \n",
       "\n",
       "    Euclidean similarity with the queried article  \n",
       "1   3.162278                                       \n",
       "2   3.162278                                       \n",
       "3   3.316625                                       \n",
       "4   3.316625                                       \n",
       "5   3.316625                                       \n",
       "6   3.464102                                       \n",
       "7   3.464102                                       \n",
       "8   3.464102                                       \n",
       "9   3.464102                                       \n",
       "10  3.464102                                       "
      ]
     },
     "execution_count": 60,
     "metadata": {},
     "output_type": "execute_result"
    }
   ],
   "source": [
    "def bag_of_words_based_model(row_index, num_similar_items):\n",
    "    couple_dist = pairwise_distances(headline_features,headline_features[row_index],metric='euclidean')\n",
    "    indices = np.argsort(couple_dist.ravel())[0:num_similar_items]\n",
    "    df = pd.DataFrame({'publish_date': news_articles['date'][indices].values,\n",
    "               'headline':news_articles['headline'][indices].values,\n",
    "                'Euclidean similarity with the queried article': couple_dist[indices].ravel()})\n",
    "    print(\"=\"*30,\"Queried article details\",\"=\"*30)\n",
    "    print('headline : ',news_articles['headline'][indices[0]])\n",
    "    print(\"\\n\",\"=\"*25,\"Recommended articles : \",\"=\"*23)\n",
    "    #return df.iloc[1:,1]\n",
    "    return df.iloc[1:,]\n",
    "\n",
    "bag_of_words_based_model(125, 11) # Change the row index for any other queried article"
   ]
  },
  {
   "cell_type": "code",
   "execution_count": 63,
   "metadata": {},
   "outputs": [
    {
     "name": "stdout",
     "output_type": "stream",
     "text": [
      "============================== Queried article details ==============================\n",
      "headline :  ‘The Batman’ Gives Movie Theaters A New Hope With Big Launch\n",
      "\n",
      " ========================= Recommended articles :  =======================\n"
     ]
    },
    {
     "data": {
      "text/html": [
       "<div>\n",
       "<style scoped>\n",
       "    .dataframe tbody tr th:only-of-type {\n",
       "        vertical-align: middle;\n",
       "    }\n",
       "\n",
       "    .dataframe tbody tr th {\n",
       "        vertical-align: top;\n",
       "    }\n",
       "\n",
       "    .dataframe thead th {\n",
       "        text-align: right;\n",
       "    }\n",
       "</style>\n",
       "<table border=\"1\" class=\"dataframe\">\n",
       "  <thead>\n",
       "    <tr style=\"text-align: right;\">\n",
       "      <th></th>\n",
       "      <th>publish_date</th>\n",
       "      <th>headline</th>\n",
       "      <th>Euclidean similarity with the queried article</th>\n",
       "    </tr>\n",
       "  </thead>\n",
       "  <tbody>\n",
       "    <tr>\n",
       "      <th>1</th>\n",
       "      <td>2022-03-07</td>\n",
       "      <td>Former NY Gov. Andrew Cuomo Rips 'Cancel Culture,' Hints At Political Comeback</td>\n",
       "      <td>0.0</td>\n",
       "    </tr>\n",
       "    <tr>\n",
       "      <th>2</th>\n",
       "      <td>2022-06-28</td>\n",
       "      <td>Former Nazi Guard, 101, Jailed In Germany For Aiding Murder</td>\n",
       "      <td>0.0</td>\n",
       "    </tr>\n",
       "    <tr>\n",
       "      <th>3</th>\n",
       "      <td>2022-09-02</td>\n",
       "      <td>Former White House Counsel Pat Cipollone To Testify Before Grand Jury: Reports</td>\n",
       "      <td>0.0</td>\n",
       "    </tr>\n",
       "    <tr>\n",
       "      <th>4</th>\n",
       "      <td>2022-01-10</td>\n",
       "      <td>Fox News Host Has Some Blunt Talk For Trump: 'You Have To Learn To Lose'</td>\n",
       "      <td>0.0</td>\n",
       "    </tr>\n",
       "    <tr>\n",
       "      <th>5</th>\n",
       "      <td>2022-04-08</td>\n",
       "      <td>Fox News Reporter Feels ‘Damn Lucky’ After Losing Limbs In Ukraine Attack</td>\n",
       "      <td>0.0</td>\n",
       "    </tr>\n",
       "    <tr>\n",
       "      <th>6</th>\n",
       "      <td>2022-03-24</td>\n",
       "      <td>Fox News' Ketanji Brown Jackson Coverage Melts 'Daily Show' Comedian's Mind</td>\n",
       "      <td>0.0</td>\n",
       "    </tr>\n",
       "    <tr>\n",
       "      <th>7</th>\n",
       "      <td>2022-08-05</td>\n",
       "      <td>French Scientist Trolls Twitter By Claiming Chorizo Slice Is Actually A Distant Star</td>\n",
       "      <td>0.0</td>\n",
       "    </tr>\n",
       "    <tr>\n",
       "      <th>8</th>\n",
       "      <td>2022-08-23</td>\n",
       "      <td>Former Louisville Cop Pleads Guilty In Breonna Taylor Case</td>\n",
       "      <td>0.0</td>\n",
       "    </tr>\n",
       "    <tr>\n",
       "      <th>9</th>\n",
       "      <td>2022-09-03</td>\n",
       "      <td>Fuel Leak Ruins NASA's 2nd Shot At Launching New Moon Rocket</td>\n",
       "      <td>0.0</td>\n",
       "    </tr>\n",
       "    <tr>\n",
       "      <th>10</th>\n",
       "      <td>2022-05-08</td>\n",
       "      <td>G7 Pledges To Phase Out Import Of Russian Oil</td>\n",
       "      <td>0.0</td>\n",
       "    </tr>\n",
       "  </tbody>\n",
       "</table>\n",
       "</div>"
      ],
      "text/plain": [
       "   publish_date  \\\n",
       "1  2022-03-07     \n",
       "2  2022-06-28     \n",
       "3  2022-09-02     \n",
       "4  2022-01-10     \n",
       "5  2022-04-08     \n",
       "6  2022-03-24     \n",
       "7  2022-08-05     \n",
       "8  2022-08-23     \n",
       "9  2022-09-03     \n",
       "10 2022-05-08     \n",
       "\n",
       "                                                                                headline  \\\n",
       "1   Former NY Gov. Andrew Cuomo Rips 'Cancel Culture,' Hints At Political Comeback         \n",
       "2   Former Nazi Guard, 101, Jailed In Germany For Aiding Murder                            \n",
       "3   Former White House Counsel Pat Cipollone To Testify Before Grand Jury: Reports         \n",
       "4   Fox News Host Has Some Blunt Talk For Trump: 'You Have To Learn To Lose'               \n",
       "5   Fox News Reporter Feels ‘Damn Lucky’ After Losing Limbs In Ukraine Attack              \n",
       "6   Fox News' Ketanji Brown Jackson Coverage Melts 'Daily Show' Comedian's Mind            \n",
       "7   French Scientist Trolls Twitter By Claiming Chorizo Slice Is Actually A Distant Star   \n",
       "8   Former Louisville Cop Pleads Guilty In Breonna Taylor Case                             \n",
       "9   Fuel Leak Ruins NASA's 2nd Shot At Launching New Moon Rocket                           \n",
       "10  G7 Pledges To Phase Out Import Of Russian Oil                                          \n",
       "\n",
       "    Euclidean similarity with the queried article  \n",
       "1   0.0                                            \n",
       "2   0.0                                            \n",
       "3   0.0                                            \n",
       "4   0.0                                            \n",
       "5   0.0                                            \n",
       "6   0.0                                            \n",
       "7   0.0                                            \n",
       "8   0.0                                            \n",
       "9   0.0                                            \n",
       "10  0.0                                            "
      ]
     },
     "execution_count": 63,
     "metadata": {},
     "output_type": "execute_result"
    }
   ],
   "source": [
    "def bag_of_words_based_model(row_index, num_similar_items):\n",
    "    couple_dist = cosine_similarity(headline_features,headline_features[row_index])\n",
    "    indices = np.argsort(couple_dist.ravel())[0:num_similar_items]\n",
    "    df = pd.DataFrame({'publish_date': news_articles['date'][indices].values,\n",
    "               'headline':news_articles['headline'][indices].values,\n",
    "                'Cosine similarity with the queried article': couple_dist[indices].ravel()})\n",
    "    print(\"=\"*30,\"Queried article details\",\"=\"*30)\n",
    "    print('headline : ',news_articles['headline'][indices[0]])\n",
    "    print(\"\\n\",\"=\"*25,\"Recommended articles : \",\"=\"*23)\n",
    "    #return df.iloc[1:,1]\n",
    "    return df.iloc[1:,]\n",
    "\n",
    "bag_of_words_based_model(125, 11) # Change the row index for any other queried article"
   ]
  },
  {
   "cell_type": "markdown",
   "metadata": {},
   "source": [
    "Above function recommends **10 similar** articles to the **queried**(read) article based on the headline. It accepts two arguments - index of already read artile and the total number of articles to be recommended.\n",
    "\n",
    "Based on the **Euclidean distance** it finds out 10 nearest neighbors and recommends. \n",
    "\n",
    "**Disadvantages**\n",
    "1. It gives very low **importance** to less frequently observed words in the corpus. Few words from the queried article like \"employer\", \"flip\", \"fire\" appear less frequently in the entire corpus so **BoW** method does not recommend any article whose headline contains these words. Since **trump** is commonly observed word in the corpus so it is recommending the articles with headline containing \"trump\".   \n",
    "2. **BoW** method doesn't preserve the order of words.\n",
    "\n",
    "To overcome the first disadvantage we use **TF-IDF** method for feature representation. \n"
   ]
  },
  {
   "cell_type": "code",
   "execution_count": 67,
   "metadata": {},
   "outputs": [
    {
     "name": "stdout",
     "output_type": "stream",
     "text": [
      "============================== Queried article details ==============================\n",
      "headline :  UN To Scale Up Humanitarian Operations In Ukraine Following Russia's Invasion\n",
      "\n",
      " ========================= Recommended articles :  =======================\n"
     ]
    },
    {
     "data": {
      "text/html": [
       "<div>\n",
       "<style scoped>\n",
       "    .dataframe tbody tr th:only-of-type {\n",
       "        vertical-align: middle;\n",
       "    }\n",
       "\n",
       "    .dataframe tbody tr th {\n",
       "        vertical-align: top;\n",
       "    }\n",
       "\n",
       "    .dataframe thead th {\n",
       "        text-align: right;\n",
       "    }\n",
       "</style>\n",
       "<table border=\"1\" class=\"dataframe\">\n",
       "  <thead>\n",
       "    <tr style=\"text-align: right;\">\n",
       "      <th></th>\n",
       "      <th>publish_date</th>\n",
       "      <th>headline</th>\n",
       "      <th>Manhattan with the queried article</th>\n",
       "    </tr>\n",
       "  </thead>\n",
       "  <tbody>\n",
       "    <tr>\n",
       "      <th>1</th>\n",
       "      <td>2022-03-07</td>\n",
       "      <td>Netflix Suspends Service In Russia Over Ukraine Invasion</td>\n",
       "      <td>10.0</td>\n",
       "    </tr>\n",
       "    <tr>\n",
       "      <th>2</th>\n",
       "      <td>2022-02-28</td>\n",
       "      <td>UN General Assembly, Security Council To Hold Meetings About Russia's Invasion Of Ukraine</td>\n",
       "      <td>10.0</td>\n",
       "    </tr>\n",
       "    <tr>\n",
       "      <th>3</th>\n",
       "      <td>2022-07-18</td>\n",
       "      <td>Republicans Begin To Sour On Aid To Ukraine</td>\n",
       "      <td>11.0</td>\n",
       "    </tr>\n",
       "    <tr>\n",
       "      <th>4</th>\n",
       "      <td>2022-01-30</td>\n",
       "      <td>7 Happiness Hacks You Can Do On A Commute</td>\n",
       "      <td>11.0</td>\n",
       "    </tr>\n",
       "    <tr>\n",
       "      <th>5</th>\n",
       "      <td>2022-07-27</td>\n",
       "      <td>Should I Take My Cat Out In This Heat?</td>\n",
       "      <td>11.0</td>\n",
       "    </tr>\n",
       "    <tr>\n",
       "      <th>6</th>\n",
       "      <td>2022-01-20</td>\n",
       "      <td>5 Hacks To Try If You Only Have A Minute To Destress</td>\n",
       "      <td>12.0</td>\n",
       "    </tr>\n",
       "    <tr>\n",
       "      <th>7</th>\n",
       "      <td>2022-03-15</td>\n",
       "      <td>Biden To Travel To Europe For NATO Summit On Russia’s War On Ukraine</td>\n",
       "      <td>12.0</td>\n",
       "    </tr>\n",
       "    <tr>\n",
       "      <th>8</th>\n",
       "      <td>2022-02-28</td>\n",
       "      <td>More Than 500,000 Have Fled Ukraine Since Russia Invaded, UN Reports</td>\n",
       "      <td>12.0</td>\n",
       "    </tr>\n",
       "    <tr>\n",
       "      <th>9</th>\n",
       "      <td>2022-05-20</td>\n",
       "      <td>Monkeypox: What You Need To Know About The Virus</td>\n",
       "      <td>12.0</td>\n",
       "    </tr>\n",
       "    <tr>\n",
       "      <th>10</th>\n",
       "      <td>2022-04-18</td>\n",
       "      <td>Zelenskyy: Russian Offensive In Eastern Ukraine Has Begun</td>\n",
       "      <td>12.0</td>\n",
       "    </tr>\n",
       "  </tbody>\n",
       "</table>\n",
       "</div>"
      ],
      "text/plain": [
       "   publish_date  \\\n",
       "1  2022-03-07     \n",
       "2  2022-02-28     \n",
       "3  2022-07-18     \n",
       "4  2022-01-30     \n",
       "5  2022-07-27     \n",
       "6  2022-01-20     \n",
       "7  2022-03-15     \n",
       "8  2022-02-28     \n",
       "9  2022-05-20     \n",
       "10 2022-04-18     \n",
       "\n",
       "                                                                                     headline  \\\n",
       "1   Netflix Suspends Service In Russia Over Ukraine Invasion                                    \n",
       "2   UN General Assembly, Security Council To Hold Meetings About Russia's Invasion Of Ukraine   \n",
       "3   Republicans Begin To Sour On Aid To Ukraine                                                 \n",
       "4   7 Happiness Hacks You Can Do On A Commute                                                   \n",
       "5   Should I Take My Cat Out In This Heat?                                                      \n",
       "6   5 Hacks To Try If You Only Have A Minute To Destress                                        \n",
       "7   Biden To Travel To Europe For NATO Summit On Russia’s War On Ukraine                        \n",
       "8   More Than 500,000 Have Fled Ukraine Since Russia Invaded, UN Reports                        \n",
       "9   Monkeypox: What You Need To Know About The Virus                                            \n",
       "10  Zelenskyy: Russian Offensive In Eastern Ukraine Has Begun                                   \n",
       "\n",
       "    Manhattan with the queried article  \n",
       "1   10.0                                \n",
       "2   10.0                                \n",
       "3   11.0                                \n",
       "4   11.0                                \n",
       "5   11.0                                \n",
       "6   12.0                                \n",
       "7   12.0                                \n",
       "8   12.0                                \n",
       "9   12.0                                \n",
       "10  12.0                                "
      ]
     },
     "execution_count": 67,
     "metadata": {},
     "output_type": "execute_result"
    }
   ],
   "source": [
    "def bag_of_words_based_model(row_index, num_similar_items):\n",
    "    couple_dist = manhattan_distances(headline_features,headline_features[row_index])\n",
    "    indices = np.argsort(couple_dist.ravel())[0:num_similar_items]\n",
    "    df = pd.DataFrame({'publish_date': news_articles['date'][indices].values,\n",
    "               'headline':news_articles['headline'][indices].values,\n",
    "                'Manhattan with the queried article': couple_dist[indices].ravel()})\n",
    "    print(\"=\"*30,\"Queried article details\",\"=\"*30)\n",
    "    print('headline : ',news_articles['headline'][indices[0]])\n",
    "    print(\"\\n\",\"=\"*25,\"Recommended articles : \",\"=\"*23)\n",
    "    #return df.iloc[1:,1]\n",
    "    return df.iloc[1:,]\n",
    "\n",
    "bag_of_words_based_model(125, 11) # Change the row index for any other queried article"
   ]
  },
  {
   "cell_type": "code",
   "execution_count": null,
   "metadata": {},
   "outputs": [],
   "source": [
    "###ML algo"
   ]
  },
  {
   "cell_type": "code",
   "execution_count": 101,
   "metadata": {},
   "outputs": [
    {
     "data": {
      "text/plain": [
       "12    388\n",
       "19    234\n",
       "6     230\n",
       "23    188\n",
       "15    71 \n",
       "3     37 \n",
       "7     26 \n",
       "21    23 \n",
       "4     22 \n",
       "8     17 \n",
       "11    15 \n",
       "16    15 \n",
       "2     15 \n",
       "20    15 \n",
       "1     12 \n",
       "17    7  \n",
       "14    7  \n",
       "10    7  \n",
       "22    5  \n",
       "9     4  \n",
       "0     4  \n",
       "13    2  \n",
       "5     2  \n",
       "18    1  \n",
       "Name: category, dtype: int64"
      ]
     },
     "metadata": {},
     "output_type": "display_data"
    }
   ],
   "source": [
    "news_articles1=news_articles\n",
    "display(news_articles1['category'].value_counts())\n",
    "#selected_cat=['POLITICS', 'ENTERTAINMENT', 'U.S. NEWS', 'WORLD NEWS']\n",
    "#data=news_articles1[['category','headline']][news_articles1['category'].isin(selected_cat)].reset_index(drop=True)\n"
   ]
  },
  {
   "cell_type": "code",
   "execution_count": 106,
   "metadata": {},
   "outputs": [
    {
     "data": {
      "text/plain": [
       "(1347, 7)"
      ]
     },
     "execution_count": 106,
     "metadata": {},
     "output_type": "execute_result"
    }
   ],
   "source": [
    "news_articles1.shape"
   ]
  },
  {
   "cell_type": "code",
   "execution_count": 107,
   "metadata": {},
   "outputs": [],
   "source": [
    "# map label to int\n",
    "\n",
    "class_names0=news_articles1['category'].unique().tolist()\n",
    "class_names=sorted(class_names0)\n",
    "N=list(range(len(class_names)))\n",
    "normal_mapping=dict(zip(class_names,N)) \n",
    "reverse_mapping=dict(zip(N,class_names))\n",
    "news_articles1['category']=news_articles1['category'].map(normal_mapping)"
   ]
  },
  {
   "cell_type": "code",
   "execution_count": 109,
   "metadata": {},
   "outputs": [
    {
     "data": {
      "text/plain": [
       "(1347, 7)"
      ]
     },
     "execution_count": 109,
     "metadata": {},
     "output_type": "execute_result"
    }
   ],
   "source": [
    "news_articles1.shape"
   ]
  },
  {
   "cell_type": "code",
   "execution_count": 110,
   "metadata": {},
   "outputs": [
    {
     "data": {
      "text/html": [
       "<div>\n",
       "<style scoped>\n",
       "    .dataframe tbody tr th:only-of-type {\n",
       "        vertical-align: middle;\n",
       "    }\n",
       "\n",
       "    .dataframe tbody tr th {\n",
       "        vertical-align: top;\n",
       "    }\n",
       "\n",
       "    .dataframe thead th {\n",
       "        text-align: right;\n",
       "    }\n",
       "</style>\n",
       "<table border=\"1\" class=\"dataframe\">\n",
       "  <thead>\n",
       "    <tr style=\"text-align: right;\">\n",
       "      <th></th>\n",
       "      <th>link</th>\n",
       "      <th>headline</th>\n",
       "      <th>category</th>\n",
       "      <th>short_description</th>\n",
       "      <th>authors</th>\n",
       "      <th>date</th>\n",
       "      <th>day and month</th>\n",
       "    </tr>\n",
       "  </thead>\n",
       "  <tbody>\n",
       "    <tr>\n",
       "      <th>0</th>\n",
       "      <td>https://www.huffpost.com/entry/the-batman-gives-movie-theaters-a-new-hope-with-big-launch_n_6224f08be4b042f866ef757c</td>\n",
       "      <td>‘The Batman’ Gives Movie Theaters A New Hope With Big Launch</td>\n",
       "      <td>6</td>\n",
       "      <td>“The Batman,” starring Robert Pattinson, took in $128.5 million in its box office debut over the weekend.</td>\n",
       "      <td>Lindsey Bahr, AP</td>\n",
       "      <td>2022-03-06</td>\n",
       "      <td>Sun_Mar</td>\n",
       "    </tr>\n",
       "    <tr>\n",
       "      <th>1</th>\n",
       "      <td>https://www.huffpost.com/entry/the-batman-still-no-1-crosses-300-million_n_62375be8e4b019fd812f26b3</td>\n",
       "      <td>‘The Batman,’ Still No. 1, Crosses $300 Million</td>\n",
       "      <td>6</td>\n",
       "      <td>“The Batman” is still going strong three weeks into its theatrical run, with a tight grip on the top spot at the box office.</td>\n",
       "      <td>Lindsey Bahr, AP</td>\n",
       "      <td>2022-03-20</td>\n",
       "      <td>Sun_Mar</td>\n",
       "    </tr>\n",
       "    <tr>\n",
       "      <th>2</th>\n",
       "      <td>https://www.huffpost.com/entry/stranger-things-surfer-boy-pizza-number-surprise_n_62cc65dae4b02e0ac917b846</td>\n",
       "      <td>‘Stranger Things’ Fans Who Call The Surfer Boy Pizza Number Will Get Gnarly Surprise</td>\n",
       "      <td>6</td>\n",
       "      <td>People who call the number featured on the side of Argyle’s truck are getting something way sweeter than a pineapple pizza topping.</td>\n",
       "      <td>Elyse Wanshel</td>\n",
       "      <td>2022-07-11</td>\n",
       "      <td>Mon_Jul</td>\n",
       "    </tr>\n",
       "    <tr>\n",
       "      <th>3</th>\n",
       "      <td>https://www.huffpost.com/entry/stranger-things-creators-admit-they-made-huge-continuity-error-in-season-4_n_629f8ba3e4b05fe694f94b72</td>\n",
       "      <td>‘Stranger Things’ Creators Admit They Made Huge Continuity Error In Season 4</td>\n",
       "      <td>6</td>\n",
       "      <td>The Duffer Brothers said they had no intention of making one character’s birthday so sad.</td>\n",
       "      <td>Elyse Wanshel</td>\n",
       "      <td>2022-06-07</td>\n",
       "      <td>Tue_Jun</td>\n",
       "    </tr>\n",
       "    <tr>\n",
       "      <th>4</th>\n",
       "      <td>https://www.huffpost.com/entry/quick-reaction-forces-qrf-oath-keepers-capitol-attack_n_61f2d986e4b02de5f51634bd</td>\n",
       "      <td>‘Quick Reaction Forces’ And The Lingering Mysteries Of The Plot Against The Capitol</td>\n",
       "      <td>12</td>\n",
       "      <td>The Oath Keeper “QRFs” show how things could have been a lot worse, and how much more there is to learn.</td>\n",
       "      <td>Ryan J. Reilly</td>\n",
       "      <td>2022-01-28</td>\n",
       "      <td>Fri_Jan</td>\n",
       "    </tr>\n",
       "  </tbody>\n",
       "</table>\n",
       "</div>"
      ],
      "text/plain": [
       "                                                                                                                                   link  \\\n",
       "0  https://www.huffpost.com/entry/the-batman-gives-movie-theaters-a-new-hope-with-big-launch_n_6224f08be4b042f866ef757c                   \n",
       "1  https://www.huffpost.com/entry/the-batman-still-no-1-crosses-300-million_n_62375be8e4b019fd812f26b3                                    \n",
       "2  https://www.huffpost.com/entry/stranger-things-surfer-boy-pizza-number-surprise_n_62cc65dae4b02e0ac917b846                             \n",
       "3  https://www.huffpost.com/entry/stranger-things-creators-admit-they-made-huge-continuity-error-in-season-4_n_629f8ba3e4b05fe694f94b72   \n",
       "4  https://www.huffpost.com/entry/quick-reaction-forces-qrf-oath-keepers-capitol-attack_n_61f2d986e4b02de5f51634bd                        \n",
       "\n",
       "                                                                               headline  \\\n",
       "0  ‘The Batman’ Gives Movie Theaters A New Hope With Big Launch                           \n",
       "1  ‘The Batman,’ Still No. 1, Crosses $300 Million                                        \n",
       "2  ‘Stranger Things’ Fans Who Call The Surfer Boy Pizza Number Will Get Gnarly Surprise   \n",
       "3  ‘Stranger Things’ Creators Admit They Made Huge Continuity Error In Season 4           \n",
       "4  ‘Quick Reaction Forces’ And The Lingering Mysteries Of The Plot Against The Capitol    \n",
       "\n",
       "   category  \\\n",
       "0  6          \n",
       "1  6          \n",
       "2  6          \n",
       "3  6          \n",
       "4  12         \n",
       "\n",
       "                                                                                                                     short_description  \\\n",
       "0  “The Batman,” starring Robert Pattinson, took in $128.5 million in its box office debut over the weekend.                             \n",
       "1  “The Batman” is still going strong three weeks into its theatrical run, with a tight grip on the top spot at the box office.          \n",
       "2  People who call the number featured on the side of Argyle’s truck are getting something way sweeter than a pineapple pizza topping.   \n",
       "3  The Duffer Brothers said they had no intention of making one character’s birthday so sad.                                             \n",
       "4  The Oath Keeper “QRFs” show how things could have been a lot worse, and how much more there is to learn.                              \n",
       "\n",
       "            authors       date day and month  \n",
       "0  Lindsey Bahr, AP 2022-03-06  Sun_Mar       \n",
       "1  Lindsey Bahr, AP 2022-03-20  Sun_Mar       \n",
       "2  Elyse Wanshel    2022-07-11  Mon_Jul       \n",
       "3  Elyse Wanshel    2022-06-07  Tue_Jun       \n",
       "4  Ryan J. Reilly   2022-01-28  Fri_Jan       "
      ]
     },
     "execution_count": 110,
     "metadata": {},
     "output_type": "execute_result"
    }
   ],
   "source": [
    "news_articles1.head()"
   ]
  },
  {
   "cell_type": "code",
   "execution_count": 111,
   "metadata": {},
   "outputs": [],
   "source": [
    "# split dataset in features and target variable\n",
    "\n",
    "# Features\n",
    "X = news_articles1.drop(columns=[\"category\"])\n",
    "\n",
    "# Target variable\n",
    "y = news_articles1['category'] \n",
    "\n",
    "\n",
    "from sklearn.model_selection import train_test_split\n",
    "X_train, X_test, y_train, y_test = train_test_split(X, y, test_size=0.3, random_state=1) # 70% training and 30% test"
   ]
  },
  {
   "cell_type": "code",
   "execution_count": 112,
   "metadata": {},
   "outputs": [],
   "source": [
    "vectorizer = TfidfVectorizer()\n",
    "#fit_transform for train data\n",
    "X_train = vectorizer.fit_transform(X_train['headline'])\n",
    "#transform for test data\n",
    "X_test = vectorizer.transform(X_test['headline'])\n"
   ]
  },
  {
   "cell_type": "code",
   "execution_count": 113,
   "metadata": {},
   "outputs": [
    {
     "data": {
      "text/plain": [
       "<942x3921 sparse matrix of type '<class 'numpy.float64'>'\n",
       "\twith 10285 stored elements in Compressed Sparse Row format>"
      ]
     },
     "execution_count": 113,
     "metadata": {},
     "output_type": "execute_result"
    }
   ],
   "source": [
    "X_train"
   ]
  },
  {
   "cell_type": "code",
   "execution_count": 123,
   "metadata": {},
   "outputs": [],
   "source": [
    "from sklearn.linear_model import LogisticRegression\n",
    "from sklearn.metrics import classification_report \n",
    "from sklearn import metrics #Import scikit-learn metrics module for accuracy calculation"
   ]
  },
  {
   "cell_type": "code",
   "execution_count": 124,
   "metadata": {},
   "outputs": [
    {
     "data": {
      "text/html": [
       "<style>#sk-container-id-2 {color: black;background-color: white;}#sk-container-id-2 pre{padding: 0;}#sk-container-id-2 div.sk-toggleable {background-color: white;}#sk-container-id-2 label.sk-toggleable__label {cursor: pointer;display: block;width: 100%;margin-bottom: 0;padding: 0.3em;box-sizing: border-box;text-align: center;}#sk-container-id-2 label.sk-toggleable__label-arrow:before {content: \"▸\";float: left;margin-right: 0.25em;color: #696969;}#sk-container-id-2 label.sk-toggleable__label-arrow:hover:before {color: black;}#sk-container-id-2 div.sk-estimator:hover label.sk-toggleable__label-arrow:before {color: black;}#sk-container-id-2 div.sk-toggleable__content {max-height: 0;max-width: 0;overflow: hidden;text-align: left;background-color: #f0f8ff;}#sk-container-id-2 div.sk-toggleable__content pre {margin: 0.2em;color: black;border-radius: 0.25em;background-color: #f0f8ff;}#sk-container-id-2 input.sk-toggleable__control:checked~div.sk-toggleable__content {max-height: 200px;max-width: 100%;overflow: auto;}#sk-container-id-2 input.sk-toggleable__control:checked~label.sk-toggleable__label-arrow:before {content: \"▾\";}#sk-container-id-2 div.sk-estimator input.sk-toggleable__control:checked~label.sk-toggleable__label {background-color: #d4ebff;}#sk-container-id-2 div.sk-label input.sk-toggleable__control:checked~label.sk-toggleable__label {background-color: #d4ebff;}#sk-container-id-2 input.sk-hidden--visually {border: 0;clip: rect(1px 1px 1px 1px);clip: rect(1px, 1px, 1px, 1px);height: 1px;margin: -1px;overflow: hidden;padding: 0;position: absolute;width: 1px;}#sk-container-id-2 div.sk-estimator {font-family: monospace;background-color: #f0f8ff;border: 1px dotted black;border-radius: 0.25em;box-sizing: border-box;margin-bottom: 0.5em;}#sk-container-id-2 div.sk-estimator:hover {background-color: #d4ebff;}#sk-container-id-2 div.sk-parallel-item::after {content: \"\";width: 100%;border-bottom: 1px solid gray;flex-grow: 1;}#sk-container-id-2 div.sk-label:hover label.sk-toggleable__label {background-color: #d4ebff;}#sk-container-id-2 div.sk-serial::before {content: \"\";position: absolute;border-left: 1px solid gray;box-sizing: border-box;top: 0;bottom: 0;left: 50%;z-index: 0;}#sk-container-id-2 div.sk-serial {display: flex;flex-direction: column;align-items: center;background-color: white;padding-right: 0.2em;padding-left: 0.2em;position: relative;}#sk-container-id-2 div.sk-item {position: relative;z-index: 1;}#sk-container-id-2 div.sk-parallel {display: flex;align-items: stretch;justify-content: center;background-color: white;position: relative;}#sk-container-id-2 div.sk-item::before, #sk-container-id-2 div.sk-parallel-item::before {content: \"\";position: absolute;border-left: 1px solid gray;box-sizing: border-box;top: 0;bottom: 0;left: 50%;z-index: -1;}#sk-container-id-2 div.sk-parallel-item {display: flex;flex-direction: column;z-index: 1;position: relative;background-color: white;}#sk-container-id-2 div.sk-parallel-item:first-child::after {align-self: flex-end;width: 50%;}#sk-container-id-2 div.sk-parallel-item:last-child::after {align-self: flex-start;width: 50%;}#sk-container-id-2 div.sk-parallel-item:only-child::after {width: 0;}#sk-container-id-2 div.sk-dashed-wrapped {border: 1px dashed gray;margin: 0 0.4em 0.5em 0.4em;box-sizing: border-box;padding-bottom: 0.4em;background-color: white;}#sk-container-id-2 div.sk-label label {font-family: monospace;font-weight: bold;display: inline-block;line-height: 1.2em;}#sk-container-id-2 div.sk-label-container {text-align: center;}#sk-container-id-2 div.sk-container {/* jupyter's `normalize.less` sets `[hidden] { display: none; }` but bootstrap.min.css set `[hidden] { display: none !important; }` so we also need the `!important` here to be able to override the default hidden behavior on the sphinx rendered scikit-learn.org. See: https://github.com/scikit-learn/scikit-learn/issues/21755 */display: inline-block !important;position: relative;}#sk-container-id-2 div.sk-text-repr-fallback {display: none;}</style><div id=\"sk-container-id-2\" class=\"sk-top-container\"><div class=\"sk-text-repr-fallback\"><pre>LogisticRegression(random_state=42)</pre><b>In a Jupyter environment, please rerun this cell to show the HTML representation or trust the notebook. <br />On GitHub, the HTML representation is unable to render, please try loading this page with nbviewer.org.</b></div><div class=\"sk-container\" hidden><div class=\"sk-item\"><div class=\"sk-estimator sk-toggleable\"><input class=\"sk-toggleable__control sk-hidden--visually\" id=\"sk-estimator-id-2\" type=\"checkbox\" checked><label for=\"sk-estimator-id-2\" class=\"sk-toggleable__label sk-toggleable__label-arrow\">LogisticRegression</label><div class=\"sk-toggleable__content\"><pre>LogisticRegression(random_state=42)</pre></div></div></div></div></div>"
      ],
      "text/plain": [
       "LogisticRegression(random_state=42)"
      ]
     },
     "execution_count": 124,
     "metadata": {},
     "output_type": "execute_result"
    }
   ],
   "source": [
    "model = LogisticRegression(random_state = 42)\n",
    "model.fit(X_train, y_train)"
   ]
  },
  {
   "cell_type": "code",
   "execution_count": 126,
   "metadata": {},
   "outputs": [
    {
     "name": "stdout",
     "output_type": "stream",
     "text": [
      "accuracy:0.51605\n"
     ]
    }
   ],
   "source": [
    "y_pred = model.predict(X_test)\n",
    "accuracy = round(metrics.accuracy_score(y_test, y_pred),5)\n",
    "\n",
    "print(f'accuracy:{accuracy}')"
   ]
  },
  {
   "cell_type": "code",
   "execution_count": 129,
   "metadata": {},
   "outputs": [],
   "source": [
    "#print(metrics.classification_report(y_test, y_pred))"
   ]
  },
  {
   "cell_type": "code",
   "execution_count": null,
   "metadata": {},
   "outputs": [],
   "source": []
  }
 ],
 "metadata": {
  "kernelspec": {
   "display_name": "Python 3 (ipykernel)",
   "language": "python",
   "name": "python3"
  },
  "language_info": {
   "codemirror_mode": {
    "name": "ipython",
    "version": 3
   },
   "file_extension": ".py",
   "mimetype": "text/x-python",
   "name": "python",
   "nbconvert_exporter": "python",
   "pygments_lexer": "ipython3",
   "version": "3.9.10"
  }
 },
 "nbformat": 4,
 "nbformat_minor": 4
}
