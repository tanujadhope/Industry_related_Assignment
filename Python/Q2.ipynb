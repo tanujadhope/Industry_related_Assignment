{
 "cells": [
  {
   "cell_type": "code",
   "execution_count": 1,
   "id": "edd609ac",
   "metadata": {},
   "outputs": [],
   "source": [
    "def valid_string(s):\n",
    "    char_frequency = {}  # Initialize an empty dictionary to store character frequencies\n",
    "    \n",
    "    # Count the frequency of each character in the string\n",
    "    for char in s:\n",
    "        if char in char_frequency:\n",
    "            char_frequency[char] += 1\n",
    "        else:\n",
    "            char_frequency[char] = 1\n",
    "    \n",
    "    # Check if all characters have the same frequency\n",
    "    frequencies = list(char_frequency.values())  # Get a list of all frequencies\n",
    "    if all(freq == frequencies[0] for freq in frequencies): #if freq of first character == freq of the rest\n",
    "        return \"YES\"  # Valid string: all characters have the same frequency\n",
    "    \n",
    "    # Check if removing one character makes the remaining characters have the same frequency\n",
    "    for char in char_frequency:\n",
    "        char_frequency[s[0]] -= 1  # Decrease the frequency of the current character by 1\n",
    "        remaining_frequencies = list(char_frequency.values())  # Get a list of remaining frequencies\n",
    "        \n",
    "        if all(freq == remaining_frequencies[0] for freq in remaining_frequencies) and len(set(remaining_frequencies)) == 1:\n",
    "            return \"YES\"  # Valid string after removing one character\n",
    "        \n",
    "        char_frequency[char] += 1  # Restore the frequency of the current character\n",
    "    \n",
    "    return \"NO\"  # Invalid string: unable to make all characters have the same frequency\n",
    "\n",
    "\n",
    "\n"
   ]
  },
  {
   "cell_type": "code",
   "execution_count": 4,
   "id": "00bd52b4",
   "metadata": {},
   "outputs": [
    {
     "name": "stdout",
     "output_type": "stream",
     "text": [
      "YES\n",
      "NO\n",
      "NO\n"
     ]
    }
   ],
   "source": [
    "# Example test cases\n",
    "inputs = [\n",
    "    \"abc\",\n",
    "    \"abcc\",\n",
    "    \"abcddc\"\n",
    "]\n",
    "\n",
    "for s in inputs:\n",
    "    print(valid_string(s))\n",
    "\n",
    "\n",
    "    "
   ]
  },
  {
   "cell_type": "code",
   "execution_count": null,
   "id": "4ad8a393",
   "metadata": {},
   "outputs": [],
   "source": []
  }
 ],
 "metadata": {
  "kernelspec": {
   "display_name": "Python 3 (ipykernel)",
   "language": "python",
   "name": "python3"
  },
  "language_info": {
   "codemirror_mode": {
    "name": "ipython",
    "version": 3
   },
   "file_extension": ".py",
   "mimetype": "text/x-python",
   "name": "python",
   "nbconvert_exporter": "python",
   "pygments_lexer": "ipython3",
   "version": "3.9.10"
  }
 },
 "nbformat": 4,
 "nbformat_minor": 5
}
