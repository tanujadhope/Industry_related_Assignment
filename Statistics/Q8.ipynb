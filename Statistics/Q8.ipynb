{
 "cells": [
  {
   "cell_type": "code",
   "execution_count": 8,
   "id": "26048429",
   "metadata": {},
   "outputs": [
    {
     "name": "stdout",
     "output_type": "stream",
     "text": [
      "Collecting openpyxl\n",
      "  Downloading openpyxl-3.1.2-py2.py3-none-any.whl (249 kB)\n",
      "                                              0.0/250.0 kB ? eta -:--:--\n",
      "     ---------                               61.4/250.0 kB 1.1 MB/s eta 0:00:01\n",
      "     ----------------------------------     225.3/250.0 kB 2.7 MB/s eta 0:00:01\n",
      "     -------------------------------------  245.8/250.0 kB 2.5 MB/s eta 0:00:01\n",
      "     -------------------------------------- 250.0/250.0 kB 1.4 MB/s eta 0:00:00\n",
      "Collecting et-xmlfile (from openpyxl)\n",
      "  Using cached et_xmlfile-1.1.0-py3-none-any.whl (4.7 kB)\n",
      "Installing collected packages: et-xmlfile, openpyxl\n",
      "Successfully installed et-xmlfile-1.1.0 openpyxl-3.1.2\n",
      "Note: you may need to restart the kernel to use updated packages.\n"
     ]
    },
    {
     "name": "stderr",
     "output_type": "stream",
     "text": [
      "WARNING: Ignoring invalid distribution -illow (c:\\users\\pc\\appdata\\local\\programs\\python\\python39\\lib\\site-packages)\n",
      "WARNING: Ignoring invalid distribution -illow (c:\\users\\pc\\appdata\\local\\programs\\python\\python39\\lib\\site-packages)\n"
     ]
    }
   ],
   "source": [
    "pip install openpyxl --upgrade"
   ]
  },
  {
   "cell_type": "code",
   "execution_count": 9,
   "id": "b7c171e0",
   "metadata": {},
   "outputs": [],
   "source": [
    "import scipy.stats as stats\n",
    "import pandas as pd"
   ]
  },
  {
   "cell_type": "code",
   "execution_count": 10,
   "id": "b7d1f0c0",
   "metadata": {},
   "outputs": [],
   "source": [
    "# Read data from Excel file\n",
    "data = pd.read_excel(r'D:\\ineuron\\Placement related assignment\\Stat_Problem_Solutions\\data2.xlsx')"
   ]
  },
  {
   "cell_type": "code",
   "execution_count": 11,
   "id": "f36ab0d0",
   "metadata": {},
   "outputs": [],
   "source": [
    "# Extract the required columns\n",
    "before_therapy = data['before therapy']\n",
    "after_therapy = data['after therapy']\n",
    "difference = data['difference']"
   ]
  },
  {
   "cell_type": "code",
   "execution_count": 12,
   "id": "f5ef2755",
   "metadata": {},
   "outputs": [
    {
     "name": "stdout",
     "output_type": "stream",
     "text": [
      "Wilcoxon statistic: 0.0\n",
      "p-value: 0.001953125\n",
      "\n",
      "As pvalue : 0.001953125 < significance_level : 0.05\n",
      "Yes,The therapy had a significant effect on anxiety levels (reject null hypothesis)\n"
     ]
    }
   ],
   "source": [
    "# Perform Wilcoxon signed-rank test\n",
    "statistic, p_value = stats.wilcoxon(difference)   # returns the test statistic and the p-value.\n",
    "\n",
    "print(\"Wilcoxon statistic:\", statistic)\n",
    "print(\"p-value:\", p_value)\n",
    "print()\n",
    "\n",
    "# Interpret the results\n",
    "significance_level= 0.05\n",
    "if p_value < 0.05:\n",
    "    print(f\"As pvalue : {p_value} < significance_level : {significance_level}\")\n",
    "    print(\"Yes,The therapy had a significant effect on anxiety levels (reject null hypothesis)\")\n",
    "elif p_value >= 0.05:\n",
    "    print(f\"As p_value : {p_value} >= significance_level : {significance_level}\")\n",
    "    print(\"The therapy did not have a significant effect on anxiety levels (fail to reject null hypothesis)\")\n"
   ]
  },
  {
   "cell_type": "code",
   "execution_count": null,
   "id": "62164212",
   "metadata": {},
   "outputs": [],
   "source": []
  }
 ],
 "metadata": {
  "kernelspec": {
   "display_name": "Python 3 (ipykernel)",
   "language": "python",
   "name": "python3"
  },
  "language_info": {
   "codemirror_mode": {
    "name": "ipython",
    "version": 3
   },
   "file_extension": ".py",
   "mimetype": "text/x-python",
   "name": "python",
   "nbconvert_exporter": "python",
   "pygments_lexer": "ipython3",
   "version": "3.9.10"
  }
 },
 "nbformat": 4,
 "nbformat_minor": 5
}
