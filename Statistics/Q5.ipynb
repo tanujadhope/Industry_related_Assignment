{
 "cells": [
  {
   "cell_type": "code",
   "execution_count": 1,
   "id": "ddf54227",
   "metadata": {},
   "outputs": [
    {
     "data": {
      "text/plain": [
       "'\\nA: The taxi belongs to Company A\\nB: The taxi is late\\n\\n'"
      ]
     },
     "execution_count": 1,
     "metadata": {},
     "output_type": "execute_result"
    }
   ],
   "source": [
    "#question 5\n",
    "\"\"\"\n",
    "A: The taxi belongs to Company A\n",
    "B: The taxi is late\n",
    "\n",
    "\"\"\""
   ]
  },
  {
   "cell_type": "code",
   "execution_count": 2,
   "id": "4d1465a9",
   "metadata": {},
   "outputs": [
    {
     "name": "stdout",
     "output_type": "stream",
     "text": [
      "P_not_A : 0.19999999999999996\n",
      "P_B : 0.060000000000000005\n",
      "The probability that a randomly selected late taxi belongs to Company A: 0.6666666666666667\n"
     ]
    }
   ],
   "source": [
    "\n",
    "# Given probabilities\n",
    "P_A = 0.8\n",
    "P_B=0.2\n",
    "P_B_given_A = 0.05     #95% success rate     P(B|A)  = 1 - 0.95 = 0.05 (since the success rate is the complement of being late)\n",
    "P_B_given_not_A = 0.1  #90% success rate     P(B|~A) = 1 - 0.9  = 0.1 (represents the probability of a taxi being late given that it does not belong to Company A)\n",
    "\n",
    "# Calculate P(not A)\n",
    "P_not_A = 1 - P_A\n",
    "print(f\"P_not_A : {P_not_A}\")\n",
    "\n",
    "# Calculate P(B)= P(B|A) * P(A) + P(B|~A) * P(~A)\n",
    "P_B = P_B_given_A * P_A + P_B_given_not_A * P_not_A # 0.05 * 0.8 + 0.1 * 0.2\n",
    "print(f\"P_B : {P_B}\")\n",
    "\n",
    "# Calculate P(A|B) = (P(B|A) * P(A)) / P(B) = (0.05 * 0.8) / 0.06\n",
    "P_A_given_B = (P_B_given_A * P_A) / P_B \n",
    "print(\"The probability that a randomly selected late taxi belongs to Company A:\", P_A_given_B)"
   ]
  },
  {
   "cell_type": "code",
   "execution_count": null,
   "id": "e12bc459",
   "metadata": {},
   "outputs": [],
   "source": []
  }
 ],
 "metadata": {
  "kernelspec": {
   "display_name": "Python 3 (ipykernel)",
   "language": "python",
   "name": "python3"
  },
  "language_info": {
   "codemirror_mode": {
    "name": "ipython",
    "version": 3
   },
   "file_extension": ".py",
   "mimetype": "text/x-python",
   "name": "python",
   "nbconvert_exporter": "python",
   "pygments_lexer": "ipython3",
   "version": "3.9.10"
  }
 },
 "nbformat": 4,
 "nbformat_minor": 5
}
